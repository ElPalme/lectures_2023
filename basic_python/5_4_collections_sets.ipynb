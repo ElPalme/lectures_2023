{
 "cells": [
  {
   "cell_type": "markdown",
   "id": "fe896714",
   "metadata": {},
   "source": [
    "# Sets\n",
    "\n",
    "Sets are unordered collections of unique items like in mathematics. They are useful for keeping track of objects you have seen and testing membership. \n",
    "\n",
    "Sets are declared using `{}`."
   ]
  },
  {
   "cell_type": "code",
   "execution_count": null,
   "id": "2f43ae21",
   "metadata": {},
   "outputs": [],
   "source": [
    "a_set = {1, 2, 3}\n",
    "a_set"
   ]
  },
  {
   "cell_type": "markdown",
   "id": "e0f8baf4",
   "metadata": {},
   "source": [
    "Sets are unqiue. This means that there cannot be several same values in a set, but just one unique."
   ]
  },
  {
   "cell_type": "code",
   "execution_count": 1,
   "id": "ec42d41b",
   "metadata": {},
   "outputs": [
    {
     "data": {
      "text/plain": [
       "{1, 2, 3}"
      ]
     },
     "execution_count": 1,
     "metadata": {},
     "output_type": "execute_result"
    }
   ],
   "source": [
    "unique_set = {1, 2, 3, 3, 3, 3}\n",
    "unique_set"
   ]
  },
  {
   "cell_type": "markdown",
   "id": "68b01b3a",
   "metadata": {},
   "source": [
    "Empty sets can't be declared with literals and are easily confused with empty `dicts`. Instead an explicit constructor has to be used"
   ]
  },
  {
   "cell_type": "code",
   "execution_count": 2,
   "id": "9014bdfc",
   "metadata": {},
   "outputs": [
    {
     "data": {
      "text/plain": [
       "(set(), set)"
      ]
     },
     "execution_count": 2,
     "metadata": {},
     "output_type": "execute_result"
    }
   ],
   "source": [
    "empty_set = set()\n",
    "empty_set, type(empty_set)"
   ]
  },
  {
   "cell_type": "code",
   "execution_count": 3,
   "id": "01fe7702",
   "metadata": {},
   "outputs": [
    {
     "data": {
      "text/plain": [
       "({}, dict)"
      ]
     },
     "execution_count": 3,
     "metadata": {},
     "output_type": "execute_result"
    }
   ],
   "source": [
    "empty_dict = {}\n",
    "empty_dict, type(empty_dict)"
   ]
  },
  {
   "cell_type": "markdown",
   "id": "59fe48dc",
   "metadata": {},
   "source": [
    "`Set-operation` are far more efficient for sets than for lists!"
   ]
  },
  {
   "cell_type": "code",
   "execution_count": null,
   "id": "b8127cc0",
   "metadata": {},
   "outputs": [],
   "source": [
    "s1 = {1,2,3}\n",
    "s2 = {3,4,5}\n",
    "\n",
    "print(\"s1\", s1)\n",
    "print(\"s2\", s2)\n",
    "print(\"union\", s1 | s2) \n",
    "print(\"intersection\", s1 & s2) \n",
    "print(\"difference\", s1 - s2)\n",
    "print(\"is s1 a subset of s2?\", s1 <= s2)\n",
    "print(\"XOR\", s1 ^ s2)"
   ]
  },
  {
   "cell_type": "markdown",
   "id": "c685b7c6",
   "metadata": {},
   "source": [
    "Sets are fast at membership tests."
   ]
  },
  {
   "cell_type": "code",
   "execution_count": null,
   "id": "cfdd5f47",
   "metadata": {},
   "outputs": [],
   "source": [
    "set_members = set(range(1000))\n",
    "list_members = list(range(1000))"
   ]
  },
  {
   "cell_type": "code",
   "execution_count": null,
   "id": "d06b5d64",
   "metadata": {},
   "outputs": [],
   "source": [
    "%%timeit\n",
    "900 in set_members"
   ]
  },
  {
   "cell_type": "code",
   "execution_count": null,
   "id": "168610ad",
   "metadata": {},
   "outputs": [],
   "source": [
    "%%timeit\n",
    "900 in list_members"
   ]
  },
  {
   "cell_type": "markdown",
   "id": "46ccac9d",
   "metadata": {},
   "source": [
    "<div class=\"alert alert-block alert-info\">\n",
    "<b>Exercise:</b> \n",
    "    <br>\n",
    "    How can we make the items in the following list unique?\n",
    "</div>"
   ]
  },
  {
   "cell_type": "code",
   "execution_count": null,
   "id": "9e5805b6",
   "metadata": {},
   "outputs": [],
   "source": [
    "cakes = [\"cheesecake\", \"raspberry pi\", \"cheesecake\", \"strawberry pie\"]"
   ]
  },
  {
   "cell_type": "code",
   "execution_count": null,
   "id": "5364898c",
   "metadata": {},
   "outputs": [],
   "source": [
    "# here you have space to experiment"
   ]
  }
 ],
 "metadata": {
  "kernelspec": {
   "display_name": "Python 3 (ipykernel)",
   "language": "python",
   "name": "python3"
  },
  "language_info": {
   "codemirror_mode": {
    "name": "ipython",
    "version": 3
   },
   "file_extension": ".py",
   "mimetype": "text/x-python",
   "name": "python",
   "nbconvert_exporter": "python",
   "pygments_lexer": "ipython3",
   "version": "3.9.12"
  }
 },
 "nbformat": 4,
 "nbformat_minor": 5
}
