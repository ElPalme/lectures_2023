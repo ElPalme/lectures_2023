{
 "cells": [
  {
   "cell_type": "markdown",
   "id": "3a472507",
   "metadata": {},
   "source": [
    "# Integers"
   ]
  },
  {
   "cell_type": "markdown",
   "id": "ff5dd49e",
   "metadata": {},
   "source": [
    "Integers belong to the basic types in python. They can be positive or negative."
   ]
  },
  {
   "cell_type": "code",
   "execution_count": null,
   "id": "d67a1c10",
   "metadata": {},
   "outputs": [],
   "source": [
    "1"
   ]
  },
  {
   "cell_type": "code",
   "execution_count": null,
   "id": "7040f638",
   "metadata": {},
   "outputs": [],
   "source": [
    "-28"
   ]
  },
  {
   "cell_type": "markdown",
   "id": "16388b11",
   "metadata": {},
   "source": [
    "With the inbuild function `type()` you can find out the type of a certain object. <br>"
   ]
  },
  {
   "cell_type": "code",
   "execution_count": null,
   "id": "8637159d",
   "metadata": {},
   "outputs": [],
   "source": [
    "type(14)"
   ]
  },
  {
   "cell_type": "code",
   "execution_count": null,
   "id": "6e9bcc22",
   "metadata": {},
   "outputs": [],
   "source": [
    "type(-112)"
   ]
  },
  {
   "cell_type": "markdown",
   "id": "254cdd97",
   "metadata": {},
   "source": [
    "Since integers belong to the `basic types` and therefore are objects, they come with methods, so they provide us with different functions.\n",
    "Integers have a lot of methods which we can check with dir."
   ]
  },
  {
   "cell_type": "code",
   "execution_count": null,
   "id": "bf224986",
   "metadata": {},
   "outputs": [],
   "source": [
    "dir(14)"
   ]
  },
  {
   "cell_type": "markdown",
   "id": "b5498142",
   "metadata": {},
   "source": [
    "Most of these methods are dunder methods (**d**ouble **under**) which determine the types behaviour for built-in operators and functions.<br>\n",
    "For example `+` which will call `__add__`"
   ]
  },
  {
   "cell_type": "code",
   "execution_count": null,
   "id": "6a820030",
   "metadata": {},
   "outputs": [],
   "source": [
    "(1).__add__(1)"
   ]
  },
  {
   "cell_type": "code",
   "execution_count": null,
   "id": "a816194d",
   "metadata": {},
   "outputs": [],
   "source": [
    "1 + 1"
   ]
  },
  {
   "cell_type": "markdown",
   "id": "3773e4dc",
   "metadata": {},
   "source": [
    "# Floats (floating point number)"
   ]
  },
  {
   "cell_type": "markdown",
   "id": "22671806",
   "metadata": {},
   "source": [
    "Floats also belonge to the `basic types`. They can be written as a decimal number `1.23` or in a scientific notation `123e-2`. <br>\n",
    "If you are using the decimal number notation make sure you are using a dott and not a comma. Otherwise python will automatically create a tuple for you. We will see what a tuple is in another notebook."
   ]
  },
  {
   "cell_type": "code",
   "execution_count": null,
   "id": "23fd3fd1",
   "metadata": {},
   "outputs": [],
   "source": [
    "1.23"
   ]
  },
  {
   "cell_type": "code",
   "execution_count": null,
   "id": "4fd6a2d0",
   "metadata": {},
   "outputs": [],
   "source": [
    "1,23"
   ]
  },
  {
   "cell_type": "code",
   "execution_count": null,
   "id": "59da48e9",
   "metadata": {},
   "outputs": [],
   "source": [
    "type((1,23))"
   ]
  },
  {
   "cell_type": "code",
   "execution_count": null,
   "id": "7e422312",
   "metadata": {},
   "outputs": [],
   "source": [
    "123e-2"
   ]
  },
  {
   "cell_type": "code",
   "execution_count": null,
   "id": "cd1152f7",
   "metadata": {},
   "outputs": [],
   "source": [
    "type(1.23)"
   ]
  },
  {
   "cell_type": "code",
   "execution_count": null,
   "id": "1dce178c",
   "metadata": {},
   "outputs": [],
   "source": [
    "type(123e-2)"
   ]
  },
  {
   "cell_type": "markdown",
   "id": "a39464eb",
   "metadata": {},
   "source": [
    "## numeric operators"
   ]
  },
  {
   "cell_type": "markdown",
   "id": "c933f9e4",
   "metadata": {},
   "source": [
    "Like you would expect we can use numeric operators."
   ]
  },
  {
   "cell_type": "code",
   "execution_count": null,
   "id": "d795bf49",
   "metadata": {},
   "outputs": [],
   "source": [
    "a = 2\n",
    "b = 3\n",
    "\n",
    "print('a + b = ', a + b)\n",
    "print('a - b = ', a - b)\n",
    "print('a * b = ', a * b)\n",
    "print('a ** b = ', a ** b)  # a to the power of b (a^b is a bit-wise XOR!)\n",
    "print('a / b = ', a / b)\n",
    "print('a // b = ', a // b)  # Floor division \n",
    "print('b % a = ', b % a)    # Modulo operator (divide, return remainder)"
   ]
  },
  {
   "cell_type": "markdown",
   "id": "db0746e1",
   "metadata": {},
   "source": [
    "One thing to note is that the type of result may differ from the input:"
   ]
  },
  {
   "cell_type": "code",
   "execution_count": null,
   "id": "53e58e44",
   "metadata": {},
   "outputs": [],
   "source": [
    "print(type(a), type(b), type(a / b))"
   ]
  },
  {
   "cell_type": "markdown",
   "id": "6e29377e",
   "metadata": {},
   "source": [
    "---\n",
    "# Strings"
   ]
  },
  {
   "cell_type": "markdown",
   "id": "b934d82e",
   "metadata": {},
   "source": [
    "A **`string`** is a sequence of characters written in between double quotes `\" \"`"
   ]
  },
  {
   "cell_type": "code",
   "execution_count": null,
   "id": "ba329467",
   "metadata": {},
   "outputs": [],
   "source": [
    "\"this is a string\""
   ]
  },
  {
   "cell_type": "markdown",
   "id": "1ba6166b",
   "metadata": {},
   "source": [
    "We can exchange or even add double quotes to single quotes, as long as we dont mix them."
   ]
  },
  {
   "cell_type": "code",
   "execution_count": null,
   "id": "e40d7657",
   "metadata": {},
   "outputs": [],
   "source": [
    "'this is also a string'"
   ]
  },
  {
   "cell_type": "code",
   "execution_count": null,
   "id": "e4d6b200",
   "metadata": {},
   "outputs": [],
   "source": [
    "\"'and even this is a string'\""
   ]
  },
  {
   "cell_type": "code",
   "execution_count": null,
   "id": "27f70251",
   "metadata": {},
   "outputs": [],
   "source": [
    "\"but this is not a string'"
   ]
  },
  {
   "cell_type": "markdown",
   "id": "96c4991e",
   "metadata": {},
   "source": [
    "If we want our string to cointain both single and double quotes we can make use of triple quotes.\n",
    "This also allows us to include line breaks."
   ]
  },
  {
   "cell_type": "code",
   "execution_count": null,
   "id": "f94d1a89",
   "metadata": {},
   "outputs": [],
   "source": [
    "a = \"\"\"\n",
    "    hello\n",
    "    \"'world'\"\n",
    "    \"\"\"\n",
    "print(a)"
   ]
  },
  {
   "cell_type": "markdown",
   "id": "f43579a4",
   "metadata": {},
   "source": [
    "## string operators\n",
    "Most of the numeric operatores also work for strings."
   ]
  },
  {
   "cell_type": "code",
   "execution_count": null,
   "id": "3f52f5c9",
   "metadata": {},
   "outputs": [],
   "source": [
    "'hello' + 'world'"
   ]
  },
  {
   "cell_type": "code",
   "execution_count": null,
   "id": "b97199d0",
   "metadata": {},
   "outputs": [],
   "source": [
    "'hello' * 3"
   ]
  },
  {
   "cell_type": "markdown",
   "id": "e3d4492a",
   "metadata": {},
   "source": [
    "<div class=\"alert alert-block alert-info\">\n",
    "<b>Exercise:</b> \n",
    "    <br> Which numeric opperators do not work for strings? \n",
    "</div>"
   ]
  },
  {
   "cell_type": "code",
   "execution_count": null,
   "id": "000deeff",
   "metadata": {},
   "outputs": [],
   "source": [
    "# here is some space for you to experiment"
   ]
  },
  {
   "cell_type": "markdown",
   "id": "a37d764f",
   "metadata": {},
   "source": [
    "---\n",
    "# Booleans"
   ]
  },
  {
   "cell_type": "markdown",
   "id": "fd122776",
   "metadata": {},
   "source": [
    "A **`boolean`** can have the value `true` or `false` or respectively `1` and `0`."
   ]
  },
  {
   "cell_type": "code",
   "execution_count": null,
   "id": "8e776883",
   "metadata": {},
   "outputs": [],
   "source": [
    "True"
   ]
  },
  {
   "cell_type": "code",
   "execution_count": null,
   "id": "7b86c989",
   "metadata": {},
   "outputs": [],
   "source": [
    "False"
   ]
  },
  {
   "cell_type": "markdown",
   "id": "e6cd55a1",
   "metadata": {},
   "source": [
    "## boolean operators"
   ]
  },
  {
   "cell_type": "markdown",
   "id": "e412d7fa",
   "metadata": {},
   "source": [
    "Boolean operators can be used to compare two things."
   ]
  },
  {
   "cell_type": "code",
   "execution_count": null,
   "id": "987daca7",
   "metadata": {},
   "outputs": [],
   "source": [
    "a = 2\n",
    "b = 3\n",
    "\n",
    "print('a > b ?', a > b)    \n",
    "print('a >= b ?', a >= b)  \n",
    "print('a == b ?', a == b)   \n",
    "print('a != b ?', a != b)  # a not equal b\n",
    "print('a < b ?', a < b)\n",
    "print('a <= b ?', a <= b)"
   ]
  },
  {
   "cell_type": "markdown",
   "id": "ac9be200",
   "metadata": {},
   "source": [
    "<div class=\"alert alert-block alert-warning\">\n",
    "<b>Important:</b> \n",
    "    <br> Remember that you have to use == to compare two things. If you just use = you are assigning a variable when you are using a name (more to that later) or get an error.\n",
    "</div>"
   ]
  },
  {
   "cell_type": "code",
   "execution_count": 16,
   "id": "55c0d2e6",
   "metadata": {},
   "outputs": [
    {
     "ename": "SyntaxError",
     "evalue": "cannot assign to literal (2353802936.py, line 1)",
     "output_type": "error",
     "traceback": [
      "\u001b[0;36m  Input \u001b[0;32mIn [16]\u001b[0;36m\u001b[0m\n\u001b[0;31m    2 = 3\u001b[0m\n\u001b[0m    ^\u001b[0m\n\u001b[0;31mSyntaxError\u001b[0m\u001b[0;31m:\u001b[0m cannot assign to literal\n"
     ]
    }
   ],
   "source": [
    "2 = 3"
   ]
  },
  {
   "cell_type": "markdown",
   "id": "4ae9a92e",
   "metadata": {},
   "source": [
    "We can also use boolean opperators to perform logical opperations on booleans."
   ]
  },
  {
   "cell_type": "code",
   "execution_count": null,
   "id": "a20c5ca6",
   "metadata": {},
   "outputs": [],
   "source": [
    "a = (1 > 3)\n",
    "b = 3 == 3\n",
    "print(a)\n",
    "print(b)\n",
    "\n",
    "print(a or b)\n",
    "print(a and b)\n",
    "print(not b)\n",
    "\n",
    "#There is also | and &, which are equal for booleans, but different for numbers (work on binary level)"
   ]
  },
  {
   "cell_type": "markdown",
   "id": "470eb78d",
   "metadata": {},
   "source": [
    "### is operator\n",
    "The is operator also checks if two variables are the same. But it does not check for the value but whether or not both variables refer to the same object. <br>"
   ]
  },
  {
   "cell_type": "code",
   "execution_count": 18,
   "id": "d564ec26",
   "metadata": {},
   "outputs": [
    {
     "name": "stdout",
     "output_type": "stream",
     "text": [
      "False\n"
     ]
    }
   ],
   "source": [
    "a = 300\n",
    "b = 300\n",
    "print(a is b)"
   ]
  },
  {
   "cell_type": "code",
   "execution_count": null,
   "id": "85b4ce20",
   "metadata": {},
   "outputs": [],
   "source": [
    "b = a\n",
    "print(a is b)"
   ]
  },
  {
   "cell_type": "markdown",
   "id": "f1f230e4",
   "metadata": {},
   "source": [
    "Internally it checks for the objects ids/memory adresses, so the place in the computer's memory where the object is saved."
   ]
  },
  {
   "cell_type": "code",
   "execution_count": 21,
   "id": "1f028a19",
   "metadata": {},
   "outputs": [
    {
     "name": "stdout",
     "output_type": "stream",
     "text": [
      "140471707924784\n",
      "140471707924944\n"
     ]
    }
   ],
   "source": [
    "print(id(a))\n",
    "print(id(b))"
   ]
  },
  {
   "cell_type": "markdown",
   "id": "bce4cbad",
   "metadata": {},
   "source": [
    "If you now run this line you can see that the id of `a` changes even though we did not change the value of `a`. This is due to how the computer internally works with variable assignment."
   ]
  },
  {
   "cell_type": "code",
   "execution_count": 20,
   "id": "7fe1d110",
   "metadata": {},
   "outputs": [
    {
     "name": "stdout",
     "output_type": "stream",
     "text": [
      "140471707924784\n"
     ]
    }
   ],
   "source": [
    "a = 300\n",
    "print(id(a))"
   ]
  }
 ],
 "metadata": {
  "kernelspec": {
   "display_name": "Python 3 (ipykernel)",
   "language": "python",
   "name": "python3"
  },
  "language_info": {
   "codemirror_mode": {
    "name": "ipython",
    "version": 3
   },
   "file_extension": ".py",
   "mimetype": "text/x-python",
   "name": "python",
   "nbconvert_exporter": "python",
   "pygments_lexer": "ipython3",
   "version": "3.9.12"
  }
 },
 "nbformat": 4,
 "nbformat_minor": 5
}
