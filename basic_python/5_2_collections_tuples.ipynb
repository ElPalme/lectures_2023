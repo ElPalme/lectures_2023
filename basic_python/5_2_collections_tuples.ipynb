{
 "cells": [
  {
   "cell_type": "markdown",
   "id": "c2391fc3",
   "metadata": {},
   "source": [
    "## Tuples\n",
    "\n",
    "We won't say a whole lot about tuples except to mention that they basically work just like lists, with\n",
    "two major exceptions:\n",
    "\n",
    "1. You declare tuples using commas, but usually also () instead of []\n",
    "1. Once you make a tuple, you can't change what's in it (__immutable__)\n",
    "\n",
    "You'll see tuples come up throughout the Python language, and over time you'll develop a feel for when\n",
    "to use them. \n",
    "\n",
    "In general, they're often used instead of lists:\n",
    "\n",
    "1. to group items when the position in the collection is critical, such as coord = (x,y)\n",
    "1. when you want to make prevent accidental modification of the items, e.g. shape = (12,23)"
   ]
  },
  {
   "cell_type": "code",
   "execution_count": null,
   "id": "5784504a",
   "metadata": {},
   "outputs": [],
   "source": [
    "x = 1, 2, 3\n",
    "x"
   ]
  },
  {
   "cell_type": "code",
   "execution_count": null,
   "id": "d6c8cb35",
   "metadata": {},
   "outputs": [],
   "source": [
    "y = (1, 2, 3)\n",
    "print(y)\n",
    "print(y == x)\n",
    "y[0] = \"hello\""
   ]
  },
  {
   "cell_type": "code",
   "execution_count": null,
   "id": "fdeac082",
   "metadata": {},
   "outputs": [],
   "source": [
    "xy = (23, 45)\n",
    "print(xy[0])\n",
    "xy[0] = \"this won't work with a tuple\""
   ]
  },
  {
   "cell_type": "markdown",
   "id": "217e1ca4",
   "metadata": {},
   "source": [
    "## namedtuples\n",
    "\n",
    "Very handy for defining human readable data records without behavior. `namedtuples` are very fast and memory efficient. "
   ]
  },
  {
   "cell_type": "code",
   "execution_count": null,
   "id": "b37a32c9",
   "metadata": {},
   "outputs": [],
   "source": [
    "from collections import namedtuple"
   ]
  },
  {
   "cell_type": "code",
   "execution_count": null,
   "id": "206da48e",
   "metadata": {},
   "outputs": [],
   "source": [
    "Color = namedtuple('Color', ['red', 'green', 'blue'])\n",
    "Color?"
   ]
  },
  {
   "cell_type": "code",
   "execution_count": null,
   "id": "09c11de0",
   "metadata": {},
   "outputs": [],
   "source": [
    "yellow = Color(255, 255, 0)"
   ]
  },
  {
   "cell_type": "code",
   "execution_count": null,
   "id": "b6974bbb",
   "metadata": {},
   "outputs": [],
   "source": [
    "yellow.red, yellow[0]"
   ]
  },
  {
   "cell_type": "code",
   "execution_count": null,
   "id": "ebb6c510",
   "metadata": {},
   "outputs": [],
   "source": [
    "print(yellow)"
   ]
  }
 ],
 "metadata": {
  "kernelspec": {
   "display_name": "Python 3 (ipykernel)",
   "language": "python",
   "name": "python3"
  },
  "language_info": {
   "codemirror_mode": {
    "name": "ipython",
    "version": 3
   },
   "file_extension": ".py",
   "mimetype": "text/x-python",
   "name": "python",
   "nbconvert_exporter": "python",
   "pygments_lexer": "ipython3",
   "version": "3.9.12"
  }
 },
 "nbformat": 4,
 "nbformat_minor": 5
}
