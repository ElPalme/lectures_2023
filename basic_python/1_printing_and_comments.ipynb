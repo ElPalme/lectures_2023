{
 "cells": [
  {
   "cell_type": "markdown",
   "id": "c3782837",
   "metadata": {},
   "source": [
    "# Printing and Comments "
   ]
  },
  {
   "cell_type": "markdown",
   "id": "002e071b",
   "metadata": {},
   "source": [
    "You might wonder why we start this lecture with printing and comments. <br>\n",
    "But printing as well as comments are important to see what your code actually does. "
   ]
  },
  {
   "cell_type": "markdown",
   "id": "d095a597",
   "metadata": {},
   "source": [
    "## The print() function"
   ]
  },
  {
   "cell_type": "markdown",
   "id": "6f057db8",
   "metadata": {},
   "source": [
    "The print function \"prints\" an object. This object does not have to belonge to the \"inbuild\" Python objects, it can also be an object that we created ourselfs (but more to creating objects later). In the first few jupyter notebooks you work on, you might ask yourself why printing is so important, since jupyter shows you the output of a cell. <br>\n",
    "But in later notebooks as the code gets more and more complex you can see why we use it :)"
   ]
  },
  {
   "cell_type": "code",
   "execution_count": 1,
   "id": "92e6b6ba",
   "metadata": {},
   "outputs": [
    {
     "name": "stdout",
     "output_type": "stream",
     "text": [
      "1\n"
     ]
    }
   ],
   "source": [
    "print(1)"
   ]
  },
  {
   "cell_type": "code",
   "execution_count": 2,
   "id": "9a613c4e",
   "metadata": {},
   "outputs": [
    {
     "name": "stdout",
     "output_type": "stream",
     "text": [
      "hello world\n"
     ]
    }
   ],
   "source": [
    "print(\"hello world\")"
   ]
  },
  {
   "cell_type": "code",
   "execution_count": 3,
   "id": "0ce66cd2",
   "metadata": {},
   "outputs": [
    {
     "name": "stdout",
     "output_type": "stream",
     "text": [
      "5\n"
     ]
    }
   ],
   "source": [
    "print(2 + 3)"
   ]
  },
  {
   "cell_type": "markdown",
   "id": "c5a7fed6",
   "metadata": {},
   "source": [
    "<div class=\"alert alert-block alert-info\">\n",
    "<b>Exercise:</b> \n",
    "    <br>\n",
    "    Experiment with the print function. What can you print and what not?\n",
    "</div>"
   ]
  },
  {
   "cell_type": "markdown",
   "id": "ec761978",
   "metadata": {},
   "source": [
    "<div class=\"alert alert-block alert-success\">\n",
    "<b>Tip:</b> \n",
    "    <br>\n",
    "    When you write longer code or more complex functions and something is not working and you cannot see why, do not despair! Try to print out everything that might seem relevant. Through that you can often find out what is going wrong.\n",
    "</div>"
   ]
  },
  {
   "cell_type": "markdown",
   "id": "c4bbabb9",
   "metadata": {},
   "source": [
    "---"
   ]
  },
  {
   "cell_type": "markdown",
   "id": "ff124dc7",
   "metadata": {},
   "source": [
    "## Comments"
   ]
  },
  {
   "cell_type": "markdown",
   "id": "1580974a",
   "metadata": {},
   "source": [
    "Comments are important to describe what is going on in your code, so that others (and you) can understand it better. <br>\n",
    "In python comments are written preceded by a `#`."
   ]
  },
  {
   "cell_type": "code",
   "execution_count": 4,
   "id": "d00d5c3d",
   "metadata": {},
   "outputs": [],
   "source": [
    "# this is a comment"
   ]
  },
  {
   "cell_type": "markdown",
   "id": "6f9723bf",
   "metadata": {},
   "source": [
    "<div class=\"alert alert-block alert-warning\">\n",
    "<b>Important:</b> \n",
    "    <br>\n",
    "    Always try to write meaningful comments for your code. This will save you and others a lot of headache when trying to understand your code.\n",
    "</div>"
   ]
  },
  {
   "cell_type": "markdown",
   "id": "8236e51c",
   "metadata": {},
   "source": [
    "---"
   ]
  },
  {
   "cell_type": "markdown",
   "id": "a21b6ef7",
   "metadata": {},
   "source": [
    "One more thing ... the official styleguide"
   ]
  },
  {
   "cell_type": "markdown",
   "id": "11e77448",
   "metadata": {},
   "source": [
    "## PEP 8 Naming conventions\n",
    "[PEP 8](https://www.python.org/dev/peps/pep-0008/), i.e. the Python Enhancement Proposal number 8, is a style guide for writing Python code. Having an official style guide makes Python code look really similar across different projects. It's role in the success of Python should not be underestimated. If you are unsure about the style of your code, have a look at PEP 8. And here are the PEP 8 recommendations for variable names:  \n",
    "\n",
    "`module_name, package_name, method_name, function_name, global_var_name, instance_var_name, function_parameter_name, local_var_name`\n",
    "\n",
    "`ClassName, ExceptionName`\n",
    "\n",
    "`GLOBAL_CONSTANT_NAME`"
   ]
  },
  {
   "cell_type": "markdown",
   "id": "f21ebb23",
   "metadata": {},
   "source": [
    "You do not have to understand all of these names right now :)"
   ]
  },
  {
   "cell_type": "markdown",
   "id": "2aa012d3",
   "metadata": {},
   "source": [
    "<div class=\"alert alert-block alert-warning\">\n",
    "<b>Important:</b> \n",
    "    <br>\n",
    "    Please stick to the official python styleguide, especially when it comes to your homework.\n",
    "</div>"
   ]
  }
 ],
 "metadata": {
  "kernelspec": {
   "display_name": "Python 3 (ipykernel)",
   "language": "python",
   "name": "python3"
  },
  "language_info": {
   "codemirror_mode": {
    "name": "ipython",
    "version": 3
   },
   "file_extension": ".py",
   "mimetype": "text/x-python",
   "name": "python",
   "nbconvert_exporter": "python",
   "pygments_lexer": "ipython3",
   "version": "3.9.12"
  }
 },
 "nbformat": 4,
 "nbformat_minor": 5
}
