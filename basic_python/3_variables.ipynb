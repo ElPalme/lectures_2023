{
 "cells": [
  {
   "cell_type": "markdown",
   "id": "ade1a72f",
   "metadata": {},
   "source": [
    "# Variables"
   ]
  },
  {
   "cell_type": "markdown",
   "id": "2418343d",
   "metadata": {},
   "source": [
    "Until now we covered the basic types, but with just several unconnected objects (so a number, string or boolean) we cannot really program. For that we have to remember our objects somehow to make them interact or change them. <br>\n",
    "For that we use so called `variables` or names. We can assign an object to a variable by writing the variable on the left then writing $ = $ and then the object on the right side, like this: "
   ]
  },
  {
   "cell_type": "code",
   "execution_count": 1,
   "id": "5fb19641",
   "metadata": {},
   "outputs": [],
   "source": [
    "variable1 = 10"
   ]
  },
  {
   "cell_type": "markdown",
   "id": "d6859b6d",
   "metadata": {},
   "source": [
    "We cannot only assign integer objects to variables but also other objects and variables to variables:"
   ]
  },
  {
   "cell_type": "code",
   "execution_count": null,
   "id": "99028ad9",
   "metadata": {},
   "outputs": [],
   "source": [
    "string1 = \"hello\""
   ]
  },
  {
   "cell_type": "code",
   "execution_count": null,
   "id": "36f8a4fe",
   "metadata": {},
   "outputs": [],
   "source": [
    "boolean1 = True"
   ]
  },
  {
   "cell_type": "code",
   "execution_count": 3,
   "id": "ede8080b",
   "metadata": {},
   "outputs": [],
   "source": [
    "variable2 = variable1"
   ]
  },
  {
   "cell_type": "markdown",
   "id": "dea86587",
   "metadata": {},
   "source": [
    "<div class=\"alert alert-block alert-info\">\n",
    "<b>Exercise:</b> \n",
    "    <br>\n",
    "    What happens to variable2 when you now change variable1?\n",
    "    <br>\n",
    "    a: variable2 also changes\n",
    "    <br>\n",
    "    b: variable2 stays the same\n",
    "    <br>\n",
    "    c: everything breaks\n",
    "</div>"
   ]
  },
  {
   "cell_type": "code",
   "execution_count": null,
   "id": "7c84d3d6",
   "metadata": {},
   "outputs": [],
   "source": [
    "# some space to experiment"
   ]
  },
  {
   "cell_type": "markdown",
   "id": "b6c47948",
   "metadata": {},
   "source": [
    "By assigning a new value to our variable we do not change the original object. We create a new object and give it the same name. If we then assign a new object to variable2 the old object is lost and it will eventually be collected by the garbage collector (not a metapher). "
   ]
  },
  {
   "cell_type": "code",
   "execution_count": 1,
   "id": "b5970aa7",
   "metadata": {},
   "outputs": [],
   "source": [
    "variable2 = \"now a string\""
   ]
  },
  {
   "cell_type": "markdown",
   "id": "def654c8",
   "metadata": {},
   "source": [
    "<div class=\"alert alert-block alert-warning\">\n",
    "<b>Important:</b> \n",
    "    <br>\n",
    "    Always try to make your variable names as meaningful as possible. In a longer, more complecated code meaningful variable assingments make it a lot easier to understand what is going on.\n",
    "</div>"
   ]
  },
  {
   "cell_type": "markdown",
   "id": "476a2a22",
   "metadata": {},
   "source": [
    "## Typing"
   ]
  },
  {
   "cell_type": "markdown",
   "id": "a9811f0f",
   "metadata": {},
   "source": [
    "We have already seen before that we can check the type of an object with the `type()` function. <br>\n",
    "As we have seen now we can \"change\" the types of our variables dynamically, therefore we say that Python is **dynamically typed**."
   ]
  },
  {
   "cell_type": "code",
   "execution_count": null,
   "id": "ac5b0f3d",
   "metadata": {},
   "outputs": [],
   "source": [
    "var = 2\n",
    "print(type(var))\n",
    "\n",
    "var = \"two\"\n",
    "print(type(var))\n",
    "\n",
    "var = False\n",
    "print(type(var))"
   ]
  },
  {
   "cell_type": "markdown",
   "id": "b1b87942",
   "metadata": {},
   "source": [
    "We also say that Python is **strongly typed** because the actual objects dont change their type."
   ]
  }
 ],
 "metadata": {
  "kernelspec": {
   "display_name": "Python 3 (ipykernel)",
   "language": "python",
   "name": "python3"
  },
  "language_info": {
   "codemirror_mode": {
    "name": "ipython",
    "version": 3
   },
   "file_extension": ".py",
   "mimetype": "text/x-python",
   "name": "python",
   "nbconvert_exporter": "python",
   "pygments_lexer": "ipython3",
   "version": "3.9.12"
  }
 },
 "nbformat": 4,
 "nbformat_minor": 5
}
