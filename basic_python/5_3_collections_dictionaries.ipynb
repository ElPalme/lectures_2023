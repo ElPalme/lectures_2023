{
 "cells": [
  {
   "cell_type": "markdown",
   "id": "7cc17c14",
   "metadata": {},
   "source": [
    "# Dictionaries\n",
    "\n",
    "Dictionaries are the collection to use when you want to store and retrieve things by their names\n",
    "(or some other kind of key) instead of by their position in the collection. A good example is a set\n",
    "of model parameters, each of which has a name and a value. Dictionaries are declared using `{}`."
   ]
  },
  {
   "cell_type": "code",
   "execution_count": 1,
   "id": "b965f6f8",
   "metadata": {},
   "outputs": [
    {
     "name": "stdout",
     "output_type": "stream",
     "text": [
      "{'inches_in_feet': 12, 'inches_in_metre': 39}\n",
      "12\n"
     ]
    }
   ],
   "source": [
    "# Make a dictionary of model parameters.\n",
    "# the key is written in quotation marks, the value follows after :\n",
    "convertors = {'inches_in_feet' : 12,\n",
    "              'inches_in_metre' : 39}\n",
    "\n",
    "print(convertors)\n",
    "print(convertors['inches_in_feet'])"
   ]
  },
  {
   "cell_type": "code",
   "execution_count": 2,
   "id": "3ec13d72",
   "metadata": {},
   "outputs": [
    {
     "name": "stdout",
     "output_type": "stream",
     "text": [
      "{'inches_in_feet': 12, 'inches_in_metre': 39, 'metres_in_mile': 1609.34}\n"
     ]
    }
   ],
   "source": [
    "# Add a new key:value pair.\n",
    "convertors['metres_in_mile'] = 1609.34\n",
    "print(convertors)"
   ]
  },
  {
   "cell_type": "markdown",
   "id": "e116c073",
   "metadata": {},
   "source": [
    "The equivalent of `extend()` for dictionaries is `updat()`."
   ]
  },
  {
   "cell_type": "code",
   "execution_count": null,
   "id": "1cb7e130",
   "metadata": {},
   "outputs": [],
   "source": [
    "metric_convertors = {'metres_in_kilometer': 1000, 'centimetres_in_meter': 100}\n",
    "convertors.update(metric_convertors)\n",
    "convertors"
   ]
  },
  {
   "cell_type": "code",
   "execution_count": null,
   "id": "5886834b",
   "metadata": {},
   "outputs": [],
   "source": [
    "# Raise a Key-Error\n",
    "print(convertors['decimetres_in_meter'])"
   ]
  },
  {
   "cell_type": "markdown",
   "id": "81607938",
   "metadata": {},
   "source": [
    "We can also check whether a key is in a dictionary or not. This can be done in two different ways. The differences will be covered in another notebook. "
   ]
  },
  {
   "cell_type": "code",
   "execution_count": null,
   "id": "eccaa74a",
   "metadata": {},
   "outputs": [],
   "source": [
    "if 'decimetres_in_meter' in convertors:\n",
    "    print(convertors['decimetres_in_meter'])\n",
    "else:\n",
    "    print(\"Wasn't in there!\")"
   ]
  },
  {
   "cell_type": "code",
   "execution_count": null,
   "id": "c3dbd82c",
   "metadata": {},
   "outputs": [],
   "source": [
    "try:\n",
    "    print(convertors['decimetres_in_meter'])\n",
    "except KeyError:\n",
    "    print(\"Wasn't in there!\")"
   ]
  },
  {
   "cell_type": "markdown",
   "id": "e7f7ceaa",
   "metadata": {},
   "source": [
    "Getting all `key`, all `value`, and all `key-value-pair` is easy:"
   ]
  },
  {
   "cell_type": "code",
   "execution_count": null,
   "id": "5aae7d6a",
   "metadata": {},
   "outputs": [],
   "source": [
    "key_list = list(convertors.keys())\n",
    "print(key_list, type(key_list))\n",
    "\n",
    "value_list = list(convertors.values())\n",
    "print(value_list, type(value_list))\n",
    "\n",
    "key_val_list = list(convertors.items())\n",
    "print(key_val_list, type(key_val_list))"
   ]
  }
 ],
 "metadata": {
  "kernelspec": {
   "display_name": "Python 3 (ipykernel)",
   "language": "python",
   "name": "python3"
  },
  "language_info": {
   "codemirror_mode": {
    "name": "ipython",
    "version": 3
   },
   "file_extension": ".py",
   "mimetype": "text/x-python",
   "name": "python",
   "nbconvert_exporter": "python",
   "pygments_lexer": "ipython3",
   "version": "3.9.12"
  }
 },
 "nbformat": 4,
 "nbformat_minor": 5
}
