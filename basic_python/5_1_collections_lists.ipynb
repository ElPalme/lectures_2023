{
 "cells": [
  {
   "cell_type": "markdown",
   "id": "52a47786",
   "metadata": {},
   "source": [
    "# Collections: Lists\n",
    "Python has a number of objects to handle the collection of other objects. `Lists` are one of them, but there are also `tuples`, `dictionaries` and `sets`. These will be covered in different notebooks"
   ]
  },
  {
   "cell_type": "markdown",
   "id": "8a38209f",
   "metadata": {},
   "source": [
    "Lists are probably the handiest and most flexible type of container. \n",
    "Lists literals are declared with square brackets `[]`. "
   ]
  },
  {
   "cell_type": "code",
   "execution_count": null,
   "id": "b03e1634",
   "metadata": {},
   "outputs": [],
   "source": [
    "# Lists are created with square bracket syntax\n",
    "a = ['blueberry', 'strawberry', 'pineapple']\n",
    "print(a, type(a))"
   ]
  },
  {
   "cell_type": "code",
   "execution_count": null,
   "id": "5af40b51",
   "metadata": {},
   "outputs": [],
   "source": [
    "# It doesn't matter what types are inside the list!\n",
    "tmp = object()\n",
    "b = ['blueberry', 5, 3.1415, True, \"hello world\", [1,2,3], tmp]\n",
    "print(b)"
   ]
  },
  {
   "cell_type": "markdown",
   "id": "b336a91b",
   "metadata": {},
   "source": [
    "Individual elements of a list can be selected using the subscript syntax `a[ind]`."
   ]
  },
  {
   "cell_type": "code",
   "execution_count": null,
   "id": "d739a6e4",
   "metadata": {},
   "outputs": [],
   "source": [
    "# Lists (and all collections) are also indexed with square brackets\n",
    "# NOTE: The first index is zero, not one\n",
    "print(a[0])\n",
    "print(a[1])"
   ]
  },
  {
   "cell_type": "code",
   "execution_count": null,
   "id": "6cc72790",
   "metadata": {},
   "outputs": [],
   "source": [
    "## You can also count from the end of the list\n",
    "print('last item is:', a[-1])\n",
    "print('second to last item is:', a[-2])"
   ]
  },
  {
   "cell_type": "markdown",
   "id": "0be5ad0d",
   "metadata": {},
   "source": [
    "## slicing"
   ]
  },
  {
   "cell_type": "markdown",
   "id": "a189cee7",
   "metadata": {},
   "source": [
    "You can access multiple items from a list by slicing. For that you use a colon between indexes. \n",
    "The syntax is `collection[start:stop]` or `collection[start:stop:step]`. Note that in Python indexing is zero based the first index is inclusive while the last is exclusive. \n",
    "That means that `start:stop` selects $start \\le i \\lt stop$."
   ]
  },
  {
   "cell_type": "code",
   "execution_count": 1,
   "id": "1d5be1c3",
   "metadata": {},
   "outputs": [
    {
     "data": {
      "text/plain": [
       "[0, 1, 2, 3, 4, 5, 6, 7, 8, 9]"
      ]
     },
     "execution_count": 1,
     "metadata": {},
     "output_type": "execute_result"
    }
   ],
   "source": [
    "b = [0, 1, 2, 3, 4, 5, 6, 7, 8, 9]\n",
    "b"
   ]
  },
  {
   "cell_type": "code",
   "execution_count": 2,
   "id": "581c0c8f",
   "metadata": {},
   "outputs": [
    {
     "data": {
      "text/plain": [
       "[0, 1]"
      ]
     },
     "execution_count": 2,
     "metadata": {},
     "output_type": "execute_result"
    }
   ],
   "source": [
    "b[0:2]"
   ]
  },
  {
   "cell_type": "code",
   "execution_count": 3,
   "id": "d27941cb",
   "metadata": {},
   "outputs": [
    {
     "data": {
      "text/plain": [
       "[2, 3, 4, 5, 6, 7, 8, 9]"
      ]
     },
     "execution_count": 3,
     "metadata": {},
     "output_type": "execute_result"
    }
   ],
   "source": [
    "b[2:]"
   ]
  },
  {
   "cell_type": "code",
   "execution_count": null,
   "id": "5f024530",
   "metadata": {},
   "outputs": [],
   "source": [
    "b[:] # this is called soft copy, we'll get to that later\n",
    "b is b[:]"
   ]
  },
  {
   "cell_type": "code",
   "execution_count": 4,
   "id": "9e232afe",
   "metadata": {},
   "outputs": [
    {
     "data": {
      "text/plain": [
       "[0, 1, 2, 3, 4, 5, 6, 7, 8]"
      ]
     },
     "execution_count": 4,
     "metadata": {},
     "output_type": "execute_result"
    }
   ],
   "source": [
    "# you can also define the end based on the last object. So end -1 should return the second to last object\n",
    "b[:-1]"
   ]
  },
  {
   "cell_type": "code",
   "execution_count": 5,
   "id": "611d57d9",
   "metadata": {},
   "outputs": [
    {
     "data": {
      "text/plain": [
       "[2, 4, 6]"
      ]
     },
     "execution_count": 5,
     "metadata": {},
     "output_type": "execute_result"
    }
   ],
   "source": [
    "# we can even define the step size, this is done by adding another : and then some number\n",
    "b[2:8:2]"
   ]
  },
  {
   "cell_type": "code",
   "execution_count": 6,
   "id": "273c59b0",
   "metadata": {},
   "outputs": [
    {
     "data": {
      "text/plain": [
       "[9, 8, 7, 6, 5, 4, 3, 2, 1, 0]"
      ]
     },
     "execution_count": 6,
     "metadata": {},
     "output_type": "execute_result"
    }
   ],
   "source": [
    "# or we can reverse the list\n",
    "b[::-1]"
   ]
  },
  {
   "cell_type": "markdown",
   "id": "a95ba255",
   "metadata": {},
   "source": [
    "<div class=\"alert alert-block alert-info\">\n",
    "<b>Exercise:</b> \n",
    "    <br>\n",
    "    Get all numbers that can be devided by 3 in a reversed order.\n",
    "</div>"
   ]
  },
  {
   "cell_type": "markdown",
   "id": "0e0764b6",
   "metadata": {},
   "source": [
    "## manipulating lists\n",
    "Lists are objects, like everything else, and therefore have methods.\n",
    "\n",
    "One of these methods is `append()`. With `append()` we can add an object at the end of a list."
   ]
  },
  {
   "cell_type": "code",
   "execution_count": null,
   "id": "675cfa92",
   "metadata": {},
   "outputs": [],
   "source": [
    "b.append('banana')\n",
    "b"
   ]
  },
  {
   "cell_type": "code",
   "execution_count": null,
   "id": "ced7b7fc",
   "metadata": {},
   "outputs": [],
   "source": [
    "b.append([1,2])\n",
    "b.append(len)\n",
    "print(b)"
   ]
  },
  {
   "cell_type": "markdown",
   "id": "e7f418e5",
   "metadata": {},
   "source": [
    "With `pop()` we can take the last object out of the list."
   ]
  },
  {
   "cell_type": "code",
   "execution_count": null,
   "id": "735072c1",
   "metadata": {},
   "outputs": [],
   "source": [
    "popped = b.pop()\n",
    "b, popped"
   ]
  },
  {
   "cell_type": "markdown",
   "id": "3201990b",
   "metadata": {},
   "source": [
    "To add multiple objects to a list we can use `extend()`."
   ]
  },
  {
   "cell_type": "code",
   "execution_count": null,
   "id": "a418c8d4",
   "metadata": {},
   "outputs": [],
   "source": [
    "b.extend([1,2])\n",
    "b"
   ]
  },
  {
   "cell_type": "markdown",
   "id": "4a209dc4",
   "metadata": {},
   "source": [
    "To get the length of a list we can use `len()`."
   ]
  },
  {
   "cell_type": "code",
   "execution_count": null,
   "id": "c0394925",
   "metadata": {},
   "outputs": [],
   "source": [
    "len(b)"
   ]
  },
  {
   "cell_type": "markdown",
   "id": "630b6214",
   "metadata": {},
   "source": [
    "With `in` we can check whether an object is contained in a list."
   ]
  },
  {
   "cell_type": "code",
   "execution_count": null,
   "id": "c322d5d8",
   "metadata": {},
   "outputs": [],
   "source": [
    "\"banana\" in b"
   ]
  },
  {
   "cell_type": "markdown",
   "id": "3ecfca00",
   "metadata": {},
   "source": [
    "Lists have the same opperators as strings. And strings can also be sliced."
   ]
  },
  {
   "cell_type": "code",
   "execution_count": null,
   "id": "2989b1e7",
   "metadata": {},
   "outputs": [],
   "source": [
    "l1 = [1, 2, 3]\n",
    "l2 = [4] * 3\n",
    "\n",
    "l1 + l2"
   ]
  },
  {
   "cell_type": "code",
   "execution_count": null,
   "id": "e238675f",
   "metadata": {},
   "outputs": [],
   "source": [
    "# Strings can be sliced just like lists\n",
    "a = \"hello, world!\"\n",
    "a[:5]"
   ]
  },
  {
   "cell_type": "markdown",
   "id": "1556a999",
   "metadata": {},
   "source": [
    "<div class=\"alert alert-block alert-success\">\n",
    "<b>Tip:</b> <br>\n",
    "    A 'gotcha' for some new Python users is that collections, including lists, are actually only the name, referencing to data, and are not the data itself.\n",
    "<br>\n",
    "Remember when we set `b = a` and then changed `a`?\n",
    "<br>\n",
    "What happens when we do this in a list?\n",
    "</div>"
   ]
  },
  {
   "cell_type": "code",
   "execution_count": null,
   "id": "5afef16c",
   "metadata": {},
   "outputs": [],
   "source": [
    "a = [1, 2, \"banana\", 3]\n",
    "b = a\n",
    "print(\"b originally:\", b)\n",
    "a[0] = \"cheesecake\"\n",
    "print(\"b later:\", b)"
   ]
  },
  {
   "cell_type": "markdown",
   "id": "2d837087",
   "metadata": {},
   "source": [
    "Because lists are **mutable**, we can perform changes to a list, unlike a string! To get rid of side-effects, you need to perform a **deep copy** of the object."
   ]
  },
  {
   "cell_type": "code",
   "execution_count": null,
   "id": "9b284a6d",
   "metadata": {},
   "outputs": [],
   "source": [
    "# the copy-module helps us here!\n",
    "from copy import deepcopy\n",
    "a = [1, 2, \"banana\", 3]\n",
    "b = deepcopy(a)  #in the case of lists, an alternative ('soft copy') would be b = a[:]\n",
    "a[0] = \"cheesecake\"\n",
    "print(b)"
   ]
  },
  {
   "cell_type": "markdown",
   "id": "2bb1eafc",
   "metadata": {},
   "source": [
    "Another problem arises when adding objects to list, using the `multiplication syntax`."
   ]
  },
  {
   "cell_type": "code",
   "execution_count": null,
   "id": "7b291e88",
   "metadata": {},
   "outputs": [],
   "source": [
    "l2 = [[]] * 10\n",
    "print(l2)\n",
    "\n",
    "l2[0].append(1)\n",
    "print(l2) #what will this print?"
   ]
  },
  {
   "cell_type": "markdown",
   "id": "1441b546",
   "metadata": {},
   "source": [
    "<div class=\"alert alert-block alert-info\">\n",
    "<b>Exercise:</b> \n",
    "    <br>\n",
    "    What will the following code return?\n",
    "</div>"
   ]
  },
  {
   "cell_type": "code",
   "execution_count": null,
   "id": "7727e6fc",
   "metadata": {},
   "outputs": [],
   "source": [
    "some_guy = 'Fred'\n",
    "\n",
    "first_names = []\n",
    "first_names.append(some_guy)\n",
    "\n",
    "another_list_of_names = first_names\n",
    "another_list_of_names.append('George')\n",
    "some_guy = 'Bill'"
   ]
  }
 ],
 "metadata": {
  "kernelspec": {
   "display_name": "Python 3 (ipykernel)",
   "language": "python",
   "name": "python3"
  },
  "language_info": {
   "codemirror_mode": {
    "name": "ipython",
    "version": 3
   },
   "file_extension": ".py",
   "mimetype": "text/x-python",
   "name": "python",
   "nbconvert_exporter": "python",
   "pygments_lexer": "ipython3",
   "version": "3.9.12"
  }
 },
 "nbformat": 4,
 "nbformat_minor": 5
}
