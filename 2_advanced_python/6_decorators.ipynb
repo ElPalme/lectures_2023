{
 "cells": [
  {
   "cell_type": "markdown",
   "id": "a0b8bf51-c118-4daf-8a9a-5bd1ed3cc9d1",
   "metadata": {
    "tags": []
   },
   "source": [
    "# Decorators\n",
    "Decorators are functions that extend the functionality of other functions or classes.<br>"
   ]
  },
  {
   "cell_type": "code",
   "execution_count": 1,
   "id": "6f989199-0a5e-4dbc-aa53-c7e706b5e95f",
   "metadata": {
    "tags": []
   },
   "outputs": [],
   "source": [
    "def add(x, y):\n",
    "    return x + y\n",
    "\n",
    "def decorated_add(x, y):\n",
    "    result = add(x, y)\n",
    "    print(f\"Result of {add.__name__}: {result}\")"
   ]
  },
  {
   "cell_type": "code",
   "execution_count": 2,
   "id": "05d14be2-f52e-4920-8aba-3bf2283c35c8",
   "metadata": {
    "tags": []
   },
   "outputs": [
    {
     "name": "stdout",
     "output_type": "stream",
     "text": [
      "Result of add: 3\n"
     ]
    }
   ],
   "source": [
    "decorated_add(1,2)"
   ]
  },
  {
   "cell_type": "markdown",
   "id": "bff695b1-2337-49ed-b453-604b4a58d3e0",
   "metadata": {
    "tags": []
   },
   "source": [
    "<br>\n",
    "\n",
    "### for arbitrary functions\n",
    "if we pass the function that we want to decorate as an argument then we can decorate any function"
   ]
  },
  {
   "cell_type": "code",
   "execution_count": 3,
   "id": "321c20f4-a77f-46c0-8edb-cdadc9d5076f",
   "metadata": {
    "tags": []
   },
   "outputs": [],
   "source": [
    "def decorated_function(func, x, y):\n",
    "    result = func(x, y)\n",
    "    print(f\"Result of {func.__name__}: {result}\")"
   ]
  },
  {
   "cell_type": "code",
   "execution_count": 4,
   "id": "655a61d4-e27a-4807-affa-c4521f653aff",
   "metadata": {
    "tags": []
   },
   "outputs": [],
   "source": [
    "def add(x, y):\n",
    "    return x + y\n",
    "\n",
    "def substract(x, y):\n",
    "    return x - y\n",
    "\n",
    "def multiply(x,y):\n",
    "    return x * y"
   ]
  },
  {
   "cell_type": "code",
   "execution_count": 5,
   "id": "e33d9374-58e5-4826-9d61-a4a41614d66d",
   "metadata": {
    "tags": []
   },
   "outputs": [
    {
     "name": "stdout",
     "output_type": "stream",
     "text": [
      "Result of add: 3\n",
      "Result of substract: -1\n",
      "Result of multiply: 2\n"
     ]
    }
   ],
   "source": [
    "decorated_function(add, 1, 2)\n",
    "decorated_function(substract, 1, 2)\n",
    "decorated_function(multiply, 1, 2)"
   ]
  },
  {
   "cell_type": "markdown",
   "id": "881c5764-1772-4215-943c-2c3606346570",
   "metadata": {
    "tags": []
   },
   "source": [
    "<br>\n",
    "\n",
    "### overwritting the original function\n",
    "Calling `decorated_function` everytime is a bit tideous, <br>\n",
    "so instead we define the `decorated_function` as an inner function inside the out function `decorator` and then return it from there"
   ]
  },
  {
   "cell_type": "code",
   "execution_count": 6,
   "id": "f9919777-6f13-40ea-8b4e-3baebd031ee9",
   "metadata": {
    "tags": []
   },
   "outputs": [],
   "source": [
    "def decorator(func):\n",
    "    \n",
    "    def decorated_function(x, y): \n",
    "        result = func(x,y)\n",
    "        print(f\"Result of {func.__name__}: {result}\")\n",
    "        \n",
    "    return decorated_function"
   ]
  },
  {
   "cell_type": "markdown",
   "id": "f591ed3a-767c-4851-ab5f-3dffe1bbc441",
   "metadata": {
    "tags": []
   },
   "source": [
    "With the returned decorated function we can then overwrite the original function"
   ]
  },
  {
   "cell_type": "code",
   "execution_count": 7,
   "id": "b8cc3d81-90b9-4dca-8b8f-2644a47a5dc6",
   "metadata": {
    "tags": []
   },
   "outputs": [],
   "source": [
    "def add(x,y):\n",
    "    return x + y\n",
    "\n",
    "add = decorator(add)"
   ]
  },
  {
   "cell_type": "code",
   "execution_count": 8,
   "id": "01237319-6871-43e1-8661-e3bfb07a9e48",
   "metadata": {
    "tags": []
   },
   "outputs": [
    {
     "name": "stdout",
     "output_type": "stream",
     "text": [
      "Result of add: 3\n"
     ]
    }
   ],
   "source": [
    "add(1,2)"
   ]
  },
  {
   "cell_type": "markdown",
   "id": "d2f0aef3-0eeb-41c1-8996-b3352f396187",
   "metadata": {
    "tags": []
   },
   "source": [
    "<br>\n",
    "\n",
    "### @ - snytactic sugar for decorating\n",
    "Python provides a syntax for the assignment `function = decorator(function)`.<br>"
   ]
  },
  {
   "cell_type": "code",
   "execution_count": 9,
   "id": "2f9e3064-468f-4ab2-8f4c-859ae5cf322e",
   "metadata": {
    "tags": []
   },
   "outputs": [],
   "source": [
    "@decorator #add = decorator(add)\n",
    "def add(x,y):\n",
    "    return x + y"
   ]
  },
  {
   "cell_type": "code",
   "execution_count": 10,
   "id": "26be8ea0-0344-4e3a-b0e9-2738be004622",
   "metadata": {
    "tags": []
   },
   "outputs": [
    {
     "name": "stdout",
     "output_type": "stream",
     "text": [
      "Result of add: 3\n"
     ]
    }
   ],
   "source": [
    "add(1,2)"
   ]
  },
  {
   "cell_type": "markdown",
   "id": "6f368dfa-7bdf-49f0-ae01-94e3b8e21a48",
   "metadata": {
    "tags": []
   },
   "source": [
    "<br>\n",
    "\n",
    "## Another Example\n",
    "Here we have a decorator that wraps the functions return into bold symbols"
   ]
  },
  {
   "cell_type": "code",
   "execution_count": 11,
   "id": "027c371e-3e1e-48ea-8bbd-de4934983624",
   "metadata": {
    "tags": []
   },
   "outputs": [
    {
     "data": {
      "text/plain": [
       "'<b>hello world</b>'"
      ]
     },
     "execution_count": 11,
     "metadata": {},
     "output_type": "execute_result"
    }
   ],
   "source": [
    "def bold(fn):\n",
    "    \"\"\"wraps the result of a function such that it's bold\"\"\"\n",
    "    def wrapped():\n",
    "        return \"<b>\" + fn() + \"</b>\"\n",
    "    return wrapped\n",
    "\n",
    "\n",
    "@bold #hello = bold(hello)\n",
    "def hello():\n",
    "    \"\"\"returns 'hello world'\"\"\"\n",
    "    return \"hello world\"\n",
    "\n",
    "hello()"
   ]
  },
  {
   "cell_type": "markdown",
   "id": "af996056-9937-4f57-a8d8-a74643697a05",
   "metadata": {
    "tags": []
   },
   "source": [
    " We can render this string with the `HTML` function"
   ]
  },
  {
   "cell_type": "code",
   "execution_count": 12,
   "id": "90fe61fe-f7bd-42db-b347-69307e3c1bf0",
   "metadata": {
    "tags": []
   },
   "outputs": [],
   "source": [
    "from IPython.display import HTML"
   ]
  },
  {
   "cell_type": "code",
   "execution_count": 13,
   "id": "f851e84c-d59f-42e8-a4db-70be94654729",
   "metadata": {
    "tags": []
   },
   "outputs": [
    {
     "data": {
      "text/html": [
       "<b>hello world</b>"
      ],
      "text/plain": [
       "<IPython.core.display.HTML object>"
      ]
     },
     "execution_count": 13,
     "metadata": {},
     "output_type": "execute_result"
    }
   ],
   "source": [
    "HTML(hello())"
   ]
  },
  {
   "cell_type": "markdown",
   "id": "63f09cb4-ad49-44d3-8c21-2e6612282489",
   "metadata": {
    "tags": []
   },
   "source": [
    "<br>\n",
    "\n",
    "### chaining decorators"
   ]
  },
  {
   "cell_type": "code",
   "execution_count": 14,
   "id": "4211c449-3503-4ac2-a898-204012433054",
   "metadata": {
    "tags": []
   },
   "outputs": [
    {
     "data": {
      "text/html": [
       "<b><i>hello world</i></b>"
      ],
      "text/plain": [
       "<IPython.core.display.HTML object>"
      ]
     },
     "execution_count": 14,
     "metadata": {},
     "output_type": "execute_result"
    }
   ],
   "source": [
    "def bold(fn):\n",
    "    \"\"\"wraps the result of a function such that it's bold\"\"\"\n",
    "    def wrapped():\n",
    "        return \"<b>\" + fn() + \"</b>\"\n",
    "    return wrapped\n",
    "\n",
    "def italic(fn):\n",
    "    \"\"\"wraps the result of a function such that it's italics\"\"\"\n",
    "    def wrapped():\n",
    "        return \"<i>\" + fn() + \"</i>\"\n",
    "    return wrapped\n",
    "\n",
    "def html(fn):\n",
    "    \"\"\"renders html\"\"\"\n",
    "    def wrapped():\n",
    "        return HTML(fn())\n",
    "    return wrapped\n",
    "\n",
    "\n",
    "@html   #hello = html(hello)\n",
    "@bold   #hello = bold(hello)\n",
    "@italic #hello = italic(hello)\n",
    "def hello():\n",
    "    \"\"\"returns 'hello world'\"\"\"\n",
    "    return \"hello world\"\n",
    "\n",
    "hello()"
   ]
  },
  {
   "cell_type": "markdown",
   "id": "f73196e6-f07b-4d35-9705-580f7e405f56",
   "metadata": {
    "tags": []
   },
   "source": [
    "<br>\n",
    "\n",
    "### Recovering the docstring "
   ]
  },
  {
   "cell_type": "code",
   "execution_count": 15,
   "id": "3d701b4e-7d25-49b4-a8f0-3a4614db103f",
   "metadata": {
    "tags": []
   },
   "outputs": [
    {
     "data": {
      "text/plain": [
       "\u001b[0;31mSignature:\u001b[0m \u001b[0mhello\u001b[0m\u001b[0;34m(\u001b[0m\u001b[0;34m)\u001b[0m\u001b[0;34m\u001b[0m\u001b[0;34m\u001b[0m\u001b[0m\n",
       "\u001b[0;31mDocstring:\u001b[0m <no docstring>\n",
       "\u001b[0;31mFile:\u001b[0m      /var/folders/65/kg2bqjyn62n9nyh0_0s86vmc0000gn/T/ipykernel_83245/4038784031.py\n",
       "\u001b[0;31mType:\u001b[0m      function\n"
      ]
     },
     "metadata": {},
     "output_type": "display_data"
    }
   ],
   "source": [
    "hello?"
   ]
  },
  {
   "cell_type": "markdown",
   "id": "b05debc1-7c58-4f10-985e-5ddcf5fb4813",
   "metadata": {
    "tags": []
   },
   "source": [
    "We can use *another decorator*, namely `functools.wraps`. This simply copies the docstring of the original function to the new one."
   ]
  },
  {
   "cell_type": "code",
   "execution_count": 16,
   "id": "fb7fd217-722b-4153-85ee-94c17fd47405",
   "metadata": {
    "tags": []
   },
   "outputs": [],
   "source": [
    "from functools import wraps\n",
    "\n",
    "def bold(fn):\n",
    "    \"\"\"wraps the result of a function such that it's bold\"\"\"\n",
    "    @wraps(fn)\n",
    "    def wrapped():\n",
    "        return \"<b>\" + fn() + \"</b>\"\n",
    "    return wrapped\n",
    "\n",
    "def italic(fn):\n",
    "    \"\"\"wraps the result of a function such that it's italics\"\"\"\n",
    "    @wraps(fn)\n",
    "    def wrapped():\n",
    "        return \"<i>\" + fn() + \"</i>\"\n",
    "    return wrapped\n",
    "\n",
    "def html(fn):\n",
    "    \"\"\"renders html\"\"\"\n",
    "    @wraps(fn)\n",
    "    def wrapped():\n",
    "        return HTML(fn())\n",
    "    return wrapped\n",
    "\n",
    "\n",
    "@html   #hello = html(hello)\n",
    "@bold   #hello = bold(hello)\n",
    "@italic #hello = italic(hello)\n",
    "def hello():\n",
    "    \"\"\"returns 'hello world'\"\"\"\n",
    "    return \"hello world\""
   ]
  },
  {
   "cell_type": "code",
   "execution_count": 17,
   "id": "67afb3f4-64cf-43d7-bf97-f5fbacf24eb0",
   "metadata": {
    "tags": []
   },
   "outputs": [
    {
     "data": {
      "text/plain": [
       "\u001b[0;31mSignature:\u001b[0m \u001b[0mhello\u001b[0m\u001b[0;34m(\u001b[0m\u001b[0;34m)\u001b[0m\u001b[0;34m\u001b[0m\u001b[0;34m\u001b[0m\u001b[0m\n",
       "\u001b[0;31mDocstring:\u001b[0m returns 'hello world'\n",
       "\u001b[0;31mFile:\u001b[0m      /var/folders/65/kg2bqjyn62n9nyh0_0s86vmc0000gn/T/ipykernel_83245/2819131071.py\n",
       "\u001b[0;31mType:\u001b[0m      function\n"
      ]
     },
     "metadata": {},
     "output_type": "display_data"
    }
   ],
   "source": [
    "hello?"
   ]
  },
  {
   "cell_type": "markdown",
   "id": "5e19a0c9-91dc-441e-b039-2f259265ac7c",
   "metadata": {
    "tags": []
   },
   "source": [
    "<br>\n",
    "\n",
    "## Exercise\n",
    "Define and apply a decorator that makes a string appear red. <br>\n",
    "You can achieve this by wrapping the string in `<span style='color: red'> str </span>`"
   ]
  },
  {
   "cell_type": "code",
   "execution_count": 18,
   "id": "5b14077f-c5cf-489f-a326-6febda806896",
   "metadata": {
    "tags": []
   },
   "outputs": [
    {
     "data": {
      "text/html": [
       "<b><i>hello world</i></b>"
      ],
      "text/plain": [
       "<IPython.core.display.HTML object>"
      ]
     },
     "execution_count": 18,
     "metadata": {},
     "output_type": "execute_result"
    }
   ],
   "source": [
    "def red(fn):\n",
    "    pass\n",
    "\n",
    "@html\n",
    "#@red\n",
    "@bold\n",
    "@italic\n",
    "def hello():\n",
    "    \"\"\"returns 'hello world'\"\"\"\n",
    "    return \"hello world\"\n",
    "\n",
    "hello()"
   ]
  }
 ],
 "metadata": {
  "kernelspec": {
   "display_name": "Python 3 (ipykernel)",
   "language": "python",
   "name": "python3"
  },
  "language_info": {
   "codemirror_mode": {
    "name": "ipython",
    "version": 3
   },
   "file_extension": ".py",
   "mimetype": "text/x-python",
   "name": "python",
   "nbconvert_exporter": "python",
   "pygments_lexer": "ipython3",
   "version": "3.11.2"
  }
 },
 "nbformat": 4,
 "nbformat_minor": 5
}
