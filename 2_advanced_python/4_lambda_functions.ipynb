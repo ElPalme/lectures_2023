{
 "cells": [
  {
   "cell_type": "markdown",
   "id": "2a508d3d-641b-4292-9030-74814e397838",
   "metadata": {
    "id": "0af49242-3c3c-4afa-b68d-94ba3370d785"
   },
   "source": [
    "# Lambda Expressions\n",
    "\n",
    "Lambda expressions can be used to create \"small\", \"throw-away\", anonymous functions."
   ]
  },
  {
   "cell_type": "code",
   "execution_count": null,
   "id": "9867f661-9a65-4f22-8316-35304cd08325",
   "metadata": {
    "id": "cd6a18c9-61d0-46e4-b5e6-72a8becfe1af",
    "tags": []
   },
   "outputs": [],
   "source": [
    "def square_number(x):\n",
    "    return x**2\n",
    "\n",
    "square_number(8), type(square_number)"
   ]
  },
  {
   "cell_type": "code",
   "execution_count": null,
   "id": "22e74180-bf39-4ea5-9aad-0a921d2e0451",
   "metadata": {
    "id": "e9794626-2880-4c2f-a13b-67ec462030c5",
    "tags": []
   },
   "outputs": [],
   "source": [
    "lambda x: x**2"
   ]
  },
  {
   "cell_type": "code",
   "execution_count": null,
   "id": "1f7e73b3-69ed-43d8-9a33-8fa2a13ca413",
   "metadata": {
    "id": "3ae08bbf-caad-4e2b-9588-92f8f6e685e0",
    "tags": []
   },
   "outputs": [],
   "source": [
    "square_number = lambda x: x**2\n",
    "\n",
    "square_number(8), type(square_number)"
   ]
  },
  {
   "cell_type": "code",
   "execution_count": null,
   "id": "3d78bfe7-54b5-45c7-91ca-80f7a527abb1",
   "metadata": {
    "id": "1e9b7889-9d2f-453c-8cb1-a2675ddd35a4",
    "tags": []
   },
   "outputs": [],
   "source": [
    "calc_sum = lambda x, y: x + y\n",
    "calc_sum(2, 3)"
   ]
  },
  {
   "cell_type": "markdown",
   "id": "eab8f0c1-3e3c-41ff-8e7b-e95e95a2cee5",
   "metadata": {
    "id": "b96c3a6c-36a4-4bc7-b2c4-3485ae984967",
    "tags": []
   },
   "source": [
    "You can use lambda-expressions for small pieces of code:"
   ]
  },
  {
   "cell_type": "code",
   "execution_count": null,
   "id": "9f322a59-197f-48dc-9394-ea602c5f7d90",
   "metadata": {
    "id": "e184fad9-6a7c-4f07-a7cc-360eae695d27",
    "tags": []
   },
   "outputs": [],
   "source": [
    "now = lambda: pd.to_datetime(datetime.datetime.now()).tz_localize('UTC').tz_convert('Europe/Berlin')\n",
    "maketime = lambda x: datetime.datetime.utcfromtimestamp(int(x)).strftime('%Y-%m-%d %H:%M')\n",
    "imsave = lambda fname, img: plt.imsave(fname, img, vmin=0, vmax=1)"
   ]
  },
  {
   "cell_type": "markdown",
   "id": "741b7d9d-7d16-48a7-b6e6-4d68c5122f31",
   "metadata": {
    "id": "cefa645d-6112-444d-bce2-cad7bc641c2f",
    "tags": []
   },
   "source": [
    "## Controlling list operations with lambdas"
   ]
  },
  {
   "cell_type": "code",
   "execution_count": null,
   "id": "83812bbf-6bbd-44df-bb36-11d6c0fc4021",
   "metadata": {
    "id": "f4958da2-a405-4d56-8e18-def8aa3154ad",
    "tags": []
   },
   "outputs": [],
   "source": [
    "unsorted_list = [6, 1, 45, 67, 3, 7]\n",
    "\n",
    "# two ways to sort:\n",
    "new_list = sorted(unsorted_list) # creates a new sorted one, old one stays the same\n",
    "unsorted_list.sort()             # sorts in-place, the old one will change\n",
    "\n",
    "print(new_list)\n",
    "print(unsorted_list)"
   ]
  },
  {
   "cell_type": "code",
   "execution_count": null,
   "id": "5ad74d73-a894-4437-a77d-ffcfbc06ad5f",
   "metadata": {
    "id": "d57c493b-1476-452d-aa94-06a073f2b65c",
    "tags": []
   },
   "outputs": [],
   "source": [
    "unsorted_list.sort?"
   ]
  },
  {
   "cell_type": "markdown",
   "id": "cda2b8df-ffa7-4722-9d5c-f0e069e7353a",
   "metadata": {
    "id": "c05710da-b9e8-4b9e-9640-7a1159764f0c",
    "tags": []
   },
   "source": [
    "Sorting in  descending order."
   ]
  },
  {
   "cell_type": "code",
   "execution_count": null,
   "id": "8b4cd86a-e83a-4079-ae86-d477e6e89493",
   "metadata": {
    "id": "d4ebe867-cd1c-4ba2-b0c1-4d1449a6ad16",
    "tags": []
   },
   "outputs": [],
   "source": [
    "unsorted_list.sort(reverse=True) \n",
    "unsorted_list"
   ]
  },
  {
   "cell_type": "code",
   "execution_count": null,
   "id": "a896e271-d2b7-446d-a987-76992172abcf",
   "metadata": {
    "id": "5faaf34b-0083-4267-a1b4-fdb4e85ae44d",
    "tags": []
   },
   "outputs": [],
   "source": [
    "unsorted_list.sort(key = lambda n: -n)\n",
    "unsorted_list"
   ]
  },
  {
   "cell_type": "markdown",
   "id": "3e18aadc-c3b5-4ffb-9d2f-3e4921e21ff2",
   "metadata": {
    "id": "bdd593c1-7997-48c3-a284-bfabd6b10696",
    "tags": []
   },
   "source": [
    "Sorting according to specific rules can be done with lambda functions. For example you can sort people by their age."
   ]
  },
  {
   "cell_type": "code",
   "execution_count": null,
   "id": "c1e7019b-8478-4cec-953f-4c49f6f06efb",
   "metadata": {
    "id": "2c67ba5d-7970-435f-a521-00b7995c9dc0",
    "tags": []
   },
   "outputs": [],
   "source": [
    "people = [\n",
    "    {'name': 'Aaron', 'age': 40},\n",
    "    {'name': 'Berta', 'age': 20},\n",
    "    {'name': 'Chris', 'age': 29},\n",
    "]"
   ]
  },
  {
   "cell_type": "code",
   "execution_count": null,
   "id": "44e4da96-0a4b-4af6-a42c-81b016ae0340",
   "metadata": {
    "id": "202dbbdd-73d3-44e5-be84-5187d380937d",
    "tags": []
   },
   "outputs": [],
   "source": [
    "people.sort()"
   ]
  },
  {
   "cell_type": "code",
   "execution_count": null,
   "id": "7b72de22-9283-4707-ba21-0063922d8f7f",
   "metadata": {
    "id": "11a8a86c-ce8d-4da7-8e14-4e15a61fee17",
    "tags": []
   },
   "outputs": [],
   "source": [
    "people.sort(key=lambda item: item['age'])\n",
    "people"
   ]
  },
  {
   "cell_type": "markdown",
   "id": "bff3adbd-772f-45bc-8ebd-613b50e0ce00",
   "metadata": {
    "id": "297312dd-8f9b-4789-8872-f1736bc7827d",
    "tags": []
   },
   "source": [
    "or by their name."
   ]
  },
  {
   "cell_type": "code",
   "execution_count": null,
   "id": "cfed08d6-425f-48c7-aad0-182bea98c78b",
   "metadata": {
    "id": "8541300f-e62c-49d2-ad6e-69150afec072",
    "tags": []
   },
   "outputs": [],
   "source": [
    "people.sort(key=lambda item: item['name'])\n",
    "people"
   ]
  },
  {
   "cell_type": "markdown",
   "id": "3f7a801e-e8e4-4283-ad69-4127b0a9ddc4",
   "metadata": {
    "id": "701736ad-8f05-408f-bf46-3a37dc0651c3",
    "tags": []
   },
   "source": [
    "Other functions work similarly, For example you can use the `key` argument in `max`"
   ]
  },
  {
   "cell_type": "code",
   "execution_count": null,
   "id": "f50e3082-9577-4df1-b6a8-1b16b431d267",
   "metadata": {
    "id": "f554edd6-0a4c-4a11-95ca-68dbf668cdd5",
    "tags": []
   },
   "outputs": [],
   "source": [
    "max(people, key=lambda x: x['age'])"
   ]
  },
  {
   "cell_type": "markdown",
   "id": "6de99c0c-f409-4ba0-9a83-fb13437dbbd4",
   "metadata": {
    "id": "d8804492-416e-4310-9fd9-b0ee59882f12",
    "tags": []
   },
   "source": [
    "## Exercise\n",
    "Use the `min` function with a `key` argument to find the person that comes first in the alphabet."
   ]
  },
  {
   "cell_type": "code",
   "execution_count": null,
   "id": "6e87d2d4-2998-4171-8584-45d1afc42b9e",
   "metadata": {
    "cell_type": "solution",
    "id": "89fb4372-118c-42b2-bb33-dd11636fb85b",
    "tags": []
   },
   "outputs": [],
   "source": [
    "min(people, key=lambda x: x['name'])"
   ]
  },
  {
   "cell_type": "markdown",
   "id": "4184d7ea-39ab-4df1-b5ac-9abba0e6ce0d",
   "metadata": {
    "id": "9df840d6-5823-4274-aca4-98b28ba1d408",
    "tags": []
   },
   "source": [
    "## Map, Filter & Reduce\n",
    "\n",
    "Python has many features that originally stem from different programming paradigmns. One of these is that of functional programming, where the concept of *map*, *filter*, and *reduce* come from. These functions are there to apply a function to a collection of data."
   ]
  },
  {
   "cell_type": "markdown",
   "id": "8248cd47-8270-46df-b831-111f8aab4d48",
   "metadata": {
    "id": "3e3a219b-d1ff-4aea-bffd-a94f65623d32",
    "tags": []
   },
   "source": [
    "### Map\n",
    "\n",
    "Map takes a function and a collection, and simply applys the function to every element of the collection:"
   ]
  },
  {
   "cell_type": "code",
   "execution_count": null,
   "id": "ae422d7d-0b6a-4a02-aacd-0d594560280a",
   "metadata": {
    "id": "824dd280-3122-4ebc-aeec-691635d1371e",
    "tags": []
   },
   "outputs": [],
   "source": [
    "map?"
   ]
  },
  {
   "cell_type": "code",
   "execution_count": null,
   "id": "b5df59c9-5aba-4aa7-9bce-3db20aa3a8cc",
   "metadata": {
    "id": "95963012-32d7-4da7-9096-723f9f698262",
    "tags": []
   },
   "outputs": [],
   "source": [
    "items = [1, 2, 3, 4, 5]\n",
    "squared = list(map(lambda x: x**2, items))\n",
    "squared"
   ]
  },
  {
   "cell_type": "markdown",
   "id": "16222280-9f44-4f01-919e-9477c3b402d1",
   "metadata": {
    "id": "a40b6c6a-6710-4c4b-9418-debbadfea161",
    "tags": []
   },
   "source": [
    "..which is the same as"
   ]
  },
  {
   "cell_type": "code",
   "execution_count": null,
   "id": "c4208622-888d-4154-895f-98664a3f9f88",
   "metadata": {
    "id": "c1c709d2-10d6-474b-86f7-b641fd63b139",
    "tags": []
   },
   "outputs": [],
   "source": [
    "items = [1, 2, 3, 4, 5]\n",
    "squared = []\n",
    "for i in items:\n",
    "    squared.append(i**2)"
   ]
  },
  {
   "cell_type": "code",
   "execution_count": null,
   "id": "f9b8b44b-28bb-4162-bd37-9e22fea72c9a",
   "metadata": {
    "id": "d5093d21-7e97-45b4-b469-4aba1a5a29ad",
    "tags": []
   },
   "outputs": [],
   "source": [
    "a, b = [1,2,3,4], [4,5,6]\n",
    "# Map can also have several collections as arguments. Look again what zip does:\n",
    "print(list(zip(a, b)))\n",
    "# And try to implement the same behaviour with map instead of zip\n"
   ]
  },
  {
   "cell_type": "markdown",
   "id": "70cfe92d-03ae-400f-ac8d-9f768a77d941",
   "metadata": {
    "id": "f4cbe0d4-fd1a-49d8-b19b-c96e52a60e6c",
    "tags": []
   },
   "source": [
    "### Filter\n",
    "\n",
    "`filter` takes a collection and a function that returns a boolean value. As the name suggests, it thus filters the list: it creates a list of elements for which the function returns true."
   ]
  },
  {
   "cell_type": "code",
   "execution_count": null,
   "id": "bc6d343e-a81f-405c-9ad7-aee4b551e35b",
   "metadata": {
    "id": "dc2a8365-0f76-4431-865b-f70a2c4df254",
    "tags": []
   },
   "outputs": [],
   "source": [
    "number_list = range(-5, 5)\n",
    "print(\"unfiltered:\", list(number_list))\n",
    "less_than_zero = list(filter(lambda x: x < 0, number_list))\n",
    "print(\"filtered:\", less_than_zero)"
   ]
  },
  {
   "cell_type": "raw",
   "id": "15f84431-7f89-4d35-b5d1-fe4b14299a35",
   "metadata": {
    "id": "f4e4e3a3-991c-41ff-8981-938237cdf5d4",
    "tags": []
   },
   "source": [
    "# an actual example (not here exectuable) from a project of mine:\n",
    "for (dirpath, dirnames, filenames) in os.walk(args.basepath):\n",
    "    filenames = list(filter(lambda x: os.path.splitext(x)[1] not in IGNORE_EXTS, filenames))\n",
    "    if not args.include_hidden:\n",
    "        filenames = list(filter(lambda x: x[0] != '.', filenames))"
   ]
  },
  {
   "cell_type": "markdown",
   "id": "cbeb6a05-1a91-4b1e-b265-14a2b3d483a9",
   "metadata": {
    "id": "aef19632-ab18-4ab0-b61b-4a223e750695",
    "tags": []
   },
   "source": [
    "### Reduce \n",
    "\n",
    "is a really useful function for performing some computation on a list and returning the result. It applies a rolling computation to sequential pairs of values in a list. For example, if you wanted to compute the product of a list of integers."
   ]
  },
  {
   "cell_type": "code",
   "execution_count": null,
   "id": "5411eb3c-dfc3-453f-8592-a1af55fc9cef",
   "metadata": {
    "id": "3d8c30ca-ed9c-4151-8330-2c44abe04239",
    "tags": []
   },
   "outputs": [],
   "source": [
    "reduce?"
   ]
  },
  {
   "cell_type": "code",
   "execution_count": null,
   "id": "959eef08-e52b-4c55-b6fe-4b67a8dfb1bd",
   "metadata": {
    "id": "49f5ce9e-bc5b-4fc4-aca9-8af0235c48ce",
    "tags": []
   },
   "outputs": [],
   "source": [
    "from functools import reduce #reduce is not in pythons standardlib and must be imported!\n",
    "mysum = reduce(lambda x,y: x+y, [47,11,42,13])\n",
    "mysum"
   ]
  },
  {
   "cell_type": "markdown",
   "id": "e2b67047-1427-4aa5-ad50-13b53de5c6ff",
   "metadata": {
    "id": "246e183d-0d17-424e-8bb0-64e62df02291",
    "tags": []
   },
   "source": [
    "![tool](figures/reduce_diagram.png)"
   ]
  },
  {
   "cell_type": "markdown",
   "id": "5dc59258-0a04-48f0-b5ef-696afb19c7dc",
   "metadata": {
    "id": "d9233c7f-3049-494b-898f-334f935087cb",
    "tags": []
   },
   "source": [
    "...which is the same as:"
   ]
  },
  {
   "cell_type": "code",
   "execution_count": null,
   "id": "b0427fa0-90b5-4def-96ec-6703cb394018",
   "metadata": {
    "id": "1cd6a0fb-3786-4650-b9a8-c6a8060c50af",
    "tags": []
   },
   "outputs": [],
   "source": [
    "product = 1\n",
    "thelist = [1, 2, 3, 4]\n",
    "for num in thelist:\n",
    "    product = product * num"
   ]
  },
  {
   "cell_type": "raw",
   "id": "f00de537-a131-4c9b-8c4b-eb5b232284d7",
   "metadata": {
    "id": "f30eafe1-483f-48f6-9651-8409460413f0",
    "tags": []
   },
   "source": [
    "# real-life example:\n",
    "def get_newest_commit(commitlist):\n",
    "    date = lambda x: parser.parse(x).strftime(\"%s\")\n",
    "    newer = lambda x,y: x if date(x) > date(y) else y\n",
    "    return reduce(newer, commitlist)"
   ]
  }
 ],
 "metadata": {
  "kernelspec": {
   "display_name": "Python 3 (ipykernel)",
   "language": "python",
   "name": "python3"
  },
  "language_info": {
   "codemirror_mode": {
    "name": "ipython",
    "version": 3
   },
   "file_extension": ".py",
   "mimetype": "text/x-python",
   "name": "python",
   "nbconvert_exporter": "python",
   "pygments_lexer": "ipython3",
   "version": "3.11.2"
  }
 },
 "nbformat": 4,
 "nbformat_minor": 5
}
