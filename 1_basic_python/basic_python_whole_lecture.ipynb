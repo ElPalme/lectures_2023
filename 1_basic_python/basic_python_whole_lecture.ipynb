{
 "cells": [
  {
   "cell_type": "markdown",
   "id": "c3782837",
   "metadata": {
    "jp-MarkdownHeadingCollapsed": true,
    "tags": []
   },
   "source": [
    "# Printing and Comments "
   ]
  },
  {
   "cell_type": "markdown",
   "id": "002e071b",
   "metadata": {},
   "source": [
    "You might wonder why we start this lecture with printing and comments. <br>\n",
    "But printing as well as comments are important to see what your code actually does. "
   ]
  },
  {
   "cell_type": "markdown",
   "id": "d095a597",
   "metadata": {},
   "source": [
    "## The print() function"
   ]
  },
  {
   "cell_type": "markdown",
   "id": "6f057db8",
   "metadata": {},
   "source": [
    "The print function \"prints\" an object. This object does not have to belonge to the \"inbuild\" Python objects, it can also be an object that we created ourselfs (but more to creating objects later). In the first few jupyter notebooks you work on, you might ask yourself why printing is so important, since jupyter shows you the output of a cell. <br>\n",
    "But in later notebooks as the code gets more and more complex you can see why we use it :)"
   ]
  },
  {
   "cell_type": "code",
   "execution_count": null,
   "id": "92e6b6ba",
   "metadata": {},
   "outputs": [],
   "source": [
    "print(1)"
   ]
  },
  {
   "cell_type": "code",
   "execution_count": null,
   "id": "9a613c4e",
   "metadata": {},
   "outputs": [],
   "source": [
    "print(\"hello world\")"
   ]
  },
  {
   "cell_type": "code",
   "execution_count": null,
   "id": "0ce66cd2",
   "metadata": {},
   "outputs": [],
   "source": [
    "print(2 + 3)"
   ]
  },
  {
   "cell_type": "markdown",
   "id": "c5a7fed6",
   "metadata": {},
   "source": [
    "<div class=\"alert alert-block alert-info\">\n",
    "<b>Exercise:</b> \n",
    "    <br>\n",
    "    Experiment with the print function. What can you print and what not?\n",
    "</div>"
   ]
  },
  {
   "cell_type": "markdown",
   "id": "ec761978",
   "metadata": {},
   "source": [
    "<div class=\"alert alert-block alert-success\">\n",
    "<b>Tip:</b> \n",
    "    <br>\n",
    "    When you write longer code or more complex functions and something is not working and you cannot see why, do not despair! Try to print out everything that might seem relevant. Through that you can often find out what is going wrong.\n",
    "</div>"
   ]
  },
  {
   "cell_type": "markdown",
   "id": "c4bbabb9",
   "metadata": {},
   "source": [
    "---"
   ]
  },
  {
   "cell_type": "markdown",
   "id": "ff124dc7",
   "metadata": {},
   "source": [
    "## Comments"
   ]
  },
  {
   "cell_type": "markdown",
   "id": "1580974a",
   "metadata": {},
   "source": [
    "Comments are important to describe what is going on in your code, so that others (and you) can understand it better. <br>\n",
    "In python comments are written preceded by a `#`."
   ]
  },
  {
   "cell_type": "code",
   "execution_count": null,
   "id": "d00d5c3d",
   "metadata": {},
   "outputs": [],
   "source": [
    "# this is a comment"
   ]
  },
  {
   "cell_type": "markdown",
   "id": "6f9723bf",
   "metadata": {},
   "source": [
    "<div class=\"alert alert-block alert-warning\">\n",
    "<b>Important:</b> \n",
    "    <br>\n",
    "    Always try to write meaningful comments for your code. This will save you and others a lot of headache when trying to understand your code.\n",
    "</div>"
   ]
  },
  {
   "cell_type": "markdown",
   "id": "8236e51c",
   "metadata": {},
   "source": [
    "---"
   ]
  },
  {
   "cell_type": "markdown",
   "id": "a21b6ef7",
   "metadata": {},
   "source": [
    "One more thing ... the official styleguide"
   ]
  },
  {
   "cell_type": "markdown",
   "id": "11e77448",
   "metadata": {},
   "source": [
    "## PEP 8 Naming conventions\n",
    "[PEP 8](https://www.python.org/dev/peps/pep-0008/), i.e. the Python Enhancement Proposal number 8, is a style guide for writing Python code. Having an official style guide makes Python code look really similar across different projects. It's role in the success of Python should not be underestimated. If you are unsure about the style of your code, have a look at PEP 8. And here are the PEP 8 recommendations for variable names:  \n",
    "\n",
    "`module_name, package_name, method_name, function_name, global_var_name, instance_var_name, function_parameter_name, local_var_name`\n",
    "\n",
    "`ClassName, ExceptionName`\n",
    "\n",
    "`GLOBAL_CONSTANT_NAME`"
   ]
  },
  {
   "cell_type": "markdown",
   "id": "f21ebb23",
   "metadata": {},
   "source": [
    "You do not have to understand all of these names right now :)"
   ]
  },
  {
   "cell_type": "markdown",
   "id": "2aa012d3",
   "metadata": {},
   "source": [
    "<div class=\"alert alert-block alert-warning\">\n",
    "<b>Important:</b> \n",
    "    <br>\n",
    "    Please stick to the official python styleguide, especially when it comes to your homework.\n",
    "</div>"
   ]
  },
  {
   "cell_type": "markdown",
   "id": "40eddcb8",
   "metadata": {
    "jp-MarkdownHeadingCollapsed": true,
    "tags": []
   },
   "source": [
    "---\n",
    "# Basic Types"
   ]
  },
  {
   "cell_type": "markdown",
   "id": "3a472507",
   "metadata": {},
   "source": [
    "## 1. Integers"
   ]
  },
  {
   "cell_type": "markdown",
   "id": "ff5dd49e",
   "metadata": {},
   "source": [
    "Integers belong to the basic types in python. They can be positive or negative."
   ]
  },
  {
   "cell_type": "code",
   "execution_count": null,
   "id": "d67a1c10",
   "metadata": {},
   "outputs": [],
   "source": [
    "1"
   ]
  },
  {
   "cell_type": "code",
   "execution_count": null,
   "id": "7040f638",
   "metadata": {},
   "outputs": [],
   "source": [
    "-28"
   ]
  },
  {
   "cell_type": "markdown",
   "id": "16388b11",
   "metadata": {},
   "source": [
    "With the inbuild function `type()` you can find out the type of a certain object. <br>"
   ]
  },
  {
   "cell_type": "code",
   "execution_count": null,
   "id": "8637159d",
   "metadata": {},
   "outputs": [],
   "source": [
    "type(14)"
   ]
  },
  {
   "cell_type": "code",
   "execution_count": null,
   "id": "6e9bcc22",
   "metadata": {},
   "outputs": [],
   "source": [
    "type(-112)"
   ]
  },
  {
   "cell_type": "markdown",
   "id": "254cdd97",
   "metadata": {},
   "source": [
    "Since integers belong to the `basic types` and therefore are objects, they come with methods, so they provide us with different functions.\n",
    "Integers have a lot of methods which we can check with dir."
   ]
  },
  {
   "cell_type": "code",
   "execution_count": null,
   "id": "bf224986",
   "metadata": {},
   "outputs": [],
   "source": [
    "dir(14)"
   ]
  },
  {
   "cell_type": "markdown",
   "id": "b5498142",
   "metadata": {},
   "source": [
    "Most of these methods are dunder methods (**d**ouble **under**) which determine the types behaviour for built-in operators and functions.<br>\n",
    "For example `+` which will call `__add__`"
   ]
  },
  {
   "cell_type": "code",
   "execution_count": null,
   "id": "6a820030",
   "metadata": {},
   "outputs": [],
   "source": [
    "(1).__add__(1)"
   ]
  },
  {
   "cell_type": "code",
   "execution_count": null,
   "id": "a816194d",
   "metadata": {},
   "outputs": [],
   "source": [
    "1 + 1"
   ]
  },
  {
   "cell_type": "markdown",
   "id": "3773e4dc",
   "metadata": {},
   "source": [
    "## 2. Floats (floating point number)"
   ]
  },
  {
   "cell_type": "markdown",
   "id": "22671806",
   "metadata": {},
   "source": [
    "Floats also belonge to the `basic types`. They can be written as a decimal number `1.23` or in a scientific notation `123e-2`. <br>\n",
    "If you are using the decimal number notation make sure you are using a dott and not a comma. Otherwise python will automatically create a tuple for you. We will see what a tuple is in another notebook."
   ]
  },
  {
   "cell_type": "code",
   "execution_count": null,
   "id": "23fd3fd1",
   "metadata": {},
   "outputs": [],
   "source": [
    "1.23"
   ]
  },
  {
   "cell_type": "code",
   "execution_count": null,
   "id": "4fd6a2d0",
   "metadata": {},
   "outputs": [],
   "source": [
    "1,23"
   ]
  },
  {
   "cell_type": "code",
   "execution_count": null,
   "id": "59da48e9",
   "metadata": {},
   "outputs": [],
   "source": [
    "type((1,23))"
   ]
  },
  {
   "cell_type": "code",
   "execution_count": null,
   "id": "7e422312",
   "metadata": {},
   "outputs": [],
   "source": [
    "123e-2"
   ]
  },
  {
   "cell_type": "code",
   "execution_count": null,
   "id": "cd1152f7",
   "metadata": {},
   "outputs": [],
   "source": [
    "type(1.23)"
   ]
  },
  {
   "cell_type": "code",
   "execution_count": null,
   "id": "1dce178c",
   "metadata": {},
   "outputs": [],
   "source": [
    "type(123e-2)"
   ]
  },
  {
   "cell_type": "markdown",
   "id": "a39464eb",
   "metadata": {},
   "source": [
    "## numeric operators"
   ]
  },
  {
   "cell_type": "markdown",
   "id": "c933f9e4",
   "metadata": {},
   "source": [
    "Like you would expect we can use numeric operators."
   ]
  },
  {
   "cell_type": "code",
   "execution_count": null,
   "id": "d795bf49",
   "metadata": {},
   "outputs": [],
   "source": [
    "a = 2\n",
    "b = 3\n",
    "\n",
    "print('a + b = ', a + b)\n",
    "print('a - b = ', a - b)\n",
    "print('a * b = ', a * b)\n",
    "print('a ** b = ', a ** b)  # a to the power of b (a^b is a bit-wise XOR!)\n",
    "print('a / b = ', a / b)\n",
    "print('a // b = ', a // b)  # Floor division \n",
    "print('b % a = ', b % a)    # Modulo operator (divide, return remainder)"
   ]
  },
  {
   "cell_type": "markdown",
   "id": "db0746e1",
   "metadata": {},
   "source": [
    "One thing to note is that the type of result may differ from the input:"
   ]
  },
  {
   "cell_type": "code",
   "execution_count": null,
   "id": "53e58e44",
   "metadata": {},
   "outputs": [],
   "source": [
    "print(type(a), type(b), type(a / b))"
   ]
  },
  {
   "cell_type": "markdown",
   "id": "6e29377e",
   "metadata": {},
   "source": [
    "---\n",
    "## 3. Strings"
   ]
  },
  {
   "cell_type": "markdown",
   "id": "b934d82e",
   "metadata": {},
   "source": [
    "A **`string`** is a sequence of characters written in between double quotes `\" \"`"
   ]
  },
  {
   "cell_type": "code",
   "execution_count": null,
   "id": "ba329467",
   "metadata": {},
   "outputs": [],
   "source": [
    "\"this is a string\""
   ]
  },
  {
   "cell_type": "markdown",
   "id": "1ba6166b",
   "metadata": {},
   "source": [
    "We can exchange or even add double quotes to single quotes, as long as we dont mix them."
   ]
  },
  {
   "cell_type": "code",
   "execution_count": null,
   "id": "e40d7657",
   "metadata": {},
   "outputs": [],
   "source": [
    "'this is also a string'"
   ]
  },
  {
   "cell_type": "code",
   "execution_count": null,
   "id": "e4d6b200",
   "metadata": {},
   "outputs": [],
   "source": [
    "\"'and even this is a string'\""
   ]
  },
  {
   "cell_type": "code",
   "execution_count": null,
   "id": "27f70251",
   "metadata": {},
   "outputs": [],
   "source": [
    "\"but this is not a string'"
   ]
  },
  {
   "cell_type": "markdown",
   "id": "96c4991e",
   "metadata": {},
   "source": [
    "If we want our string to cointain both single and double quotes we can make use of triple quotes.\n",
    "This also allows us to include line breaks."
   ]
  },
  {
   "cell_type": "code",
   "execution_count": null,
   "id": "f94d1a89",
   "metadata": {},
   "outputs": [],
   "source": [
    "a = \"\"\"\n",
    "    hello\n",
    "    \"'world'\"\n",
    "    \"\"\"\n",
    "print(a)"
   ]
  },
  {
   "cell_type": "markdown",
   "id": "f43579a4",
   "metadata": {},
   "source": [
    "## string operators\n",
    "Most of the numeric operatores also work for strings."
   ]
  },
  {
   "cell_type": "code",
   "execution_count": null,
   "id": "3f52f5c9",
   "metadata": {},
   "outputs": [],
   "source": [
    "'hello' + 'world'"
   ]
  },
  {
   "cell_type": "code",
   "execution_count": null,
   "id": "b97199d0",
   "metadata": {},
   "outputs": [],
   "source": [
    "'hello' * 3"
   ]
  },
  {
   "cell_type": "markdown",
   "id": "e3d4492a",
   "metadata": {},
   "source": [
    "<div class=\"alert alert-block alert-info\">\n",
    "<b>Exercise:</b> \n",
    "    <br> Which numeric opperators do not work for strings? \n",
    "</div>"
   ]
  },
  {
   "cell_type": "code",
   "execution_count": null,
   "id": "000deeff",
   "metadata": {},
   "outputs": [],
   "source": [
    "# here is some space for you to experiment"
   ]
  },
  {
   "cell_type": "markdown",
   "id": "a37d764f",
   "metadata": {},
   "source": [
    "---\n",
    "## 4. Booleans"
   ]
  },
  {
   "cell_type": "markdown",
   "id": "fd122776",
   "metadata": {},
   "source": [
    "A **`boolean`** can have the value `true` or `false` or respectively `1` and `0`."
   ]
  },
  {
   "cell_type": "code",
   "execution_count": null,
   "id": "8e776883",
   "metadata": {},
   "outputs": [],
   "source": [
    "True"
   ]
  },
  {
   "cell_type": "code",
   "execution_count": null,
   "id": "7b86c989",
   "metadata": {},
   "outputs": [],
   "source": [
    "False"
   ]
  },
  {
   "cell_type": "markdown",
   "id": "e6cd55a1",
   "metadata": {},
   "source": [
    "## boolean operators"
   ]
  },
  {
   "cell_type": "markdown",
   "id": "e412d7fa",
   "metadata": {},
   "source": [
    "Boolean operators can be used to compare two things."
   ]
  },
  {
   "cell_type": "code",
   "execution_count": null,
   "id": "987daca7",
   "metadata": {},
   "outputs": [],
   "source": [
    "a = 2\n",
    "b = 3\n",
    "\n",
    "print('a > b ?', a > b)    \n",
    "print('a >= b ?', a >= b)  \n",
    "print('a == b ?', a == b)   \n",
    "print('a != b ?', a != b)  # a not equal b\n",
    "print('a < b ?', a < b)\n",
    "print('a <= b ?', a <= b)"
   ]
  },
  {
   "cell_type": "markdown",
   "id": "ac9be200",
   "metadata": {},
   "source": [
    "<div class=\"alert alert-block alert-warning\">\n",
    "<b>Important:</b> \n",
    "    <br> Remember that you have to use == to compare two things. If you just use = you are assigning a variable when you are using a name (more to that later) or get an error.\n",
    "</div>"
   ]
  },
  {
   "cell_type": "code",
   "execution_count": null,
   "id": "55c0d2e6",
   "metadata": {},
   "outputs": [],
   "source": [
    "2 = 3"
   ]
  },
  {
   "cell_type": "markdown",
   "id": "4ae9a92e",
   "metadata": {},
   "source": [
    "We can also use boolean opperators to perform logical opperations on booleans."
   ]
  },
  {
   "cell_type": "code",
   "execution_count": null,
   "id": "a20c5ca6",
   "metadata": {},
   "outputs": [],
   "source": [
    "a = (1 > 3)\n",
    "b = 3 == 3\n",
    "print(a)\n",
    "print(b)\n",
    "\n",
    "print(a or b)\n",
    "print(a and b)\n",
    "print(not b)\n",
    "\n",
    "#There is also | and &, which are equal for booleans, but different for numbers (work on binary level)"
   ]
  },
  {
   "cell_type": "markdown",
   "id": "470eb78d",
   "metadata": {},
   "source": [
    "### is operator\n",
    "The is operator also checks if two variables are the same. But it does not check for the value but whether or not both variables refer to the same object. <br>"
   ]
  },
  {
   "cell_type": "code",
   "execution_count": null,
   "id": "d564ec26",
   "metadata": {},
   "outputs": [],
   "source": [
    "a = 300\n",
    "b = 300\n",
    "print(a is b)"
   ]
  },
  {
   "cell_type": "code",
   "execution_count": null,
   "id": "85b4ce20",
   "metadata": {},
   "outputs": [],
   "source": [
    "b = a\n",
    "print(a is b)"
   ]
  },
  {
   "cell_type": "markdown",
   "id": "f1f230e4",
   "metadata": {},
   "source": [
    "Internally it checks for the objects ids/memory adresses, so the place in the computer's memory where the object is saved."
   ]
  },
  {
   "cell_type": "code",
   "execution_count": null,
   "id": "1f028a19",
   "metadata": {},
   "outputs": [],
   "source": [
    "print(id(a))\n",
    "print(id(b))"
   ]
  },
  {
   "cell_type": "markdown",
   "id": "bce4cbad",
   "metadata": {},
   "source": [
    "If you now run this line you can see that the id of `a` changes even though we did not change the value of `a`. This is due to how the computer internally works with variable assignment."
   ]
  },
  {
   "cell_type": "code",
   "execution_count": null,
   "id": "7fe1d110",
   "metadata": {},
   "outputs": [],
   "source": [
    "a = 300\n",
    "print(id(a))"
   ]
  },
  {
   "cell_type": "markdown",
   "id": "ade1a72f",
   "metadata": {
    "jp-MarkdownHeadingCollapsed": true,
    "tags": []
   },
   "source": [
    "---\n",
    "# Variables"
   ]
  },
  {
   "cell_type": "markdown",
   "id": "2418343d",
   "metadata": {},
   "source": [
    "Until now we covered the basic types, but with just several unconnected objects (so a number, string or boolean) we cannot really program. For that we have to remember our objects somehow to make them interact or change them. <br>\n",
    "For that we use so called `variables` or names. We can assign an object to a variable by writing the variable on the left then writing $ = $ and then the object on the right side, like this: "
   ]
  },
  {
   "cell_type": "code",
   "execution_count": null,
   "id": "5fb19641",
   "metadata": {},
   "outputs": [],
   "source": [
    "variable1 = 10"
   ]
  },
  {
   "cell_type": "markdown",
   "id": "d6859b6d",
   "metadata": {},
   "source": [
    "We cannot only assign integer objects to variables but also other objects and variables to variables:"
   ]
  },
  {
   "cell_type": "code",
   "execution_count": null,
   "id": "99028ad9",
   "metadata": {},
   "outputs": [],
   "source": [
    "string1 = \"hello\""
   ]
  },
  {
   "cell_type": "code",
   "execution_count": null,
   "id": "36f8a4fe",
   "metadata": {},
   "outputs": [],
   "source": [
    "boolean1 = True"
   ]
  },
  {
   "cell_type": "code",
   "execution_count": null,
   "id": "ede8080b",
   "metadata": {},
   "outputs": [],
   "source": [
    "variable2 = variable1"
   ]
  },
  {
   "cell_type": "markdown",
   "id": "dea86587",
   "metadata": {},
   "source": [
    "<div class=\"alert alert-block alert-info\">\n",
    "<b>Exercise:</b> \n",
    "    <br>\n",
    "    What happens to variable2 when you now change variable1?\n",
    "    <br>\n",
    "    a: variable2 also changes\n",
    "    <br>\n",
    "    b: variable2 stays the same\n",
    "    <br>\n",
    "    c: everything breaks\n",
    "</div>"
   ]
  },
  {
   "cell_type": "code",
   "execution_count": null,
   "id": "7c84d3d6",
   "metadata": {},
   "outputs": [],
   "source": [
    "# some space to experiment"
   ]
  },
  {
   "cell_type": "markdown",
   "id": "b6c47948",
   "metadata": {},
   "source": [
    "By assigning a new value to our variable we do not change the original object. We create a new object and give it the same name. If we then assign a new object to variable2 the old object is lost and it will eventually be collected by the garbage collector (not a metapher). "
   ]
  },
  {
   "cell_type": "code",
   "execution_count": null,
   "id": "b5970aa7",
   "metadata": {},
   "outputs": [],
   "source": [
    "variable2 = \"now a string\""
   ]
  },
  {
   "cell_type": "markdown",
   "id": "def654c8",
   "metadata": {},
   "source": [
    "<div class=\"alert alert-block alert-warning\">\n",
    "<b>Important:</b> \n",
    "    <br>\n",
    "    Always try to make your variable names as meaningful as possible. In a longer, more complecated code meaningful variable assingments make it a lot easier to understand what is going on.\n",
    "</div>"
   ]
  },
  {
   "cell_type": "markdown",
   "id": "476a2a22",
   "metadata": {},
   "source": [
    "## Typing"
   ]
  },
  {
   "cell_type": "markdown",
   "id": "a9811f0f",
   "metadata": {},
   "source": [
    "We have already seen before that we can check the type of an object with the `type()` function. <br>\n",
    "As we have seen now we can \"change\" the types of our variables dynamically, therefore we say that Python is **dynamically typed**."
   ]
  },
  {
   "cell_type": "code",
   "execution_count": null,
   "id": "ac5b0f3d",
   "metadata": {},
   "outputs": [],
   "source": [
    "var = 2\n",
    "print(type(var))\n",
    "\n",
    "var = \"two\"\n",
    "print(type(var))\n",
    "\n",
    "var = False\n",
    "print(type(var))"
   ]
  },
  {
   "cell_type": "markdown",
   "id": "b1b87942",
   "metadata": {},
   "source": [
    "We also say that Python is **strongly typed** because the actual objects dont change their type."
   ]
  },
  {
   "cell_type": "markdown",
   "id": "63526945-35e6-45e7-9a00-e25b2152c6ee",
   "metadata": {
    "jp-MarkdownHeadingCollapsed": true,
    "tags": []
   },
   "source": [
    "# Functions"
   ]
  },
  {
   "cell_type": "markdown",
   "id": "5ae33dab-842f-412c-a1ce-8241d4c7b564",
   "metadata": {
    "tags": []
   },
   "source": [
    "These will be very familiar to anyone who has programmed in any language, and work like you\n",
    "would expect.\n",
    "\n",
    "\n",
    "A quick __summary__ :\n",
    "\n",
    "- A function is a __block of code__ which runs only when it is called. \n",
    "- You can pass data, known as `parameter`, into a function.\n",
    "- A function can `return` data as a result."
   ]
  },
  {
   "cell_type": "code",
   "execution_count": null,
   "id": "c7fa5788",
   "metadata": {},
   "outputs": [],
   "source": [
    "# There are thousands of functions that operate on things.\n",
    "print(type(3))\n",
    "print(len('hello'))\n",
    "print(round(3.3))"
   ]
  },
  {
   "cell_type": "markdown",
   "id": "cf68b5ea",
   "metadata": {},
   "source": [
    "<div class=\"alert alert-block alert-success\">\n",
    "<b>Tip:</b> <br>\n",
    "    To find out what a function does, you can type it's name and then a question mark to\n",
    "get some information. Or, to see what arguments it takes, you can type its name, an open\n",
    "parenthesis, and hit shift-tab. \n",
    "    <br>\n",
    "    <b> Try it out yourself! </b>\n",
    "</div>"
   ]
  },
  {
   "cell_type": "code",
   "execution_count": null,
   "id": "50daac5d",
   "metadata": {},
   "outputs": [],
   "source": [
    "round?"
   ]
  },
  {
   "cell_type": "code",
   "execution_count": null,
   "id": "b5196535",
   "metadata": {},
   "outputs": [],
   "source": [
    "round()"
   ]
  },
  {
   "cell_type": "markdown",
   "id": "cebe36b8",
   "metadata": {},
   "source": [
    "In Python, **functions are first-class objects!**"
   ]
  },
  {
   "cell_type": "code",
   "execution_count": null,
   "id": "9f6ea484",
   "metadata": {},
   "outputs": [],
   "source": [
    "a_function = print\n",
    "a_function(\"Hello, world!\")\n",
    "print(\"What it is:\", a_function)\n",
    "print(\"type:\", type(a_function))"
   ]
  },
  {
   "cell_type": "markdown",
   "id": "1c007093",
   "metadata": {},
   "source": [
    "<br><br><br>"
   ]
  },
  {
   "cell_type": "markdown",
   "id": "22c2e41b",
   "metadata": {},
   "source": [
    "\n",
    "## writing functions"
   ]
  },
  {
   "cell_type": "markdown",
   "id": "2c480a43",
   "metadata": {},
   "source": [
    "As we have seen before we can use one or more `parameters` and a `return statement` for a function.\n",
    "<br>\n",
    "A function in python is defined by using the keyword `def`."
   ]
  },
  {
   "cell_type": "code",
   "execution_count": null,
   "id": "0370a40a",
   "metadata": {},
   "outputs": [],
   "source": [
    "# we define the function using def. The name of the function is always in lower snake case.\n",
    "\n",
    "def a_function():\n",
    "    print(\"This is another function without parameter\")\n",
    "    "
   ]
  },
  {
   "cell_type": "code",
   "execution_count": null,
   "id": "5fc79b87",
   "metadata": {},
   "outputs": [],
   "source": [
    "# lets try it out\n",
    "a_function()"
   ]
  },
  {
   "cell_type": "code",
   "execution_count": null,
   "id": "2bccbfe4",
   "metadata": {},
   "outputs": [],
   "source": [
    "# let's write another function, this time with a parameter and a value to return\n",
    "\n",
    "def another_function(parameter):  # we here give our function a parameter, this can also be empty\n",
    "    # do something in a function\n",
    "    parameter += 1\n",
    "    \n",
    "    # use the return statement when you want to return a value\n",
    "    return parameter"
   ]
  },
  {
   "cell_type": "code",
   "execution_count": null,
   "id": "a4bed3db",
   "metadata": {},
   "outputs": [],
   "source": [
    "print(another_function(3))"
   ]
  },
  {
   "cell_type": "markdown",
   "id": "c644421a",
   "metadata": {},
   "source": [
    "<div class=\"alert alert-block alert-warning\">\n",
    "<b>Important:</b> \n",
    "    <br> \n",
    "    Always make sure whether and what you expect the function to return something, otherwise you can get and error!\n",
    "</div>"
   ]
  },
  {
   "cell_type": "code",
   "execution_count": null,
   "id": "b0f29e45",
   "metadata": {},
   "outputs": [],
   "source": [
    "a = another_function() + 1"
   ]
  },
  {
   "cell_type": "markdown",
   "id": "e9f40377",
   "metadata": {},
   "source": [
    "We can pass different data in the same function from different calls. "
   ]
  },
  {
   "cell_type": "code",
   "execution_count": null,
   "id": "e0a194aa",
   "metadata": {},
   "outputs": [],
   "source": [
    "def send_email(name):\n",
    "    print(\"sending email to \" + name)\n",
    "\n",
    "\n",
    "send_email(\"Guido van Rossum\")\n",
    "send_email(\"Elon Mask\")\n",
    "send_email(\"Putin\")\n"
   ]
  },
  {
   "cell_type": "markdown",
   "id": "fd663466",
   "metadata": {},
   "source": [
    "Let's come back to our `parameters`. \n",
    "<br>\n",
    "You can pass arguments in your function. By default your function must pass the defined number of parameter while calling them."
   ]
  },
  {
   "cell_type": "code",
   "execution_count": 14,
   "id": "df898226",
   "metadata": {},
   "outputs": [
    {
     "name": "stdout",
     "output_type": "stream",
     "text": [
      "todays menu: \n",
      "pizza\n",
      "cola\n",
      "pudding\n"
     ]
    }
   ],
   "source": [
    "def feed_the_homeless(main_course, drink, desert):\n",
    "    print(\"todays menu: \")\n",
    "    print(main_course)\n",
    "    print(drink)\n",
    "    print(desert)\n",
    "\n",
    "\n",
    "feed_the_homeless(\"pizza\", \"cola\" , \"pudding\")"
   ]
  },
  {
   "cell_type": "markdown",
   "id": "18d7b6dc",
   "metadata": {},
   "source": [
    "You can define `default values` in the function. These values do not have to be passed when using the function.\n",
    "\n",
    "Always write the default values after you defined all your non-default values."
   ]
  },
  {
   "cell_type": "code",
   "execution_count": null,
   "id": "40cb8a07",
   "metadata": {},
   "outputs": [],
   "source": [
    "def feed_the_homeless(drink, desert, main_course = \"Soup\"):\n",
    "\n",
    "    print(\"todays menu: \")\n",
    "    print(main_course)\n",
    "    print(drink)\n",
    "    print(desert)\n",
    "\n",
    "\n",
    "feed_the_homeless(\"cola\" , \"pudding\")"
   ]
  },
  {
   "cell_type": "markdown",
   "id": "db5d5e82",
   "metadata": {},
   "source": [
    "But default values can also be replaced. Here default arguments must follow non-default arguments."
   ]
  },
  {
   "cell_type": "code",
   "execution_count": null,
   "id": "e5e91847",
   "metadata": {},
   "outputs": [],
   "source": [
    "def feed_the_homeless(drink, desert, main_course = \"Soup\"):\n",
    "\n",
    "    print(\"todays menu:\")\n",
    "    print(main_course)\n",
    "    print(drink)\n",
    "    print(desert)\n",
    "\n",
    "\n",
    "feed_the_homeless(\"cola\" , \"pudding\",main_course = \"pizzza\")"
   ]
  },
  {
   "cell_type": "markdown",
   "id": "0ce7132c",
   "metadata": {},
   "source": [
    "If the name of the parameters are defined then it can be writen in any order from **\"function call\"**"
   ]
  },
  {
   "cell_type": "code",
   "execution_count": null,
   "id": "98dae69a",
   "metadata": {},
   "outputs": [],
   "source": [
    "feed_the_homeless(drink = \"cola\", main_course = \"pizzza\", desert = \"pudding\")"
   ]
  },
  {
   "cell_type": "markdown",
   "id": "3f60111e",
   "metadata": {},
   "source": [
    "<div class=\"alert alert-block alert-info\">\n",
    "<b>Exercise:</b> \n",
    "    <br>\n",
    "    Write a function that:\n",
    "    <br>\n",
    "    - takes 2 numbers\n",
    "    <br>\n",
    "    - adds them together\n",
    "    <br>\n",
    "    - returns the result\n",
    "    <br>\n",
    "    - prints out \"I like addition\" by default, but can print a text given by the user\n",
    "    <br>\n",
    "</div>"
   ]
  },
  {
   "cell_type": "code",
   "execution_count": null,
   "id": "8d5d1d3a",
   "metadata": {},
   "outputs": [],
   "source": [
    "# your function"
   ]
  },
  {
   "cell_type": "markdown",
   "id": "970d0176",
   "metadata": {},
   "source": [
    "<br>\n",
    "<br>\n",
    "<br>"
   ]
  },
  {
   "cell_type": "markdown",
   "id": "cd4595d8",
   "metadata": {
    "jp-MarkdownHeadingCollapsed": true,
    "tags": []
   },
   "source": [
    "---\n",
    "# Methods"
   ]
  },
  {
   "cell_type": "markdown",
   "id": "13ff76ca",
   "metadata": {},
   "source": [
    "In the simplest terms, you can think of an object as a containing both data and behavior, i.e. functions that operate on that data. For example, strings in Python are\n",
    "objects that contain a set of characters and also various functions that operate on the set of\n",
    "characters. When bundled in an object, these functions are called \"methods\".\n",
    "\n",
    "Instead of the \"normal\" `function(arguments)` syntax, methods are called using the\n",
    "syntax `object.method(arguments)`."
   ]
  },
  {
   "cell_type": "code",
   "execution_count": null,
   "id": "b1577a4a",
   "metadata": {},
   "outputs": [],
   "source": [
    "# A string is actually an object\n",
    "a = 'hello, world'\n",
    "b = 5\n",
    "print(a, type(a))\n",
    "print(b, type(b))"
   ]
  },
  {
   "cell_type": "code",
   "execution_count": null,
   "id": "70031671",
   "metadata": {},
   "outputs": [],
   "source": [
    "# Objects have bundled methods\n",
    "print(a.capitalize())\n",
    "print(a.replace('l', 'X'))\n",
    "print(a.lower())\n",
    "print(a.upper())\n",
    "print(a.isnumeric())\n",
    "print(a.isalpha()) \n",
    "print(a.isalnum())"
   ]
  },
  {
   "cell_type": "markdown",
   "id": "7bbd9a76",
   "metadata": {},
   "source": [
    "With `dir(\"\")` you can see all inbuild methods for strings. Ignore the ones with the double-underscore."
   ]
  },
  {
   "cell_type": "code",
   "execution_count": null,
   "id": "62478d1e",
   "metadata": {},
   "outputs": [],
   "source": [
    "dir(\"\")"
   ]
  },
  {
   "cell_type": "code",
   "execution_count": null,
   "id": "35383857",
   "metadata": {},
   "outputs": [],
   "source": [
    "\"\".isalpha"
   ]
  },
  {
   "cell_type": "code",
   "execution_count": null,
   "id": "1e8ba78d",
   "metadata": {},
   "outputs": [],
   "source": [
    "# with help() you can get informations about a method\n",
    "help(\"\".isalpha)"
   ]
  },
  {
   "cell_type": "code",
   "execution_count": null,
   "id": "ce050106",
   "metadata": {},
   "outputs": [],
   "source": [
    "# Integers do not have .capitalize() method\n",
    "b.capitalize() # fails"
   ]
  },
  {
   "cell_type": "markdown",
   "id": "c717ffd5",
   "metadata": {},
   "source": [
    "<div class=\"alert alert-block alert-info\">\n",
    "<b>Exercise:</b> \n",
    "    <br>\n",
    "   Try out different inbuild methods for integers.\n",
    "</div>"
   ]
  },
  {
   "cell_type": "markdown",
   "id": "f58654dc",
   "metadata": {},
   "source": [
    "You can check all inbuild functions and methods in the __[python standard library](https://docs.python.org/3/library/index.html)__"
   ]
  },
  {
   "cell_type": "markdown",
   "id": "ead0352e-cf12-4c3a-b907-301ee2f230ea",
   "metadata": {
    "jp-MarkdownHeadingCollapsed": true,
    "tags": []
   },
   "source": [
    "# 1. Lists"
   ]
  },
  {
   "cell_type": "markdown",
   "id": "dc14ec4a-e199-44d4-a2eb-05c6255e7578",
   "metadata": {
    "tags": []
   },
   "source": [
    "Python has a number of objects to handle the collection of other objects. `Lists` are one of them, but there are also `tuples`, `dictionaries` and `sets`. These will be covered in different notebooks"
   ]
  },
  {
   "cell_type": "markdown",
   "id": "8a38209f",
   "metadata": {},
   "source": [
    "Lists are probably the handiest and most flexible type of container. \n",
    "Lists literals are declared with square brackets `[]`. "
   ]
  },
  {
   "cell_type": "code",
   "execution_count": null,
   "id": "b03e1634",
   "metadata": {},
   "outputs": [],
   "source": [
    "# Lists are created with square bracket syntax\n",
    "a = ['blueberry', 'strawberry', 'pineapple']\n",
    "print(a, type(a))"
   ]
  },
  {
   "cell_type": "code",
   "execution_count": null,
   "id": "5af40b51",
   "metadata": {},
   "outputs": [],
   "source": [
    "# It doesn't matter what types are inside the list!\n",
    "tmp = object()\n",
    "b = ['blueberry', 5, 3.1415, True, \"hello world\", [1,2,3], tmp]\n",
    "print(b)"
   ]
  },
  {
   "cell_type": "markdown",
   "id": "b336a91b",
   "metadata": {},
   "source": [
    "Individual elements of a list can be selected using the subscript syntax `a[ind]`."
   ]
  },
  {
   "cell_type": "code",
   "execution_count": null,
   "id": "d739a6e4",
   "metadata": {},
   "outputs": [],
   "source": [
    "# Lists (and all collections) are also indexed with square brackets\n",
    "# NOTE: The first index is zero, not one\n",
    "print(a[0])\n",
    "print(a[1])"
   ]
  },
  {
   "cell_type": "code",
   "execution_count": null,
   "id": "6cc72790",
   "metadata": {},
   "outputs": [],
   "source": [
    "## You can also count from the end of the list\n",
    "print('last item is:', a[-1])\n",
    "print('second to last item is:', a[-2])"
   ]
  },
  {
   "cell_type": "markdown",
   "id": "0be5ad0d",
   "metadata": {},
   "source": [
    "## slicing"
   ]
  },
  {
   "cell_type": "markdown",
   "id": "a189cee7",
   "metadata": {},
   "source": [
    "You can access multiple items from a list by slicing. For that you use a colon between indexes. \n",
    "The syntax is `collection[start:stop]` or `collection[start:stop:step]`. Note that in Python indexing is zero based the first index is inclusive while the last is exclusive. \n",
    "That means that `start:stop` selects $start \\le i \\lt stop$."
   ]
  },
  {
   "cell_type": "code",
   "execution_count": 1,
   "id": "1d5be1c3",
   "metadata": {},
   "outputs": [
    {
     "data": {
      "text/plain": [
       "[0, 1, 2, 3, 4, 5, 6, 7, 8, 9]"
      ]
     },
     "execution_count": 1,
     "metadata": {},
     "output_type": "execute_result"
    }
   ],
   "source": [
    "b = [0, 1, 2, 3, 4, 5, 6, 7, 8, 9]\n",
    "b"
   ]
  },
  {
   "cell_type": "code",
   "execution_count": 2,
   "id": "581c0c8f",
   "metadata": {},
   "outputs": [
    {
     "data": {
      "text/plain": [
       "[0, 1]"
      ]
     },
     "execution_count": 2,
     "metadata": {},
     "output_type": "execute_result"
    }
   ],
   "source": [
    "b[0:2]"
   ]
  },
  {
   "cell_type": "code",
   "execution_count": 3,
   "id": "d27941cb",
   "metadata": {},
   "outputs": [
    {
     "data": {
      "text/plain": [
       "[2, 3, 4, 5, 6, 7, 8, 9]"
      ]
     },
     "execution_count": 3,
     "metadata": {},
     "output_type": "execute_result"
    }
   ],
   "source": [
    "b[2:]"
   ]
  },
  {
   "cell_type": "code",
   "execution_count": null,
   "id": "5f024530",
   "metadata": {},
   "outputs": [],
   "source": [
    "b[:] # this is called soft copy, we'll get to that later\n",
    "b is b[:]"
   ]
  },
  {
   "cell_type": "code",
   "execution_count": 4,
   "id": "9e232afe",
   "metadata": {},
   "outputs": [
    {
     "data": {
      "text/plain": [
       "[0, 1, 2, 3, 4, 5, 6, 7, 8]"
      ]
     },
     "execution_count": 4,
     "metadata": {},
     "output_type": "execute_result"
    }
   ],
   "source": [
    "# you can also define the end based on the last object. So end -1 should return the second to last object\n",
    "b[:-1]"
   ]
  },
  {
   "cell_type": "code",
   "execution_count": 5,
   "id": "611d57d9",
   "metadata": {},
   "outputs": [
    {
     "data": {
      "text/plain": [
       "[2, 4, 6]"
      ]
     },
     "execution_count": 5,
     "metadata": {},
     "output_type": "execute_result"
    }
   ],
   "source": [
    "# we can even define the step size, this is done by adding another : and then some number\n",
    "b[2:8:2]"
   ]
  },
  {
   "cell_type": "code",
   "execution_count": 6,
   "id": "273c59b0",
   "metadata": {},
   "outputs": [
    {
     "data": {
      "text/plain": [
       "[9, 8, 7, 6, 5, 4, 3, 2, 1, 0]"
      ]
     },
     "execution_count": 6,
     "metadata": {},
     "output_type": "execute_result"
    }
   ],
   "source": [
    "# or we can reverse the list\n",
    "b[::-1]"
   ]
  },
  {
   "cell_type": "markdown",
   "id": "a95ba255",
   "metadata": {},
   "source": [
    "<div class=\"alert alert-block alert-info\">\n",
    "<b>Exercise:</b> \n",
    "    <br>\n",
    "    Get all numbers that can be devided by 3 in a reversed order.\n",
    "</div>"
   ]
  },
  {
   "cell_type": "markdown",
   "id": "0e0764b6",
   "metadata": {},
   "source": [
    "## manipulating lists\n",
    "Lists are objects, like everything else, and therefore have methods.\n",
    "\n",
    "One of these methods is `append()`. With `append()` we can add an object at the end of a list."
   ]
  },
  {
   "cell_type": "code",
   "execution_count": null,
   "id": "675cfa92",
   "metadata": {},
   "outputs": [],
   "source": [
    "b.append('banana')\n",
    "b"
   ]
  },
  {
   "cell_type": "code",
   "execution_count": null,
   "id": "ced7b7fc",
   "metadata": {},
   "outputs": [],
   "source": [
    "b.append([1,2])\n",
    "b.append(len)\n",
    "print(b)"
   ]
  },
  {
   "cell_type": "markdown",
   "id": "e7f418e5",
   "metadata": {},
   "source": [
    "With `pop()` we can take the last object out of the list."
   ]
  },
  {
   "cell_type": "code",
   "execution_count": null,
   "id": "735072c1",
   "metadata": {},
   "outputs": [],
   "source": [
    "popped = b.pop()\n",
    "b, popped"
   ]
  },
  {
   "cell_type": "markdown",
   "id": "3201990b",
   "metadata": {},
   "source": [
    "To add multiple objects to a list we can use `extend()`."
   ]
  },
  {
   "cell_type": "code",
   "execution_count": null,
   "id": "a418c8d4",
   "metadata": {},
   "outputs": [],
   "source": [
    "b.extend([1,2])\n",
    "b"
   ]
  },
  {
   "cell_type": "markdown",
   "id": "4a209dc4",
   "metadata": {},
   "source": [
    "To get the length of a list we can use `len()`."
   ]
  },
  {
   "cell_type": "code",
   "execution_count": null,
   "id": "c0394925",
   "metadata": {},
   "outputs": [],
   "source": [
    "len(b)"
   ]
  },
  {
   "cell_type": "markdown",
   "id": "630b6214",
   "metadata": {},
   "source": [
    "With `in` we can check whether an object is contained in a list."
   ]
  },
  {
   "cell_type": "code",
   "execution_count": null,
   "id": "c322d5d8",
   "metadata": {},
   "outputs": [],
   "source": [
    "\"banana\" in b"
   ]
  },
  {
   "cell_type": "markdown",
   "id": "3ecfca00",
   "metadata": {},
   "source": [
    "Lists have the same opperators as strings. And strings can also be sliced."
   ]
  },
  {
   "cell_type": "code",
   "execution_count": null,
   "id": "2989b1e7",
   "metadata": {},
   "outputs": [],
   "source": [
    "l1 = [1, 2, 3]\n",
    "l2 = [4] * 3\n",
    "\n",
    "l1 + l2"
   ]
  },
  {
   "cell_type": "code",
   "execution_count": null,
   "id": "e238675f",
   "metadata": {},
   "outputs": [],
   "source": [
    "# Strings can be sliced just like lists\n",
    "a = \"hello, world!\"\n",
    "a[:5]"
   ]
  },
  {
   "cell_type": "markdown",
   "id": "1556a999",
   "metadata": {},
   "source": [
    "<div class=\"alert alert-block alert-success\">\n",
    "<b>Tip:</b> <br>\n",
    "    A 'gotcha' for some new Python users is that collections, including lists, are actually only the name, referencing to data, and are not the data itself.\n",
    "<br>\n",
    "Remember when we set `b = a` and then changed `a`?\n",
    "<br>\n",
    "What happens when we do this in a list?\n",
    "</div>"
   ]
  },
  {
   "cell_type": "code",
   "execution_count": null,
   "id": "5afef16c",
   "metadata": {},
   "outputs": [],
   "source": [
    "a = [1, 2, \"banana\", 3]\n",
    "b = a\n",
    "print(\"b originally:\", b)\n",
    "a[0] = \"cheesecake\"\n",
    "print(\"b later:\", b)"
   ]
  },
  {
   "cell_type": "markdown",
   "id": "2d837087",
   "metadata": {},
   "source": [
    "Because lists are **mutable**, we can perform changes to a list, unlike a string! To get rid of side-effects, you need to perform a **deep copy** of the object."
   ]
  },
  {
   "cell_type": "code",
   "execution_count": null,
   "id": "9b284a6d",
   "metadata": {},
   "outputs": [],
   "source": [
    "# the copy-module helps us here!\n",
    "from copy import deepcopy\n",
    "a = [1, 2, \"banana\", 3]\n",
    "b = deepcopy(a)  #in the case of lists, an alternative ('soft copy') would be b = a[:]\n",
    "a[0] = \"cheesecake\"\n",
    "print(b)"
   ]
  },
  {
   "cell_type": "markdown",
   "id": "2bb1eafc",
   "metadata": {},
   "source": [
    "Another problem arises when adding objects to list, using the `multiplication syntax`."
   ]
  },
  {
   "cell_type": "code",
   "execution_count": null,
   "id": "7b291e88",
   "metadata": {},
   "outputs": [],
   "source": [
    "l2 = [[]] * 10\n",
    "print(l2)\n",
    "\n",
    "l2[0].append(1)\n",
    "print(l2) #what will this print?"
   ]
  },
  {
   "cell_type": "markdown",
   "id": "1441b546",
   "metadata": {},
   "source": [
    "<div class=\"alert alert-block alert-info\">\n",
    "<b>Exercise:</b> \n",
    "    <br>\n",
    "    What will the following code return?\n",
    "</div>"
   ]
  },
  {
   "cell_type": "code",
   "execution_count": null,
   "id": "7727e6fc",
   "metadata": {},
   "outputs": [],
   "source": [
    "some_guy = 'Fred'\n",
    "\n",
    "first_names = []\n",
    "first_names.append(some_guy)\n",
    "\n",
    "another_list_of_names = first_names\n",
    "another_list_of_names.append('George')\n",
    "some_guy = 'Bill'"
   ]
  },
  {
   "cell_type": "markdown",
   "id": "8bb3a535-6c0b-46b1-8006-678ba7e47d64",
   "metadata": {
    "jp-MarkdownHeadingCollapsed": true,
    "tags": []
   },
   "source": [
    "---\n",
    "# 2. Tuples"
   ]
  },
  {
   "cell_type": "markdown",
   "id": "f116b0f0-1f88-4fc6-b3ba-43217d71c965",
   "metadata": {},
   "source": [
    "We won't say a whole lot about tuples except to mention that they basically work just like lists, with\n",
    "two major exceptions:\n",
    "\n",
    "1. You declare tuples using commas, but usually also () instead of []\n",
    "1. Once you make a tuple, you can't change what's in it (__immutable__)\n",
    "\n",
    "You'll see tuples come up throughout the Python language, and over time you'll develop a feel for when\n",
    "to use them. \n",
    "\n",
    "In general, they're often used instead of lists:\n",
    "\n",
    "1. to group items when the position in the collection is critical, such as coord = (x,y)\n",
    "1. when you want to make prevent accidental modification of the items, e.g. shape = (12,23)"
   ]
  },
  {
   "cell_type": "code",
   "execution_count": null,
   "id": "5784504a",
   "metadata": {},
   "outputs": [],
   "source": [
    "x = 1, 2, 3\n",
    "x"
   ]
  },
  {
   "cell_type": "code",
   "execution_count": null,
   "id": "d6c8cb35",
   "metadata": {},
   "outputs": [],
   "source": [
    "y = (1, 2, 3)\n",
    "print(y)\n",
    "print(y == x)\n",
    "y[0] = \"hello\""
   ]
  },
  {
   "cell_type": "code",
   "execution_count": null,
   "id": "fdeac082",
   "metadata": {},
   "outputs": [],
   "source": [
    "xy = (23, 45)\n",
    "print(xy[0])\n",
    "xy[0] = \"this won't work with a tuple\""
   ]
  },
  {
   "cell_type": "markdown",
   "id": "217e1ca4",
   "metadata": {},
   "source": [
    "## namedtuples\n",
    "\n",
    "Very handy for defining human readable data records without behavior. `namedtuples` are very fast and memory efficient. "
   ]
  },
  {
   "cell_type": "code",
   "execution_count": null,
   "id": "b37a32c9",
   "metadata": {},
   "outputs": [],
   "source": [
    "from collections import namedtuple"
   ]
  },
  {
   "cell_type": "code",
   "execution_count": null,
   "id": "206da48e",
   "metadata": {},
   "outputs": [],
   "source": [
    "Color = namedtuple('Color', ['red', 'green', 'blue'])\n",
    "Color?"
   ]
  },
  {
   "cell_type": "code",
   "execution_count": null,
   "id": "09c11de0",
   "metadata": {},
   "outputs": [],
   "source": [
    "yellow = Color(255, 255, 0)"
   ]
  },
  {
   "cell_type": "code",
   "execution_count": null,
   "id": "b6974bbb",
   "metadata": {},
   "outputs": [],
   "source": [
    "yellow.red, yellow[0]"
   ]
  },
  {
   "cell_type": "code",
   "execution_count": null,
   "id": "ebb6c510",
   "metadata": {},
   "outputs": [],
   "source": [
    "print(yellow)"
   ]
  },
  {
   "cell_type": "markdown",
   "id": "6b122eaa-ab40-40be-825a-d4322500b530",
   "metadata": {
    "jp-MarkdownHeadingCollapsed": true,
    "tags": []
   },
   "source": [
    "---\n",
    "# 3. Dictionaries"
   ]
  },
  {
   "cell_type": "markdown",
   "id": "34badc03-13fb-4947-86c1-e2a3662765e2",
   "metadata": {},
   "source": [
    "Dictionaries are the collection to use when you want to store and retrieve things by their names\n",
    "(or some other kind of key) instead of by their position in the collection. A good example is a set\n",
    "of model parameters, each of which has a name and a value. Dictionaries are declared using `{}`."
   ]
  },
  {
   "cell_type": "code",
   "execution_count": 1,
   "id": "b965f6f8",
   "metadata": {},
   "outputs": [
    {
     "name": "stdout",
     "output_type": "stream",
     "text": [
      "{'inches_in_feet': 12, 'inches_in_metre': 39}\n",
      "12\n"
     ]
    }
   ],
   "source": [
    "# Make a dictionary of model parameters.\n",
    "# the key is written in quotation marks, the value follows after :\n",
    "convertors = {'inches_in_feet' : 12,\n",
    "              'inches_in_metre' : 39}\n",
    "\n",
    "print(convertors)\n",
    "print(convertors['inches_in_feet'])"
   ]
  },
  {
   "cell_type": "code",
   "execution_count": 2,
   "id": "3ec13d72",
   "metadata": {},
   "outputs": [
    {
     "name": "stdout",
     "output_type": "stream",
     "text": [
      "{'inches_in_feet': 12, 'inches_in_metre': 39, 'metres_in_mile': 1609.34}\n"
     ]
    }
   ],
   "source": [
    "# Add a new key:value pair.\n",
    "convertors['metres_in_mile'] = 1609.34\n",
    "print(convertors)"
   ]
  },
  {
   "cell_type": "markdown",
   "id": "e116c073",
   "metadata": {},
   "source": [
    "The equivalent of `extend()` for dictionaries is `updat()`."
   ]
  },
  {
   "cell_type": "code",
   "execution_count": null,
   "id": "1cb7e130",
   "metadata": {},
   "outputs": [],
   "source": [
    "metric_convertors = {'metres_in_kilometer': 1000, 'centimetres_in_meter': 100}\n",
    "convertors.update(metric_convertors)\n",
    "convertors"
   ]
  },
  {
   "cell_type": "code",
   "execution_count": null,
   "id": "5886834b",
   "metadata": {},
   "outputs": [],
   "source": [
    "# Raise a Key-Error\n",
    "print(convertors['decimetres_in_meter'])"
   ]
  },
  {
   "cell_type": "markdown",
   "id": "81607938",
   "metadata": {},
   "source": [
    "We can also check whether a key is in a dictionary or not. This can be done in two different ways. The differences will be covered in another notebook. "
   ]
  },
  {
   "cell_type": "code",
   "execution_count": null,
   "id": "eccaa74a",
   "metadata": {},
   "outputs": [],
   "source": [
    "if 'decimetres_in_meter' in convertors:\n",
    "    print(convertors['decimetres_in_meter'])\n",
    "else:\n",
    "    print(\"Wasn't in there!\")"
   ]
  },
  {
   "cell_type": "code",
   "execution_count": null,
   "id": "c3dbd82c",
   "metadata": {},
   "outputs": [],
   "source": [
    "try:\n",
    "    print(convertors['decimetres_in_meter'])\n",
    "except KeyError:\n",
    "    print(\"Wasn't in there!\")"
   ]
  },
  {
   "cell_type": "markdown",
   "id": "e7f7ceaa",
   "metadata": {},
   "source": [
    "Getting all `key`, all `value`, and all `key-value-pair` is easy:"
   ]
  },
  {
   "cell_type": "code",
   "execution_count": null,
   "id": "5aae7d6a",
   "metadata": {},
   "outputs": [],
   "source": [
    "key_list = list(convertors.keys())\n",
    "print(key_list, type(key_list))\n",
    "\n",
    "value_list = list(convertors.values())\n",
    "print(value_list, type(value_list))\n",
    "\n",
    "key_val_list = list(convertors.items())\n",
    "print(key_val_list, type(key_val_list))"
   ]
  },
  {
   "cell_type": "markdown",
   "id": "3a385c5a-7999-429b-ac37-9012383d2523",
   "metadata": {
    "jp-MarkdownHeadingCollapsed": true,
    "tags": []
   },
   "source": [
    "---\n",
    "# 4. Sets"
   ]
  },
  {
   "cell_type": "markdown",
   "id": "739fd14f-d6fc-43c6-b4c8-803aeaf7fd91",
   "metadata": {},
   "source": [
    "Sets are unordered collections of unique items like in mathematics. They are useful for keeping track of objects you have seen and testing membership. \n",
    "\n",
    "Sets are declared using `{}`."
   ]
  },
  {
   "cell_type": "code",
   "execution_count": null,
   "id": "2f43ae21",
   "metadata": {},
   "outputs": [],
   "source": [
    "a_set = {1, 2, 3}\n",
    "a_set"
   ]
  },
  {
   "cell_type": "markdown",
   "id": "e0f8baf4",
   "metadata": {},
   "source": [
    "Sets are unqiue. This means that there cannot be several same values in a set, but just one unique."
   ]
  },
  {
   "cell_type": "code",
   "execution_count": 1,
   "id": "ec42d41b",
   "metadata": {},
   "outputs": [
    {
     "data": {
      "text/plain": [
       "{1, 2, 3}"
      ]
     },
     "execution_count": 1,
     "metadata": {},
     "output_type": "execute_result"
    }
   ],
   "source": [
    "unique_set = {1, 2, 3, 3, 3, 3}\n",
    "unique_set"
   ]
  },
  {
   "cell_type": "markdown",
   "id": "68b01b3a",
   "metadata": {},
   "source": [
    "Empty sets can't be declared with literals and are easily confused with empty `dicts`. Instead an explicit constructor has to be used"
   ]
  },
  {
   "cell_type": "code",
   "execution_count": 2,
   "id": "9014bdfc",
   "metadata": {},
   "outputs": [
    {
     "data": {
      "text/plain": [
       "(set(), set)"
      ]
     },
     "execution_count": 2,
     "metadata": {},
     "output_type": "execute_result"
    }
   ],
   "source": [
    "empty_set = set()\n",
    "empty_set, type(empty_set)"
   ]
  },
  {
   "cell_type": "code",
   "execution_count": 3,
   "id": "01fe7702",
   "metadata": {},
   "outputs": [
    {
     "data": {
      "text/plain": [
       "({}, dict)"
      ]
     },
     "execution_count": 3,
     "metadata": {},
     "output_type": "execute_result"
    }
   ],
   "source": [
    "empty_dict = {}\n",
    "empty_dict, type(empty_dict)"
   ]
  },
  {
   "cell_type": "markdown",
   "id": "59fe48dc",
   "metadata": {},
   "source": [
    "`Set-operation` are far more efficient for sets than for lists!"
   ]
  },
  {
   "cell_type": "code",
   "execution_count": null,
   "id": "b8127cc0",
   "metadata": {},
   "outputs": [],
   "source": [
    "s1 = {1,2,3}\n",
    "s2 = {3,4,5}\n",
    "\n",
    "print(\"s1\", s1)\n",
    "print(\"s2\", s2)\n",
    "print(\"union\", s1 | s2) \n",
    "print(\"intersection\", s1 & s2) \n",
    "print(\"difference\", s1 - s2)\n",
    "print(\"is s1 a subset of s2?\", s1 <= s2)\n",
    "print(\"XOR\", s1 ^ s2)"
   ]
  },
  {
   "cell_type": "markdown",
   "id": "c685b7c6",
   "metadata": {},
   "source": [
    "Sets are fast at membership tests."
   ]
  },
  {
   "cell_type": "code",
   "execution_count": null,
   "id": "cfdd5f47",
   "metadata": {},
   "outputs": [],
   "source": [
    "set_members = set(range(1000))\n",
    "list_members = list(range(1000))"
   ]
  },
  {
   "cell_type": "code",
   "execution_count": null,
   "id": "d06b5d64",
   "metadata": {},
   "outputs": [],
   "source": [
    "%%timeit\n",
    "900 in set_members"
   ]
  },
  {
   "cell_type": "code",
   "execution_count": null,
   "id": "168610ad",
   "metadata": {},
   "outputs": [],
   "source": [
    "%%timeit\n",
    "900 in list_members"
   ]
  },
  {
   "cell_type": "markdown",
   "id": "46ccac9d",
   "metadata": {},
   "source": [
    "<div class=\"alert alert-block alert-info\">\n",
    "<b>Exercise:</b> \n",
    "    <br>\n",
    "    How can we make the items in the following list unique?\n",
    "</div>"
   ]
  },
  {
   "cell_type": "code",
   "execution_count": null,
   "id": "9e5805b6",
   "metadata": {},
   "outputs": [],
   "source": [
    "cakes = [\"cheesecake\", \"raspberry pi\", \"cheesecake\", \"strawberry pie\"]"
   ]
  },
  {
   "cell_type": "code",
   "execution_count": null,
   "id": "5364898c",
   "metadata": {},
   "outputs": [],
   "source": [
    "# here you have space to experiment"
   ]
  },
  {
   "cell_type": "markdown",
   "id": "a79c7d43",
   "metadata": {
    "tags": []
   },
   "source": [
    "# Control Flow\n",
    "\n",
    "\n",
    "A Programmers Control Flow is the order in which the Program code executes. \n",
    "\n",
    "it mainly consist of \n",
    " - Conditional statements (if, elif, nested elif) \n",
    " - for loops\n",
    " - while loops"
   ]
  },
  {
   "cell_type": "markdown",
   "id": "851e4c8e",
   "metadata": {
    "jp-MarkdownHeadingCollapsed": true,
    "tags": []
   },
   "source": [
    "## Conditional statements\n",
    "Usual Mathematical Logical Conditions can be are supported in python. \n",
    "\n",
    " - **Equals:** a == b\n",
    " - **Not Equals:** a != b\n",
    " - **Less than:** a < b\n",
    " - **Less than or equal to:** a <= b\n",
    " - **Greater than:** a > b\n",
    " - **Greater than or equal to:** a >= b"
   ]
  },
  {
   "cell_type": "code",
   "execution_count": null,
   "id": "51460ff4",
   "metadata": {},
   "outputs": [],
   "source": [
    "# play around with the value of a to see how this conditional behaves\n",
    "a = 9 \n",
    "\n",
    "\n",
    "# here you can see whitespace indentation for the first time\n",
    "# Python indentation is a way of telling a Python interpreter that \n",
    "# the group of statements belongs to a particular block of code\n",
    "\n",
    "if a < 8:\n",
    "    print(\"a is less than 8!\") # here you can see whitespace indentation for the first time\n",
    "elif a == 8:\n",
    "    print(\"a is equal to 8!\")\n",
    "elif a == 9 or a == 10:\n",
    "    print(\"a is equal to 8 or 9!\")\n",
    "elif a > 8:\n",
    "    print(\"a is greater than 10!\")\n",
    "else:\n",
    "    print(\"This will never be executed.\")"
   ]
  },
  {
   "cell_type": "markdown",
   "id": "b697a6eb",
   "metadata": {},
   "source": [
    "__Note__: there are no switch statements in python but there are... "
   ]
  },
  {
   "cell_type": "code",
   "execution_count": null,
   "id": "3bb408ae",
   "metadata": {},
   "outputs": [],
   "source": [
    "\n",
    "command = \"nuke\"\n",
    "\n",
    "\n",
    "if command == \"attack\":\n",
    "    print(\"prepraing to launch attack\")\n",
    "\n",
    "elif command == \"defend\":\n",
    "    print(\"launching defensive forces\")\n",
    "\n",
    "elif command == \"withdraw\":\n",
    "    print(\"preparing to withdraw forces\")\n",
    "    \n",
    "else:\n",
    "    print(\"Not a valid option!\")"
   ]
  },
  {
   "cell_type": "markdown",
   "id": "c828f000",
   "metadata": {},
   "source": [
    "Remember the two different versions to check if a key is in a dictionary?\n",
    "\n",
    "\n",
    "### EAFP versus LBYL\n",
    "\n",
    "The first method from the cell above was a certain idiomatic practice: **\"Look Before You Leap\"**. You first check whether something will succeed and only proceed if we know it works. While the standard for most programming languages, _pythonic coding_ follows another paradigm: **\"Its easier to ask for forgiveness than permission\"**. \n",
    "https://blogs.msdn.microsoft.com/pythonengineering/2016/06/29/idiomatic-python-eafp-versus-lbyl/"
   ]
  },
  {
   "cell_type": "code",
   "execution_count": null,
   "id": "014f4038",
   "metadata": {},
   "outputs": [],
   "source": [
    "# This is the LBYL version:\n",
    "if 'decimetres_in_meter' in convertors:\n",
    "    print(convertors['decimetres_in_meter'])\n",
    "else:\n",
    "    print(\"Wasn't in there!\")"
   ]
  },
  {
   "cell_type": "code",
   "execution_count": null,
   "id": "1b1761f0",
   "metadata": {},
   "outputs": [],
   "source": [
    "# And this the EAFP version:\n",
    "try:\n",
    "    print(convertors['decimetres_in_meter'])\n",
    "except KeyError:\n",
    "    print(\"Wasn't in there!\")"
   ]
  },
  {
   "cell_type": "markdown",
   "id": "c6b5fed4",
   "metadata": {
    "jp-MarkdownHeadingCollapsed": true,
    "tags": []
   },
   "source": [
    "---\n",
    "## While Loop\n",
    "\n",
    "With the while loop we can execute a set of statements as long as a condition is true."
   ]
  },
  {
   "cell_type": "code",
   "execution_count": null,
   "id": "7c2ae8f5",
   "metadata": {},
   "outputs": [],
   "source": [
    "ects = 0\n",
    "while ects < 120:\n",
    "\n",
    "    print(ects ,  \" ---> not enough ects to graduate\")\n",
    "    ects += 24"
   ]
  },
  {
   "cell_type": "markdown",
   "id": "d4a1196b",
   "metadata": {},
   "source": [
    "### `break` and `continue` statements in while loops\n",
    "\n",
    " - With the `break` statement we can stop the loop even if the while condition is true:\n",
    " - With the `continue` statement we can stop the current iteration, and continue with the next: "
   ]
  },
  {
   "cell_type": "code",
   "execution_count": null,
   "id": "ecc09836",
   "metadata": {},
   "outputs": [],
   "source": [
    "ects = 0\n",
    "while ects < 140:\n",
    "\n",
    "    print(ects ,  \" ---> not enough ects to graduate\")\n",
    "    if ects == 96:\n",
    "        print(ects ,  \" ---> Note: Masters Student, Congrats you graduated\")\n",
    "        break\n",
    "\n",
    "  \n",
    "    ects += 24"
   ]
  },
  {
   "cell_type": "code",
   "execution_count": null,
   "id": "446a6295",
   "metadata": {},
   "outputs": [],
   "source": [
    "i = 0\n",
    "while i < 6:\n",
    "    \n",
    "    i += 1\n",
    "    if i == 3:\n",
    "        continue\n",
    "    print(i)"
   ]
  },
  {
   "cell_type": "markdown",
   "id": "157b2a25",
   "metadata": {
    "jp-MarkdownHeadingCollapsed": true,
    "tags": []
   },
   "source": [
    "---\n",
    "## For Loops\n",
    "A for loop is used for iterating over a sequence (that is either a list, a tuple, a dictionary, a set, or a string)."
   ]
  },
  {
   "cell_type": "code",
   "execution_count": null,
   "id": "14ba704b",
   "metadata": {},
   "outputs": [],
   "source": [
    "numbers = [1, 2, 3, 4]\n",
    "\n",
    "for i in numbers:\n",
    "    print(i)"
   ]
  },
  {
   "cell_type": "markdown",
   "id": "b6a7208c",
   "metadata": {},
   "source": [
    "The same code can be writen like following ways as well:"
   ]
  },
  {
   "cell_type": "code",
   "execution_count": null,
   "id": "a6fbfdca",
   "metadata": {},
   "outputs": [],
   "source": [
    "for i in [1,2,3,4]:\n",
    "    print(i)"
   ]
  },
  {
   "cell_type": "code",
   "execution_count": null,
   "id": "e385be04",
   "metadata": {},
   "outputs": [],
   "source": [
    "for i in \"SciPy\":\n",
    "    print(i)"
   ]
  },
  {
   "cell_type": "markdown",
   "id": "f8a74123",
   "metadata": {},
   "source": [
    "For loops can be also used to `zip` multiple variables together:"
   ]
  },
  {
   "cell_type": "code",
   "execution_count": null,
   "id": "10431bc8",
   "metadata": {},
   "outputs": [],
   "source": [
    "names = ['paula', 'marcel', 'marine']\n",
    "ages = [20, 22, 19]\n",
    "countries = [\"France\", \"Germany\", \"Chile\"]  \n",
    "for name, age,  country in zip(names, ages, countries):\n",
    "    print(name, \"is\", age, \"years old and from\",  country)"
   ]
  },
  {
   "cell_type": "markdown",
   "id": "1c6f287d",
   "metadata": {},
   "source": [
    "With Python's build in fucntion `range()` you can create a sequence. It is also helpful for loop iterations. \n",
    "You can use range() if you know you want to do something x times:"
   ]
  },
  {
   "cell_type": "code",
   "execution_count": null,
   "id": "898772aa",
   "metadata": {},
   "outputs": [],
   "source": [
    "for i in range(3):\n",
    "    print(i)"
   ]
  },
  {
   "cell_type": "markdown",
   "id": "6fa116f8",
   "metadata": {},
   "source": [
    "You can also define a `start`, `stop` and `stepsize`:"
   ]
  },
  {
   "cell_type": "code",
   "execution_count": null,
   "id": "89d0a94d",
   "metadata": {},
   "outputs": [],
   "source": [
    "for a in range(0,25,5):\n",
    "    print(a)"
   ]
  },
  {
   "cell_type": "markdown",
   "id": "2cc4b731",
   "metadata": {},
   "source": [
    "# Classes\n",
    "As one of Pythons many paradigms is that of **object-orientation**, it is of course possible to implement classes. In fact, every single built-in class works the same way, and they all work the same under the hood - which also means, one can get any built-in methods to work on custom classes, just as much as on built-in classes."
   ]
  },
  {
   "cell_type": "code",
   "execution_count": 1,
   "id": "bc66b67e",
   "metadata": {},
   "outputs": [],
   "source": [
    "class MyClass:\n",
    "    \"\"\"This class doesn't have much purpose and serves demonstration\"\"\"\n",
    "    \n",
    "    # pass is used if Python wants there to be another line (because of indents), \n",
    "    #but you don't have any more content!\n",
    "    pass"
   ]
  },
  {
   "cell_type": "code",
   "execution_count": null,
   "id": "6be4ea7d",
   "metadata": {},
   "outputs": [],
   "source": [
    "my_instance = MyClass()\n",
    "type(my_instance)"
   ]
  },
  {
   "cell_type": "code",
   "execution_count": null,
   "id": "20899f04",
   "metadata": {},
   "outputs": [],
   "source": [
    "# To check if something is an instance of a class (or the ones that inherit from it), use isinstance!\n",
    "print(isinstance(my_instance, MyClass))"
   ]
  },
  {
   "cell_type": "code",
   "execution_count": null,
   "id": "b712634f",
   "metadata": {},
   "outputs": [],
   "source": [
    "# as always you can get informations about an object by using ?\n",
    "my_instance?"
   ]
  },
  {
   "cell_type": "markdown",
   "id": "43f194c1",
   "metadata": {},
   "source": [
    "## Methods and Attributes\n",
    "Custom classes can have custom methods and attributes. If no constructor is explicitly specified, the one of its parent-class will be used instead. Otherwise, a constructor must be defined with the method `__init__`. A destructor is usually not needed as Python manages memory automatically.\n",
    "\n",
    "All instance-variables must be defined in instance-methods and must be referenced from `self`. All variables that are not defined in instance-methods are class-variables!\n",
    "\n",
    "`self` is a reference to the object it*self*! It is the equivalent of `this` in many other programming languages."
   ]
  },
  {
   "cell_type": "code",
   "execution_count": null,
   "id": "862d1b1c",
   "metadata": {},
   "outputs": [],
   "source": [
    "class MyClass2:\n",
    "    \"\"\"This class also doesn't have much purpose and serves demonstration.\"\"\"\n",
    "    def __init__(self):\n",
    "        print(self)\n",
    "        print(type(self))\n",
    "        \n",
    "my_second_instance = MyClass2()"
   ]
  },
  {
   "cell_type": "code",
   "execution_count": null,
   "id": "7061fe4a",
   "metadata": {},
   "outputs": [],
   "source": [
    "class MyClass3:\n",
    "    \"\"\"This class also doesn't have much purpose and serves demonstration.\"\"\"\n",
    "    def __init__(self, number):\n",
    "        self.number = number\n",
    "        \n",
    "    def change_number(self, newval):\n",
    "        self.number = newval\n",
    "        \n",
    "        \n",
    "b = MyClass3(2)\n",
    "c = MyClass3(3)\n",
    "\n",
    "b.number, c.number"
   ]
  },
  {
   "cell_type": "code",
   "execution_count": null,
   "id": "ebb2d1bd",
   "metadata": {},
   "outputs": [],
   "source": [
    "b.change_number(\"new value\")\n",
    "b.number"
   ]
  },
  {
   "cell_type": "markdown",
   "id": "c8fff145",
   "metadata": {},
   "source": [
    "## Inheritance\n",
    "\n",
    "Being object-oriented, Python of course understands inheritance. Inheritance means that one class inherits all the methods and functions from another class."
   ]
  },
  {
   "cell_type": "code",
   "execution_count": null,
   "id": "1e532d2a",
   "metadata": {},
   "outputs": [],
   "source": [
    "class Animal:\n",
    "    def is_living():\n",
    "        return True\n",
    "\n",
    "# The class LandAnimal inherits the functions from Animal. This is defined by the parameter.    \n",
    "class LandAnimal(Animal):\n",
    "    def __init__(self):\n",
    "        self.has_legs = True\n",
    "        \n",
    "    def walk(self):\n",
    "        return \"tap tap\"\n",
    "    \n",
    "animal = LandAnimal()\n",
    "    \n",
    "    \n",
    "print(type(animal))\n",
    "print(isinstance(animal, LandAnimal))\n",
    "print(isinstance(animal, Animal))"
   ]
  },
  {
   "cell_type": "code",
   "execution_count": null,
   "id": "16c56c93",
   "metadata": {},
   "outputs": [],
   "source": [
    "animal.is_living"
   ]
  },
  {
   "cell_type": "code",
   "execution_count": null,
   "id": "9cdaa5ce",
   "metadata": {},
   "outputs": [],
   "source": [
    "animal.has_legs"
   ]
  },
  {
   "cell_type": "code",
   "execution_count": null,
   "id": "ade56de1",
   "metadata": {},
   "outputs": [],
   "source": [
    "animal.walk()"
   ]
  }
 ],
 "metadata": {
  "kernelspec": {
   "display_name": "Python 3 (ipykernel)",
   "language": "python",
   "name": "python3"
  },
  "language_info": {
   "codemirror_mode": {
    "name": "ipython",
    "version": 3
   },
   "file_extension": ".py",
   "mimetype": "text/x-python",
   "name": "python",
   "nbconvert_exporter": "python",
   "pygments_lexer": "ipython3",
   "version": "3.9.12"
  }
 },
 "nbformat": 4,
 "nbformat_minor": 5
}
