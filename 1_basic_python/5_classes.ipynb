{
 "cells": [
  {
   "cell_type": "markdown",
   "id": "2cc4b731",
   "metadata": {},
   "source": [
    "# Classes\n",
    "As one of Pythons many paradigms is that of **object-orientation**, it is of course possible to implement classes. In fact, every single built-in class works the same way, and they all work the same under the hood - which also means, one can get any built-in methods to work on custom classes, just as much as on built-in classes."
   ]
  },
  {
   "cell_type": "code",
   "execution_count": 1,
   "id": "bc66b67e",
   "metadata": {},
   "outputs": [],
   "source": [
    "class MyClass:\n",
    "    \"\"\"This class doesn't have much purpose and serves demonstration\"\"\"\n",
    "    \n",
    "    # pass is used if Python wants there to be another line (because of indents), \n",
    "    #but you don't have any more content!\n",
    "    pass"
   ]
  },
  {
   "cell_type": "code",
   "execution_count": null,
   "id": "6be4ea7d",
   "metadata": {},
   "outputs": [],
   "source": [
    "my_instance = MyClass()\n",
    "type(my_instance)"
   ]
  },
  {
   "cell_type": "code",
   "execution_count": null,
   "id": "20899f04",
   "metadata": {},
   "outputs": [],
   "source": [
    "# To check if something is an instance of a class (or the ones that inherit from it), use isinstance!\n",
    "print(isinstance(my_instance, MyClass))"
   ]
  },
  {
   "cell_type": "code",
   "execution_count": null,
   "id": "b712634f",
   "metadata": {},
   "outputs": [],
   "source": [
    "# as always you can get informations about an object by using ?\n",
    "my_instance?"
   ]
  },
  {
   "cell_type": "markdown",
   "id": "43f194c1",
   "metadata": {},
   "source": [
    "## Methods and Attributes\n",
    "Custom classes can have custom methods and attributes. If no constructor is explicitly specified, the one of its parent-class will be used instead. Otherwise, a constructor must be defined with the method `__init__`. A destructor is usually not needed as Python manages memory automatically.\n",
    "\n",
    "All instance-variables must be defined in instance-methods and must be referenced from `self`. All variables that are not defined in instance-methods are class-variables!\n",
    "\n",
    "`self` is a reference to the object it*self*! It is the equivalent of `this` in many other programming languages."
   ]
  },
  {
   "cell_type": "code",
   "execution_count": null,
   "id": "862d1b1c",
   "metadata": {},
   "outputs": [],
   "source": [
    "class MyClass2:\n",
    "    \"\"\"This class also doesn't have much purpose and serves demonstration.\"\"\"\n",
    "    def __init__(self):\n",
    "        print(self)\n",
    "        print(type(self))\n",
    "        \n",
    "my_second_instance = MyClass2()"
   ]
  },
  {
   "cell_type": "code",
   "execution_count": null,
   "id": "7061fe4a",
   "metadata": {},
   "outputs": [],
   "source": [
    "class MyClass3:\n",
    "    \"\"\"This class also doesn't have much purpose and serves demonstration.\"\"\"\n",
    "    def __init__(self, number):\n",
    "        self.number = number\n",
    "        \n",
    "    def change_number(self, newval):\n",
    "        self.number = newval\n",
    "        \n",
    "        \n",
    "b = MyClass3(2)\n",
    "c = MyClass3(3)\n",
    "\n",
    "b.number, c.number"
   ]
  },
  {
   "cell_type": "code",
   "execution_count": null,
   "id": "ebb2d1bd",
   "metadata": {},
   "outputs": [],
   "source": [
    "b.change_number(\"new value\")\n",
    "b.number"
   ]
  },
  {
   "cell_type": "markdown",
   "id": "c8fff145",
   "metadata": {},
   "source": [
    "## Inheritance\n",
    "\n",
    "Being object-oriented, Python of course understands inheritance. Inheritance means that one class inherits all the methods and functions from another class."
   ]
  },
  {
   "cell_type": "code",
   "execution_count": null,
   "id": "1e532d2a",
   "metadata": {},
   "outputs": [],
   "source": [
    "class Animal:\n",
    "    def is_living():\n",
    "        return True\n",
    "\n",
    "# The class LandAnimal inherits the functions from Animal. This is defined by the parameter.    \n",
    "class LandAnimal(Animal):\n",
    "    def __init__(self):\n",
    "        self.has_legs = True\n",
    "        \n",
    "    def walk(self):\n",
    "        return \"tap tap\"\n",
    "    \n",
    "animal = LandAnimal()\n",
    "    \n",
    "    \n",
    "print(type(animal))\n",
    "print(isinstance(animal, LandAnimal))\n",
    "print(isinstance(animal, Animal))"
   ]
  },
  {
   "cell_type": "code",
   "execution_count": null,
   "id": "16c56c93",
   "metadata": {},
   "outputs": [],
   "source": [
    "animal.is_living"
   ]
  },
  {
   "cell_type": "code",
   "execution_count": null,
   "id": "9cdaa5ce",
   "metadata": {},
   "outputs": [],
   "source": [
    "animal.has_legs"
   ]
  },
  {
   "cell_type": "code",
   "execution_count": null,
   "id": "ade56de1",
   "metadata": {},
   "outputs": [],
   "source": [
    "animal.walk()"
   ]
  }
 ],
 "metadata": {
  "kernelspec": {
   "display_name": "Python 3 (ipykernel)",
   "language": "python",
   "name": "python3"
  },
  "language_info": {
   "codemirror_mode": {
    "name": "ipython",
    "version": 3
   },
   "file_extension": ".py",
   "mimetype": "text/x-python",
   "name": "python",
   "nbconvert_exporter": "python",
   "pygments_lexer": "ipython3",
   "version": "3.9.12"
  }
 },
 "nbformat": 4,
 "nbformat_minor": 5
}
