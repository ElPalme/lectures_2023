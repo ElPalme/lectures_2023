{
 "cells": [
  {
   "cell_type": "markdown",
   "id": "57124b6a",
   "metadata": {},
   "source": [
    "# Basic types"
   ]
  },
  {
   "cell_type": "markdown",
   "id": "1c4df231",
   "metadata": {},
   "source": [
    "Like any programming language python also includes some basic types. The basic types that are used in python are `integer`, `float`, `string` and `boolean`"
   ]
  },
  {
   "cell_type": "markdown",
   "id": "9c8982be",
   "metadata": {},
   "source": [
    "---"
   ]
  },
  {
   "cell_type": "markdown",
   "id": "ffa8c276",
   "metadata": {},
   "source": [
    "An **`integer`** can be positive or negative"
   ]
  },
  {
   "cell_type": "code",
   "execution_count": null,
   "id": "238b6519",
   "metadata": {},
   "outputs": [],
   "source": [
    "1"
   ]
  },
  {
   "cell_type": "code",
   "execution_count": null,
   "id": "f5aa7082",
   "metadata": {},
   "outputs": [],
   "source": [
    "-12"
   ]
  },
  {
   "cell_type": "markdown",
   "id": "cbcc9250",
   "metadata": {},
   "source": [
    "---"
   ]
  },
  {
   "cell_type": "markdown",
   "id": "00c5294d",
   "metadata": {},
   "source": [
    "A floating point number or **`float`** can be simply written as a decimal number or in a scientific notation"
   ]
  },
  {
   "cell_type": "code",
   "execution_count": 2,
   "id": "9341e787",
   "metadata": {},
   "outputs": [
    {
     "data": {
      "text/plain": [
       "1.234"
      ]
     },
     "execution_count": 2,
     "metadata": {},
     "output_type": "execute_result"
    }
   ],
   "source": [
    "1.234"
   ]
  },
  {
   "cell_type": "code",
   "execution_count": 4,
   "id": "0df9d3c1",
   "metadata": {},
   "outputs": [
    {
     "data": {
      "text/plain": [
       "0.000155"
      ]
     },
     "execution_count": 4,
     "metadata": {},
     "output_type": "execute_result"
    }
   ],
   "source": [
    "1.55e-4"
   ]
  },
  {
   "cell_type": "markdown",
   "id": "98efce67",
   "metadata": {},
   "source": [
    "---"
   ]
  },
  {
   "cell_type": "markdown",
   "id": "9cc904b8",
   "metadata": {},
   "source": [
    "A **`boolean`** can have the value `true` or `false` or respectively `1` and `0`."
   ]
  },
  {
   "cell_type": "code",
   "execution_count": null,
   "id": "8d0faa15",
   "metadata": {},
   "outputs": [],
   "source": [
    "True"
   ]
  },
  {
   "cell_type": "code",
   "execution_count": null,
   "id": "e8c22a13",
   "metadata": {},
   "outputs": [],
   "source": [
    "False"
   ]
  },
  {
   "cell_type": "code",
   "execution_count": null,
   "id": "fda36b10",
   "metadata": {},
   "outputs": [],
   "source": [
    "1"
   ]
  },
  {
   "cell_type": "code",
   "execution_count": null,
   "id": "3fe7b90e",
   "metadata": {},
   "outputs": [],
   "source": [
    "0"
   ]
  },
  {
   "cell_type": "markdown",
   "id": "c88bc3b9",
   "metadata": {},
   "source": [
    "---"
   ]
  },
  {
   "cell_type": "markdown",
   "id": "8e4c6325",
   "metadata": {},
   "source": [
    "A **`string`** is a sequence of characters written in between double quotes `\" \"`"
   ]
  },
  {
   "cell_type": "code",
   "execution_count": 5,
   "id": "594cd5cb",
   "metadata": {},
   "outputs": [
    {
     "data": {
      "text/plain": [
       "'this is a string'"
      ]
     },
     "execution_count": 5,
     "metadata": {},
     "output_type": "execute_result"
    }
   ],
   "source": [
    "\"this is a string\""
   ]
  },
  {
   "cell_type": "markdown",
   "id": "e58e935f",
   "metadata": {},
   "source": [
    "We can exchange or even add double quotes to single quotes, as long as we dont mix them."
   ]
  },
  {
   "cell_type": "code",
   "execution_count": null,
   "id": "f86e7fa3",
   "metadata": {},
   "outputs": [],
   "source": [
    "'this is also a string'"
   ]
  },
  {
   "cell_type": "code",
   "execution_count": null,
   "id": "73d62b7c",
   "metadata": {},
   "outputs": [],
   "source": [
    "\"'and even this is a string'\""
   ]
  },
  {
   "cell_type": "code",
   "execution_count": null,
   "id": "bc4ad54c",
   "metadata": {},
   "outputs": [],
   "source": [
    "\"but this is not a string'"
   ]
  },
  {
   "cell_type": "markdown",
   "id": "25513091",
   "metadata": {},
   "source": [
    "If we want to take it to new extremes so that our string cointains both single and double quotes we can make use of triple quotes.\n",
    "This also allows us to include line breaks."
   ]
  },
  {
   "cell_type": "code",
   "execution_count": null,
   "id": "68e3a582",
   "metadata": {},
   "outputs": [],
   "source": [
    "a = \"\"\"\n",
    "    hello\n",
    "    \"'world'\"\n",
    "    \"\"\"\n",
    "print(a)"
   ]
  },
  {
   "cell_type": "markdown",
   "id": "40ef3566",
   "metadata": {},
   "source": [
    "---\n",
    "## basic type functions"
   ]
  },
  {
   "cell_type": "markdown",
   "id": "7a877d1f",
   "metadata": {},
   "source": [
    "Because the basic types are objects they come with methods, so they provide us with different functions.\n",
    "Even integers have a lot of methods which we can check with dir."
   ]
  },
  {
   "cell_type": "code",
   "execution_count": null,
   "id": "fbd4ab75",
   "metadata": {},
   "outputs": [],
   "source": [
    "dir(1)"
   ]
  },
  {
   "cell_type": "markdown",
   "id": "6c9e9e80",
   "metadata": {},
   "source": [
    "Most of these methods are dunder methods (**d**ouble **under**) which determine the types behaviour for built-in operators and functions.<br>\n",
    "For example `+` which will call `__add__`"
   ]
  },
  {
   "cell_type": "code",
   "execution_count": null,
   "id": "659efacf",
   "metadata": {},
   "outputs": [],
   "source": [
    "(1).__add__(1)"
   ]
  },
  {
   "cell_type": "code",
   "execution_count": null,
   "id": "d492c0c5",
   "metadata": {},
   "outputs": [],
   "source": [
    "1 + 1"
   ]
  },
  {
   "cell_type": "markdown",
   "id": "54e70927",
   "metadata": {},
   "source": [
    "<div class=\"alert alert-block alert-info\">\n",
    "<b>Exercise:</b> \n",
    "    Try out different dunder methods you find for floats and strings. \n",
    "</div>"
   ]
  },
  {
   "cell_type": "code",
   "execution_count": null,
   "id": "1506cd78",
   "metadata": {},
   "outputs": [],
   "source": [
    "# here you can experiment with different methods"
   ]
  }
 ],
 "metadata": {
  "kernelspec": {
   "display_name": "Python 3 (ipykernel)",
   "language": "python",
   "name": "python3"
  },
  "language_info": {
   "codemirror_mode": {
    "name": "ipython",
    "version": 3
   },
   "file_extension": ".py",
   "mimetype": "text/x-python",
   "name": "python",
   "nbconvert_exporter": "python",
   "pygments_lexer": "ipython3",
   "version": "3.9.12"
  }
 },
 "nbformat": 4,
 "nbformat_minor": 5
}
