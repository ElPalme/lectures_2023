{
 "cells": [
  {
   "cell_type": "markdown",
   "id": "75007bef-cee8-40f1-b8d6-50b1850333d1",
   "metadata": {},
   "source": [
    "# Modifying Series and DataFrames\n",
    "In the previous notebooks we learned how to assign new values to rows and columns<br>\n",
    "by first indexing our dataframe with either `loc[]` *(explicit index)* or `iloc[]` *(implicit index (0,1,2,...))* or just `[]` *(usually not preferred)*<br>\n",
    "and then assigning a new values, which can either be completely new or based on the existing data."
   ]
  },
  {
   "cell_type": "code",
   "execution_count": 1,
   "id": "cce6a4f9-a805-497f-9192-698fab305ede",
   "metadata": {},
   "outputs": [],
   "source": [
    "import pandas as pd\n",
    "import numpy as np"
   ]
  },
  {
   "cell_type": "markdown",
   "id": "d888972c-81c2-4d2d-9863-e4cff9bd3315",
   "metadata": {},
   "source": [
    "#### toy dataframe"
   ]
  },
  {
   "cell_type": "code",
   "execution_count": 2,
   "id": "3311ad70-6c6e-4ab1-aafe-d22a73753105",
   "metadata": {},
   "outputs": [
    {
     "data": {
      "text/html": [
       "<div>\n",
       "<style scoped>\n",
       "    .dataframe tbody tr th:only-of-type {\n",
       "        vertical-align: middle;\n",
       "    }\n",
       "\n",
       "    .dataframe tbody tr th {\n",
       "        vertical-align: top;\n",
       "    }\n",
       "\n",
       "    .dataframe thead th {\n",
       "        text-align: right;\n",
       "    }\n",
       "</style>\n",
       "<table border=\"1\" class=\"dataframe\">\n",
       "  <thead>\n",
       "    <tr style=\"text-align: right;\">\n",
       "      <th></th>\n",
       "      <th>a</th>\n",
       "    </tr>\n",
       "  </thead>\n",
       "  <tbody>\n",
       "    <tr>\n",
       "      <th>0</th>\n",
       "      <td>0</td>\n",
       "    </tr>\n",
       "    <tr>\n",
       "      <th>1</th>\n",
       "      <td>1</td>\n",
       "    </tr>\n",
       "    <tr>\n",
       "      <th>2</th>\n",
       "      <td>2</td>\n",
       "    </tr>\n",
       "    <tr>\n",
       "      <th>3</th>\n",
       "      <td>3</td>\n",
       "    </tr>\n",
       "    <tr>\n",
       "      <th>4</th>\n",
       "      <td>4</td>\n",
       "    </tr>\n",
       "  </tbody>\n",
       "</table>\n",
       "</div>"
      ],
      "text/plain": [
       "   a\n",
       "0  0\n",
       "1  1\n",
       "2  2\n",
       "3  3\n",
       "4  4"
      ]
     },
     "execution_count": 2,
     "metadata": {},
     "output_type": "execute_result"
    }
   ],
   "source": [
    "df = pd.DataFrame([0,1,2,3,4], columns=[\"a\"])\n",
    "df"
   ]
  },
  {
   "cell_type": "markdown",
   "id": "b62f19ed-bced-40f7-8e15-dda52cb20160",
   "metadata": {},
   "source": [
    "So for example we could add a new column that only contains the string `\"HI\"`."
   ]
  },
  {
   "cell_type": "code",
   "execution_count": 3,
   "id": "ed69fec1-2028-4d93-8cec-15feb8d5feff",
   "metadata": {},
   "outputs": [
    {
     "data": {
      "text/html": [
       "<div>\n",
       "<style scoped>\n",
       "    .dataframe tbody tr th:only-of-type {\n",
       "        vertical-align: middle;\n",
       "    }\n",
       "\n",
       "    .dataframe tbody tr th {\n",
       "        vertical-align: top;\n",
       "    }\n",
       "\n",
       "    .dataframe thead th {\n",
       "        text-align: right;\n",
       "    }\n",
       "</style>\n",
       "<table border=\"1\" class=\"dataframe\">\n",
       "  <thead>\n",
       "    <tr style=\"text-align: right;\">\n",
       "      <th></th>\n",
       "      <th>a</th>\n",
       "      <th>b</th>\n",
       "    </tr>\n",
       "  </thead>\n",
       "  <tbody>\n",
       "    <tr>\n",
       "      <th>0</th>\n",
       "      <td>0</td>\n",
       "      <td>HI</td>\n",
       "    </tr>\n",
       "    <tr>\n",
       "      <th>1</th>\n",
       "      <td>1</td>\n",
       "      <td>HI</td>\n",
       "    </tr>\n",
       "    <tr>\n",
       "      <th>2</th>\n",
       "      <td>2</td>\n",
       "      <td>HI</td>\n",
       "    </tr>\n",
       "    <tr>\n",
       "      <th>3</th>\n",
       "      <td>3</td>\n",
       "      <td>HI</td>\n",
       "    </tr>\n",
       "    <tr>\n",
       "      <th>4</th>\n",
       "      <td>4</td>\n",
       "      <td>HI</td>\n",
       "    </tr>\n",
       "  </tbody>\n",
       "</table>\n",
       "</div>"
      ],
      "text/plain": [
       "   a   b\n",
       "0  0  HI\n",
       "1  1  HI\n",
       "2  2  HI\n",
       "3  3  HI\n",
       "4  4  HI"
      ]
     },
     "execution_count": 3,
     "metadata": {},
     "output_type": "execute_result"
    }
   ],
   "source": [
    "df[\"b\"] = \"HI\"\n",
    "df"
   ]
  },
  {
   "cell_type": "markdown",
   "id": "9d1ad413-e0e5-40a5-b513-ad533d24d05a",
   "metadata": {},
   "source": [
    "Or we add a new column based on column `a` by multiplying it with `4`."
   ]
  },
  {
   "cell_type": "code",
   "execution_count": 4,
   "id": "d48236b6-e112-4270-8cbf-e149ab3bcc47",
   "metadata": {},
   "outputs": [
    {
     "data": {
      "text/html": [
       "<div>\n",
       "<style scoped>\n",
       "    .dataframe tbody tr th:only-of-type {\n",
       "        vertical-align: middle;\n",
       "    }\n",
       "\n",
       "    .dataframe tbody tr th {\n",
       "        vertical-align: top;\n",
       "    }\n",
       "\n",
       "    .dataframe thead th {\n",
       "        text-align: right;\n",
       "    }\n",
       "</style>\n",
       "<table border=\"1\" class=\"dataframe\">\n",
       "  <thead>\n",
       "    <tr style=\"text-align: right;\">\n",
       "      <th></th>\n",
       "      <th>a</th>\n",
       "      <th>b</th>\n",
       "      <th>c</th>\n",
       "    </tr>\n",
       "  </thead>\n",
       "  <tbody>\n",
       "    <tr>\n",
       "      <th>0</th>\n",
       "      <td>0</td>\n",
       "      <td>HI</td>\n",
       "      <td>0</td>\n",
       "    </tr>\n",
       "    <tr>\n",
       "      <th>1</th>\n",
       "      <td>1</td>\n",
       "      <td>HI</td>\n",
       "      <td>4</td>\n",
       "    </tr>\n",
       "    <tr>\n",
       "      <th>2</th>\n",
       "      <td>2</td>\n",
       "      <td>HI</td>\n",
       "      <td>8</td>\n",
       "    </tr>\n",
       "    <tr>\n",
       "      <th>3</th>\n",
       "      <td>3</td>\n",
       "      <td>HI</td>\n",
       "      <td>12</td>\n",
       "    </tr>\n",
       "    <tr>\n",
       "      <th>4</th>\n",
       "      <td>4</td>\n",
       "      <td>HI</td>\n",
       "      <td>16</td>\n",
       "    </tr>\n",
       "  </tbody>\n",
       "</table>\n",
       "</div>"
      ],
      "text/plain": [
       "   a   b   c\n",
       "0  0  HI   0\n",
       "1  1  HI   4\n",
       "2  2  HI   8\n",
       "3  3  HI  12\n",
       "4  4  HI  16"
      ]
     },
     "execution_count": 4,
     "metadata": {},
     "output_type": "execute_result"
    }
   ],
   "source": [
    "df[\"c\"] = df[\"a\"]*4\n",
    "df"
   ]
  },
  {
   "cell_type": "markdown",
   "id": "df89795b-0aaa-48ac-b2b9-3e296bc67dd0",
   "metadata": {},
   "source": [
    "In this notebook we will go through some more elaborate ways of modifying our Series and DataFrames."
   ]
  },
  {
   "cell_type": "markdown",
   "id": "cf93a984-1a06-4bda-8dba-a1090731f4da",
   "metadata": {},
   "source": [
    "## `apply`, `map`, `applymap` \n",
    "These are convenience functions that allow us to **apply** any functions to **series** and **dataframes**.<br>\n",
    "While they are **convenient**, they are [**not efficient**](https://stackoverflow.com/questions/54432583/when-should-i-not-want-to-use-pandas-apply-in-my-code) because the functions will be applied element wise without making use of vectorization.<br>\n",
    "We will briefly cover them nonetheless for cases where it may be too complicated to vectorize a given function or for when we don't care about time.<br>\n",
    "In the end we will talk about how we can vectorize the functions that we want to apply to our series and dataframes.\n",
    "\n",
    "\n",
    "<img src=\"https://i.stack.imgur.com/IZys3.png\" alt=\"overview\" style=\"width:700px\"> "
   ]
  },
  {
   "cell_type": "markdown",
   "id": "bb5c00f4-c1f1-4fba-b794-673f7100f69f",
   "metadata": {},
   "source": [
    "### `apply`\n",
    "takes as arguments a `function` and an `axis`.<br>\n",
    "The `axis` determines if the `function` should be applied to the column-wise `axis=0` (default) or row-wise `axis=1`."
   ]
  },
  {
   "cell_type": "code",
   "execution_count": 5,
   "id": "42f20b85-379f-466f-ad61-6ec4af4a7606",
   "metadata": {},
   "outputs": [
    {
     "data": {
      "text/html": [
       "<div>\n",
       "<style scoped>\n",
       "    .dataframe tbody tr th:only-of-type {\n",
       "        vertical-align: middle;\n",
       "    }\n",
       "\n",
       "    .dataframe tbody tr th {\n",
       "        vertical-align: top;\n",
       "    }\n",
       "\n",
       "    .dataframe thead th {\n",
       "        text-align: right;\n",
       "    }\n",
       "</style>\n",
       "<table border=\"1\" class=\"dataframe\">\n",
       "  <thead>\n",
       "    <tr style=\"text-align: right;\">\n",
       "      <th></th>\n",
       "      <th>a</th>\n",
       "      <th>b</th>\n",
       "      <th>c</th>\n",
       "    </tr>\n",
       "  </thead>\n",
       "  <tbody>\n",
       "    <tr>\n",
       "      <th>0</th>\n",
       "      <td>0</td>\n",
       "      <td>HI</td>\n",
       "      <td>0</td>\n",
       "    </tr>\n",
       "    <tr>\n",
       "      <th>1</th>\n",
       "      <td>1</td>\n",
       "      <td>HI</td>\n",
       "      <td>4</td>\n",
       "    </tr>\n",
       "    <tr>\n",
       "      <th>2</th>\n",
       "      <td>2</td>\n",
       "      <td>HI</td>\n",
       "      <td>8</td>\n",
       "    </tr>\n",
       "    <tr>\n",
       "      <th>3</th>\n",
       "      <td>3</td>\n",
       "      <td>HI</td>\n",
       "      <td>12</td>\n",
       "    </tr>\n",
       "    <tr>\n",
       "      <th>4</th>\n",
       "      <td>4</td>\n",
       "      <td>HI</td>\n",
       "      <td>16</td>\n",
       "    </tr>\n",
       "  </tbody>\n",
       "</table>\n",
       "</div>"
      ],
      "text/plain": [
       "   a   b   c\n",
       "0  0  HI   0\n",
       "1  1  HI   4\n",
       "2  2  HI   8\n",
       "3  3  HI  12\n",
       "4  4  HI  16"
      ]
     },
     "execution_count": 5,
     "metadata": {},
     "output_type": "execute_result"
    }
   ],
   "source": [
    "df"
   ]
  },
  {
   "cell_type": "code",
   "execution_count": 6,
   "id": "9c6166d6-0ebf-4745-ae27-cc77f7a69114",
   "metadata": {},
   "outputs": [
    {
     "data": {
      "text/plain": [
       "a            10\n",
       "b    HIHIHIHIHI\n",
       "c            40\n",
       "dtype: object"
      ]
     },
     "execution_count": 6,
     "metadata": {},
     "output_type": "execute_result"
    }
   ],
   "source": [
    "df.apply(np.sum, axis=0)"
   ]
  },
  {
   "cell_type": "code",
   "execution_count": 7,
   "id": "d3097010-b3bf-416d-aac3-30e4d3f3f3e4",
   "metadata": {},
   "outputs": [
    {
     "name": "stdout",
     "output_type": "stream",
     "text": [
      "<class 'TypeError'>\n"
     ]
    }
   ],
   "source": [
    "try:\n",
    "    df.apply(np.sum, axis=1)\n",
    "except TypeError:\n",
    "    print(TypeError)"
   ]
  },
  {
   "cell_type": "markdown",
   "id": "b45a607d-94d0-442f-88b8-a44358f66e2f",
   "metadata": {},
   "source": [
    "If we want to add Integers and Strings together we can write a custom function.<br>\n",
    "In this custom function we define what should happen to each row `x`.\n"
   ]
  },
  {
   "cell_type": "code",
   "execution_count": 8,
   "id": "ae017b7c-eb11-47d5-9053-fb851974cd56",
   "metadata": {},
   "outputs": [],
   "source": [
    "def add_all(x):\n",
    "    return f\"{x[0]}{x[1]}{x[2]}\""
   ]
  },
  {
   "cell_type": "code",
   "execution_count": 9,
   "id": "3e848e55-b277-44e1-83d7-de3cc7287c02",
   "metadata": {},
   "outputs": [
    {
     "data": {
      "text/plain": [
       "0     0HI0\n",
       "1     1HI4\n",
       "2     2HI8\n",
       "3    3HI12\n",
       "4    4HI16\n",
       "dtype: object"
      ]
     },
     "execution_count": 9,
     "metadata": {},
     "output_type": "execute_result"
    }
   ],
   "source": [
    "df.apply(add_all, axis=1)"
   ]
  },
  {
   "cell_type": "markdown",
   "id": "a911cf8c-f335-495e-b8a3-7792821d138b",
   "metadata": {},
   "source": [
    "If we want so save the result we can assign it to a new column."
   ]
  },
  {
   "cell_type": "code",
   "execution_count": 10,
   "id": "0b8cbe4d-e276-4769-a776-6bdad4210064",
   "metadata": {},
   "outputs": [
    {
     "data": {
      "text/html": [
       "<div>\n",
       "<style scoped>\n",
       "    .dataframe tbody tr th:only-of-type {\n",
       "        vertical-align: middle;\n",
       "    }\n",
       "\n",
       "    .dataframe tbody tr th {\n",
       "        vertical-align: top;\n",
       "    }\n",
       "\n",
       "    .dataframe thead th {\n",
       "        text-align: right;\n",
       "    }\n",
       "</style>\n",
       "<table border=\"1\" class=\"dataframe\">\n",
       "  <thead>\n",
       "    <tr style=\"text-align: right;\">\n",
       "      <th></th>\n",
       "      <th>a</th>\n",
       "      <th>b</th>\n",
       "      <th>c</th>\n",
       "      <th>abc</th>\n",
       "    </tr>\n",
       "  </thead>\n",
       "  <tbody>\n",
       "    <tr>\n",
       "      <th>0</th>\n",
       "      <td>0</td>\n",
       "      <td>HI</td>\n",
       "      <td>0</td>\n",
       "      <td>0HI0</td>\n",
       "    </tr>\n",
       "    <tr>\n",
       "      <th>1</th>\n",
       "      <td>1</td>\n",
       "      <td>HI</td>\n",
       "      <td>4</td>\n",
       "      <td>1HI4</td>\n",
       "    </tr>\n",
       "    <tr>\n",
       "      <th>2</th>\n",
       "      <td>2</td>\n",
       "      <td>HI</td>\n",
       "      <td>8</td>\n",
       "      <td>2HI8</td>\n",
       "    </tr>\n",
       "    <tr>\n",
       "      <th>3</th>\n",
       "      <td>3</td>\n",
       "      <td>HI</td>\n",
       "      <td>12</td>\n",
       "      <td>3HI12</td>\n",
       "    </tr>\n",
       "    <tr>\n",
       "      <th>4</th>\n",
       "      <td>4</td>\n",
       "      <td>HI</td>\n",
       "      <td>16</td>\n",
       "      <td>4HI16</td>\n",
       "    </tr>\n",
       "  </tbody>\n",
       "</table>\n",
       "</div>"
      ],
      "text/plain": [
       "   a   b   c    abc\n",
       "0  0  HI   0   0HI0\n",
       "1  1  HI   4   1HI4\n",
       "2  2  HI   8   2HI8\n",
       "3  3  HI  12  3HI12\n",
       "4  4  HI  16  4HI16"
      ]
     },
     "execution_count": 10,
     "metadata": {},
     "output_type": "execute_result"
    }
   ],
   "source": [
    "df[\"abc\"] = df.apply(add_all, axis=1)\n",
    "df"
   ]
  },
  {
   "cell_type": "markdown",
   "id": "57f64682-a89c-4bab-b555-5bb6f89b98a5",
   "metadata": {},
   "source": [
    "<br>\n",
    "\n",
    "We can also combine `apply` with `lambda` functions"
   ]
  },
  {
   "cell_type": "code",
   "execution_count": 11,
   "id": "4dcce8db-8d58-4f3d-bf07-7b47cfd2941e",
   "metadata": {},
   "outputs": [
    {
     "data": {
      "text/plain": [
       "0     0HI0\n",
       "1     1HI4\n",
       "2     2HI8\n",
       "3    3HI12\n",
       "4    4HI16\n",
       "dtype: object"
      ]
     },
     "execution_count": 11,
     "metadata": {},
     "output_type": "execute_result"
    }
   ],
   "source": [
    "df.apply(lambda x: f\"{x[0]}{x[1]}{x[2]}\", axis=1)"
   ]
  },
  {
   "cell_type": "markdown",
   "id": "67f523d5-e833-42fb-bdf3-d88a395be0d6",
   "metadata": {},
   "source": [
    "<br>\n",
    "\n",
    "### `applymap`\n"
   ]
  },
  {
   "cell_type": "code",
   "execution_count": 12,
   "id": "bc1a201e-80a3-4a3b-bd8e-302e088e8b8a",
   "metadata": {},
   "outputs": [
    {
     "data": {
      "text/html": [
       "<div>\n",
       "<style scoped>\n",
       "    .dataframe tbody tr th:only-of-type {\n",
       "        vertical-align: middle;\n",
       "    }\n",
       "\n",
       "    .dataframe tbody tr th {\n",
       "        vertical-align: top;\n",
       "    }\n",
       "\n",
       "    .dataframe thead th {\n",
       "        text-align: right;\n",
       "    }\n",
       "</style>\n",
       "<table border=\"1\" class=\"dataframe\">\n",
       "  <thead>\n",
       "    <tr style=\"text-align: right;\">\n",
       "      <th></th>\n",
       "      <th>a</th>\n",
       "      <th>b</th>\n",
       "      <th>c</th>\n",
       "      <th>abc</th>\n",
       "    </tr>\n",
       "  </thead>\n",
       "  <tbody>\n",
       "    <tr>\n",
       "      <th>0</th>\n",
       "      <td>0</td>\n",
       "      <td>HI</td>\n",
       "      <td>0</td>\n",
       "      <td>0HI0</td>\n",
       "    </tr>\n",
       "    <tr>\n",
       "      <th>1</th>\n",
       "      <td>1</td>\n",
       "      <td>HI</td>\n",
       "      <td>4</td>\n",
       "      <td>1HI4</td>\n",
       "    </tr>\n",
       "    <tr>\n",
       "      <th>2</th>\n",
       "      <td>2</td>\n",
       "      <td>HI</td>\n",
       "      <td>8</td>\n",
       "      <td>2HI8</td>\n",
       "    </tr>\n",
       "    <tr>\n",
       "      <th>3</th>\n",
       "      <td>3</td>\n",
       "      <td>HI</td>\n",
       "      <td>12</td>\n",
       "      <td>3HI12</td>\n",
       "    </tr>\n",
       "    <tr>\n",
       "      <th>4</th>\n",
       "      <td>4</td>\n",
       "      <td>HI</td>\n",
       "      <td>16</td>\n",
       "      <td>4HI16</td>\n",
       "    </tr>\n",
       "  </tbody>\n",
       "</table>\n",
       "</div>"
      ],
      "text/plain": [
       "   a   b   c    abc\n",
       "0  0  HI   0   0HI0\n",
       "1  1  HI   4   1HI4\n",
       "2  2  HI   8   2HI8\n",
       "3  3  HI  12  3HI12\n",
       "4  4  HI  16  4HI16"
      ]
     },
     "execution_count": 12,
     "metadata": {},
     "output_type": "execute_result"
    }
   ],
   "source": [
    "df"
   ]
  },
  {
   "cell_type": "code",
   "execution_count": 13,
   "id": "feb94c86-f54a-4881-9a17-d1becb28b355",
   "metadata": {},
   "outputs": [
    {
     "data": {
      "text/html": [
       "<div>\n",
       "<style scoped>\n",
       "    .dataframe tbody tr th:only-of-type {\n",
       "        vertical-align: middle;\n",
       "    }\n",
       "\n",
       "    .dataframe tbody tr th {\n",
       "        vertical-align: top;\n",
       "    }\n",
       "\n",
       "    .dataframe thead th {\n",
       "        text-align: right;\n",
       "    }\n",
       "</style>\n",
       "<table border=\"1\" class=\"dataframe\">\n",
       "  <thead>\n",
       "    <tr style=\"text-align: right;\">\n",
       "      <th></th>\n",
       "      <th>a</th>\n",
       "      <th>b</th>\n",
       "      <th>c</th>\n",
       "      <th>abc</th>\n",
       "    </tr>\n",
       "  </thead>\n",
       "  <tbody>\n",
       "    <tr>\n",
       "      <th>0</th>\n",
       "      <td>00</td>\n",
       "      <td>HIHI</td>\n",
       "      <td>00</td>\n",
       "      <td>0HI00HI0</td>\n",
       "    </tr>\n",
       "    <tr>\n",
       "      <th>1</th>\n",
       "      <td>11</td>\n",
       "      <td>HIHI</td>\n",
       "      <td>44</td>\n",
       "      <td>1HI41HI4</td>\n",
       "    </tr>\n",
       "    <tr>\n",
       "      <th>2</th>\n",
       "      <td>22</td>\n",
       "      <td>HIHI</td>\n",
       "      <td>88</td>\n",
       "      <td>2HI82HI8</td>\n",
       "    </tr>\n",
       "    <tr>\n",
       "      <th>3</th>\n",
       "      <td>33</td>\n",
       "      <td>HIHI</td>\n",
       "      <td>1212</td>\n",
       "      <td>3HI123HI12</td>\n",
       "    </tr>\n",
       "    <tr>\n",
       "      <th>4</th>\n",
       "      <td>44</td>\n",
       "      <td>HIHI</td>\n",
       "      <td>1616</td>\n",
       "      <td>4HI164HI16</td>\n",
       "    </tr>\n",
       "  </tbody>\n",
       "</table>\n",
       "</div>"
      ],
      "text/plain": [
       "    a     b     c         abc\n",
       "0  00  HIHI    00    0HI00HI0\n",
       "1  11  HIHI    44    1HI41HI4\n",
       "2  22  HIHI    88    2HI82HI8\n",
       "3  33  HIHI  1212  3HI123HI12\n",
       "4  44  HIHI  1616  4HI164HI16"
      ]
     },
     "execution_count": 13,
     "metadata": {},
     "output_type": "execute_result"
    }
   ],
   "source": [
    "df.applymap(str).applymap(lambda x: x*2)"
   ]
  },
  {
   "cell_type": "markdown",
   "id": "20eff553-ea5c-4942-beb4-974cfc076ad3",
   "metadata": {},
   "source": [
    "<br>\n",
    "\n",
    "### `map` *and `replace`* \n",
    "can be used to substitute values of a series"
   ]
  },
  {
   "cell_type": "code",
   "execution_count": 14,
   "id": "7ba0c4c4-f7cc-467c-b001-c8b823d86a24",
   "metadata": {},
   "outputs": [
    {
     "data": {
      "text/html": [
       "<div>\n",
       "<style scoped>\n",
       "    .dataframe tbody tr th:only-of-type {\n",
       "        vertical-align: middle;\n",
       "    }\n",
       "\n",
       "    .dataframe tbody tr th {\n",
       "        vertical-align: top;\n",
       "    }\n",
       "\n",
       "    .dataframe thead th {\n",
       "        text-align: right;\n",
       "    }\n",
       "</style>\n",
       "<table border=\"1\" class=\"dataframe\">\n",
       "  <thead>\n",
       "    <tr style=\"text-align: right;\">\n",
       "      <th></th>\n",
       "      <th>a</th>\n",
       "      <th>b</th>\n",
       "      <th>c</th>\n",
       "      <th>abc</th>\n",
       "    </tr>\n",
       "  </thead>\n",
       "  <tbody>\n",
       "    <tr>\n",
       "      <th>0</th>\n",
       "      <td>0</td>\n",
       "      <td>HI</td>\n",
       "      <td>0</td>\n",
       "      <td>0HI0</td>\n",
       "    </tr>\n",
       "    <tr>\n",
       "      <th>1</th>\n",
       "      <td>1</td>\n",
       "      <td>HI</td>\n",
       "      <td>4</td>\n",
       "      <td>1HI4</td>\n",
       "    </tr>\n",
       "    <tr>\n",
       "      <th>2</th>\n",
       "      <td>2</td>\n",
       "      <td>HI</td>\n",
       "      <td>8</td>\n",
       "      <td>2HI8</td>\n",
       "    </tr>\n",
       "    <tr>\n",
       "      <th>3</th>\n",
       "      <td>3</td>\n",
       "      <td>HI</td>\n",
       "      <td>12</td>\n",
       "      <td>3HI12</td>\n",
       "    </tr>\n",
       "    <tr>\n",
       "      <th>4</th>\n",
       "      <td>4</td>\n",
       "      <td>HI</td>\n",
       "      <td>16</td>\n",
       "      <td>4HI16</td>\n",
       "    </tr>\n",
       "  </tbody>\n",
       "</table>\n",
       "</div>"
      ],
      "text/plain": [
       "   a   b   c    abc\n",
       "0  0  HI   0   0HI0\n",
       "1  1  HI   4   1HI4\n",
       "2  2  HI   8   2HI8\n",
       "3  3  HI  12  3HI12\n",
       "4  4  HI  16  4HI16"
      ]
     },
     "execution_count": 14,
     "metadata": {},
     "output_type": "execute_result"
    }
   ],
   "source": [
    "df"
   ]
  },
  {
   "cell_type": "code",
   "execution_count": 15,
   "id": "de370444-fe88-4bde-82a8-30100e012ec9",
   "metadata": {},
   "outputs": [
    {
     "data": {
      "text/plain": [
       "0    zero\n",
       "1     one\n",
       "2     two\n",
       "3     NaN\n",
       "4     NaN\n",
       "Name: a, dtype: object"
      ]
     },
     "execution_count": 15,
     "metadata": {},
     "output_type": "execute_result"
    }
   ],
   "source": [
    "df[\"a\"].map({0: \"zero\", 1: \"one\", 2: \"two\"})"
   ]
  },
  {
   "cell_type": "code",
   "execution_count": 16,
   "id": "56edfbb3-6878-483c-9b8c-6936cc3f7c64",
   "metadata": {},
   "outputs": [
    {
     "data": {
      "text/plain": [
       "0    zero\n",
       "1     one\n",
       "2     two\n",
       "3       3\n",
       "4       4\n",
       "Name: a, dtype: object"
      ]
     },
     "execution_count": 16,
     "metadata": {},
     "output_type": "execute_result"
    }
   ],
   "source": [
    "df[\"a\"].replace({0: \"zero\", 1: \"one\", 2: \"two\"})"
   ]
  },
  {
   "cell_type": "markdown",
   "id": "dee21727-3464-431c-b895-dfb3a31e4e72",
   "metadata": {},
   "source": [
    "<br>\n",
    "<br>\n",
    "\n",
    "## Vectorization\n",
    "**Don't do loops, do vectorization** <br>\n"
   ]
  },
  {
   "cell_type": "markdown",
   "id": "9c846674-ac1a-4c47-96a1-04cc7062aade",
   "metadata": {},
   "source": [
    "### Numeric Data"
   ]
  },
  {
   "cell_type": "code",
   "execution_count": 17,
   "id": "11cf1687-2d0b-4047-9552-e8be1af0f390",
   "metadata": {},
   "outputs": [],
   "source": [
    "np.random.seed(42)\n",
    "\n",
    "random_values = np.random.random((1_000_000, 2))\n",
    "\n",
    "df = pd.DataFrame(random_values, columns=['a', 'b'])"
   ]
  },
  {
   "cell_type": "code",
   "execution_count": 18,
   "id": "3dcc565e-cd71-4af9-9704-91c0a0c493f9",
   "metadata": {},
   "outputs": [
    {
     "data": {
      "text/html": [
       "<div>\n",
       "<style scoped>\n",
       "    .dataframe tbody tr th:only-of-type {\n",
       "        vertical-align: middle;\n",
       "    }\n",
       "\n",
       "    .dataframe tbody tr th {\n",
       "        vertical-align: top;\n",
       "    }\n",
       "\n",
       "    .dataframe thead th {\n",
       "        text-align: right;\n",
       "    }\n",
       "</style>\n",
       "<table border=\"1\" class=\"dataframe\">\n",
       "  <thead>\n",
       "    <tr style=\"text-align: right;\">\n",
       "      <th></th>\n",
       "      <th>a</th>\n",
       "      <th>b</th>\n",
       "    </tr>\n",
       "  </thead>\n",
       "  <tbody>\n",
       "    <tr>\n",
       "      <th>0</th>\n",
       "      <td>0.374540</td>\n",
       "      <td>0.950714</td>\n",
       "    </tr>\n",
       "    <tr>\n",
       "      <th>1</th>\n",
       "      <td>0.731994</td>\n",
       "      <td>0.598658</td>\n",
       "    </tr>\n",
       "    <tr>\n",
       "      <th>2</th>\n",
       "      <td>0.156019</td>\n",
       "      <td>0.155995</td>\n",
       "    </tr>\n",
       "    <tr>\n",
       "      <th>3</th>\n",
       "      <td>0.058084</td>\n",
       "      <td>0.866176</td>\n",
       "    </tr>\n",
       "    <tr>\n",
       "      <th>4</th>\n",
       "      <td>0.601115</td>\n",
       "      <td>0.708073</td>\n",
       "    </tr>\n",
       "  </tbody>\n",
       "</table>\n",
       "</div>"
      ],
      "text/plain": [
       "          a         b\n",
       "0  0.374540  0.950714\n",
       "1  0.731994  0.598658\n",
       "2  0.156019  0.155995\n",
       "3  0.058084  0.866176\n",
       "4  0.601115  0.708073"
      ]
     },
     "execution_count": 18,
     "metadata": {},
     "output_type": "execute_result"
    }
   ],
   "source": [
    "df.head()"
   ]
  },
  {
   "cell_type": "markdown",
   "id": "8b77635a-c174-46e5-aa22-d15a9bf6367f",
   "metadata": {},
   "source": [
    "No vectorization<br>\n",
    "`apply` applies the function to every row one by one"
   ]
  },
  {
   "cell_type": "code",
   "execution_count": 19,
   "id": "23070e56-302e-435d-8db4-f78f08c0a588",
   "metadata": {},
   "outputs": [
    {
     "name": "stdout",
     "output_type": "stream",
     "text": [
      "4.68 s ± 13.7 ms per loop (mean ± std. dev. of 7 runs, 1 loop each)\n"
     ]
    }
   ],
   "source": [
    "%%timeit\n",
    "df.apply(lambda x: x[\"a\"]+x[\"b\"], axis=1)"
   ]
  },
  {
   "cell_type": "markdown",
   "id": "933db28a-058e-4212-9c3b-2dcaa56061e6",
   "metadata": {},
   "source": [
    "Vectorization"
   ]
  },
  {
   "cell_type": "code",
   "execution_count": 20,
   "id": "761f46ea-4167-441c-ab48-c697c8e74c23",
   "metadata": {},
   "outputs": [
    {
     "name": "stdout",
     "output_type": "stream",
     "text": [
      "613 µs ± 147 µs per loop (mean ± std. dev. of 7 runs, 1,000 loops each)\n"
     ]
    }
   ],
   "source": [
    "%%timeit\n",
    "df[\"a\"] + df[\"b\"]"
   ]
  },
  {
   "cell_type": "markdown",
   "id": "b0f4c741-bd8e-43ba-a3fc-f0b4287c3022",
   "metadata": {},
   "source": [
    "Vectorization without the pandas series overhead"
   ]
  },
  {
   "cell_type": "code",
   "execution_count": 21,
   "id": "70fc7c5d-bfc7-4f4f-b3b3-255acc9637cd",
   "metadata": {},
   "outputs": [
    {
     "name": "stdout",
     "output_type": "stream",
     "text": [
      "555 µs ± 168 µs per loop (mean ± std. dev. of 7 runs, 1,000 loops each)\n"
     ]
    }
   ],
   "source": [
    "%%timeit\n",
    "df[\"a\"].values + df[\"b\"].values"
   ]
  },
  {
   "cell_type": "markdown",
   "id": "4099a0f9-dbcf-49cd-8b47-a8f26a7ebac2",
   "metadata": {},
   "source": [
    "<br>\n",
    "\n",
    "### Conditionals *(if else)*\n",
    "Here we have a dataframe with temperature measurements in *Celsius* and *Fahrenheit*.<br>\n",
    "Based on the *region* we want to decide which to take"
   ]
  },
  {
   "cell_type": "code",
   "execution_count": 31,
   "id": "0ea5b454-98f7-4d4d-9be2-67a0d370465d",
   "metadata": {},
   "outputs": [
    {
     "data": {
      "text/html": [
       "<div>\n",
       "<style scoped>\n",
       "    .dataframe tbody tr th:only-of-type {\n",
       "        vertical-align: middle;\n",
       "    }\n",
       "\n",
       "    .dataframe tbody tr th {\n",
       "        vertical-align: top;\n",
       "    }\n",
       "\n",
       "    .dataframe thead th {\n",
       "        text-align: right;\n",
       "    }\n",
       "</style>\n",
       "<table border=\"1\" class=\"dataframe\">\n",
       "  <thead>\n",
       "    <tr style=\"text-align: right;\">\n",
       "      <th></th>\n",
       "      <th>region</th>\n",
       "      <th>celsius</th>\n",
       "      <th>fahrenheit</th>\n",
       "    </tr>\n",
       "  </thead>\n",
       "  <tbody>\n",
       "    <tr>\n",
       "      <th>0</th>\n",
       "      <td>EU</td>\n",
       "      <td>17</td>\n",
       "      <td>62.6</td>\n",
       "    </tr>\n",
       "    <tr>\n",
       "      <th>1</th>\n",
       "      <td>USA</td>\n",
       "      <td>29</td>\n",
       "      <td>84.2</td>\n",
       "    </tr>\n",
       "    <tr>\n",
       "      <th>2</th>\n",
       "      <td>USA</td>\n",
       "      <td>9</td>\n",
       "      <td>48.2</td>\n",
       "    </tr>\n",
       "    <tr>\n",
       "      <th>3</th>\n",
       "      <td>EU</td>\n",
       "      <td>-4</td>\n",
       "      <td>24.8</td>\n",
       "    </tr>\n",
       "    <tr>\n",
       "      <th>4</th>\n",
       "      <td>USA</td>\n",
       "      <td>-9</td>\n",
       "      <td>15.8</td>\n",
       "    </tr>\n",
       "  </tbody>\n",
       "</table>\n",
       "</div>"
      ],
      "text/plain": [
       "  region  celsius  fahrenheit\n",
       "0     EU       17        62.6\n",
       "1    USA       29        84.2\n",
       "2    USA        9        48.2\n",
       "3     EU       -4        24.8\n",
       "4    USA       -9        15.8"
      ]
     },
     "execution_count": 31,
     "metadata": {},
     "output_type": "execute_result"
    }
   ],
   "source": [
    "region = np.random.choice([\"USA\", \"EU\"], size=100_000)\n",
    "temp = np.random.randint(low=-10, high=40, size=100_000)\n",
    "\n",
    "df =  pd.DataFrame({\"region\": region, \"celsius\": temp, \"fahrenheit\": (1.8 * temp) + 32})\n",
    "df.head()"
   ]
  },
  {
   "cell_type": "markdown",
   "id": "7a1554c5-c8c2-404a-b38d-4407d72ed2c8",
   "metadata": {},
   "source": [
    "No vectorization"
   ]
  },
  {
   "cell_type": "code",
   "execution_count": 32,
   "id": "9d408a3b-6b81-42b8-a654-69fb9c5478f2",
   "metadata": {},
   "outputs": [],
   "source": [
    "def regional_temperature(x):\n",
    "    if x[\"region\"] == \"EU\":\n",
    "        return x[\"celsius\"]\n",
    "    else:\n",
    "        return x[\"fahrenheit\"]"
   ]
  },
  {
   "cell_type": "code",
   "execution_count": 33,
   "id": "38d75594-ae3f-4ed8-be9b-ec92c95c38b6",
   "metadata": {},
   "outputs": [
    {
     "name": "stdout",
     "output_type": "stream",
     "text": [
      "468 ms ± 1.91 ms per loop (mean ± std. dev. of 7 runs, 1 loop each)\n"
     ]
    }
   ],
   "source": [
    "%%timeit\n",
    "df.apply(regional_temperature, axis=1)"
   ]
  },
  {
   "cell_type": "markdown",
   "id": "a753e994-845a-4aad-a543-af01257b4717",
   "metadata": {},
   "source": [
    "Vectorization with `np.where`"
   ]
  },
  {
   "cell_type": "code",
   "execution_count": 34,
   "id": "767ef456-30ce-46c1-a6c7-bb2bdd6f6c92",
   "metadata": {},
   "outputs": [
    {
     "name": "stdout",
     "output_type": "stream",
     "text": [
      "3.36 ms ± 5.99 µs per loop (mean ± std. dev. of 7 runs, 100 loops each)\n"
     ]
    }
   ],
   "source": [
    "%%timeit\n",
    "np.where(df[\"region\"]==\"EU\", df[\"celsius\"], df[\"fahrenheit\"])"
   ]
  },
  {
   "cell_type": "markdown",
   "id": "6969a428-7d25-4320-b165-04e4201f71b5",
   "metadata": {},
   "source": [
    "### elif\n",
    "What if we have more then one condition?<br>\n",
    "Lets say we want to match the numbers 0-4 to different colors."
   ]
  },
  {
   "cell_type": "code",
   "execution_count": 44,
   "id": "534d9a7b-856c-48d4-8c54-3c3730a06488",
   "metadata": {},
   "outputs": [
    {
     "data": {
      "text/html": [
       "<div>\n",
       "<style scoped>\n",
       "    .dataframe tbody tr th:only-of-type {\n",
       "        vertical-align: middle;\n",
       "    }\n",
       "\n",
       "    .dataframe tbody tr th {\n",
       "        vertical-align: top;\n",
       "    }\n",
       "\n",
       "    .dataframe thead th {\n",
       "        text-align: right;\n",
       "    }\n",
       "</style>\n",
       "<table border=\"1\" class=\"dataframe\">\n",
       "  <thead>\n",
       "    <tr style=\"text-align: right;\">\n",
       "      <th></th>\n",
       "      <th>value</th>\n",
       "    </tr>\n",
       "  </thead>\n",
       "  <tbody>\n",
       "    <tr>\n",
       "      <th>0</th>\n",
       "      <td>3</td>\n",
       "    </tr>\n",
       "    <tr>\n",
       "      <th>1</th>\n",
       "      <td>2</td>\n",
       "    </tr>\n",
       "    <tr>\n",
       "      <th>2</th>\n",
       "      <td>1</td>\n",
       "    </tr>\n",
       "    <tr>\n",
       "      <th>3</th>\n",
       "      <td>3</td>\n",
       "    </tr>\n",
       "    <tr>\n",
       "      <th>4</th>\n",
       "      <td>4</td>\n",
       "    </tr>\n",
       "  </tbody>\n",
       "</table>\n",
       "</div>"
      ],
      "text/plain": [
       "   value\n",
       "0      3\n",
       "1      2\n",
       "2      1\n",
       "3      3\n",
       "4      4"
      ]
     },
     "execution_count": 44,
     "metadata": {},
     "output_type": "execute_result"
    }
   ],
   "source": [
    "values = np.random.randint(low=0, high=5, size=100_000)\n",
    "df = pd.DataFrame(values, columns=[\"value\"])\n",
    "df.head()"
   ]
  },
  {
   "cell_type": "markdown",
   "id": "0feb63fd-987c-4704-af28-5c6fdd3533b7",
   "metadata": {},
   "source": [
    "No vectorization"
   ]
  },
  {
   "cell_type": "code",
   "execution_count": 36,
   "id": "a80d9c4b-8c7b-451d-ad36-8b1df62c89c6",
   "metadata": {},
   "outputs": [],
   "source": [
    "def num_to_color(x):\n",
    "    if x[\"value\"] == 0:\n",
    "        return \"red\"\n",
    "    elif x[\"value\"] == 1:\n",
    "        return \"green\"\n",
    "    elif x[\"value\"] == 2:\n",
    "        return \"blue\"\n",
    "    elif x[\"value\"] == 3:\n",
    "        return \"yellow\"\n",
    "    else:\n",
    "        return \"purple\"\n",
    "        "
   ]
  },
  {
   "cell_type": "code",
   "execution_count": 37,
   "id": "cb6c68e1-de31-4f59-9d18-10e3766a3237",
   "metadata": {},
   "outputs": [
    {
     "name": "stdout",
     "output_type": "stream",
     "text": [
      "600 ms ± 4.04 ms per loop (mean ± std. dev. of 7 runs, 1 loop each)\n"
     ]
    }
   ],
   "source": [
    "%%timeit\n",
    "df.apply(num_to_color, axis=1)"
   ]
  },
  {
   "cell_type": "markdown",
   "id": "9aa059fd-5695-44e7-ac26-8f63d2c776bc",
   "metadata": {},
   "source": [
    "Vectorization with `np.select`"
   ]
  },
  {
   "cell_type": "code",
   "execution_count": 46,
   "id": "0158960b-f24a-438f-86b9-b001edb41b24",
   "metadata": {},
   "outputs": [
    {
     "name": "stdout",
     "output_type": "stream",
     "text": [
      "33.1 ms ± 317 µs per loop (mean ± std. dev. of 7 runs, 10 loops each)\n"
     ]
    }
   ],
   "source": [
    "%%timeit\n",
    "\n",
    "conditions = [\n",
    "    df[\"value\"] == 0,\n",
    "    df[\"value\"] == 1,\n",
    "    df[\"value\"] == 2,\n",
    "    df[\"value\"] == 3,\n",
    "    df[\"value\"] == 4,\n",
    "]\n",
    "\n",
    "choices = [\n",
    "    \"red\",\n",
    "    \"green\",\n",
    "    \"blue\",\n",
    "    \"yellow\",\n",
    "    \"purple\"\n",
    "]\n",
    "\n",
    "np.select(conditions, choices)"
   ]
  },
  {
   "cell_type": "markdown",
   "id": "ed7b5cb3-890b-4690-911c-14c24015d164",
   "metadata": {},
   "source": [
    "We could also do this with map, but `np.select` allows for more flexibility. So we could for example also base our conditions on other columns if we wanted to."
   ]
  },
  {
   "cell_type": "code",
   "execution_count": 45,
   "id": "81b11f3a-fb98-43c9-8e96-d51c8e359edb",
   "metadata": {},
   "outputs": [
    {
     "name": "stdout",
     "output_type": "stream",
     "text": [
      "882 µs ± 3.84 µs per loop (mean ± std. dev. of 7 runs, 1,000 loops each)\n"
     ]
    }
   ],
   "source": [
    "%%timeit\n",
    "df[\"value\"].map({0: \"red\", 1: \"green\", 2: \"blue\", 3: \"yellow\", 4: \"purple\"})"
   ]
  },
  {
   "cell_type": "markdown",
   "id": "0dede9ec-32c5-4aac-a9e5-c8c3d2308217",
   "metadata": {},
   "source": [
    "<br>\n",
    "\n",
    "### Logical operators\n",
    "Given a `dataframe` with two columns that have values of `0` or `1`, we want to *apply* the logical **and**"
   ]
  },
  {
   "cell_type": "code",
   "execution_count": 39,
   "id": "3ae1302c-3c89-41e3-b961-32889fbb9722",
   "metadata": {},
   "outputs": [
    {
     "data": {
      "text/html": [
       "<div>\n",
       "<style scoped>\n",
       "    .dataframe tbody tr th:only-of-type {\n",
       "        vertical-align: middle;\n",
       "    }\n",
       "\n",
       "    .dataframe tbody tr th {\n",
       "        vertical-align: top;\n",
       "    }\n",
       "\n",
       "    .dataframe thead th {\n",
       "        text-align: right;\n",
       "    }\n",
       "</style>\n",
       "<table border=\"1\" class=\"dataframe\">\n",
       "  <thead>\n",
       "    <tr style=\"text-align: right;\">\n",
       "      <th></th>\n",
       "      <th>a</th>\n",
       "      <th>b</th>\n",
       "    </tr>\n",
       "  </thead>\n",
       "  <tbody>\n",
       "    <tr>\n",
       "      <th>0</th>\n",
       "      <td>0</td>\n",
       "      <td>0</td>\n",
       "    </tr>\n",
       "    <tr>\n",
       "      <th>1</th>\n",
       "      <td>1</td>\n",
       "      <td>1</td>\n",
       "    </tr>\n",
       "    <tr>\n",
       "      <th>2</th>\n",
       "      <td>1</td>\n",
       "      <td>1</td>\n",
       "    </tr>\n",
       "    <tr>\n",
       "      <th>3</th>\n",
       "      <td>0</td>\n",
       "      <td>1</td>\n",
       "    </tr>\n",
       "    <tr>\n",
       "      <th>4</th>\n",
       "      <td>1</td>\n",
       "      <td>0</td>\n",
       "    </tr>\n",
       "  </tbody>\n",
       "</table>\n",
       "</div>"
      ],
      "text/plain": [
       "   a  b\n",
       "0  0  0\n",
       "1  1  1\n",
       "2  1  1\n",
       "3  0  1\n",
       "4  1  0"
      ]
     },
     "execution_count": 39,
     "metadata": {},
     "output_type": "execute_result"
    }
   ],
   "source": [
    "values = np.random.randint(low=0, high=2, size=200_000).reshape(-1, 2)\n",
    "df =  pd.DataFrame(values, columns=[\"a\", \"b\"])\n",
    "df.head()"
   ]
  },
  {
   "cell_type": "markdown",
   "id": "c1498fd0-106d-48f1-b373-47651ca2f9d4",
   "metadata": {},
   "source": [
    "No vectorization"
   ]
  },
  {
   "cell_type": "code",
   "execution_count": 40,
   "id": "777d9220-9964-40de-aad4-e4ff0f20335f",
   "metadata": {},
   "outputs": [
    {
     "name": "stdout",
     "output_type": "stream",
     "text": [
      "408 ms ± 3.81 ms per loop (mean ± std. dev. of 7 runs, 1 loop each)\n"
     ]
    }
   ],
   "source": [
    "%%timeit\n",
    "df.apply(lambda x: x[\"a\"] and x[\"b\"], axis=1)"
   ]
  },
  {
   "cell_type": "markdown",
   "id": "6f531969-9ff5-43c0-9abf-71081b7b4fe3",
   "metadata": {},
   "source": [
    "Vectorization with a numpy function"
   ]
  },
  {
   "cell_type": "code",
   "execution_count": 41,
   "id": "e634a808-b0b1-4346-a304-2e85d3284624",
   "metadata": {},
   "outputs": [
    {
     "name": "stdout",
     "output_type": "stream",
     "text": [
      "262 µs ± 30.3 µs per loop (mean ± std. dev. of 7 runs, 1,000 loops each)\n"
     ]
    }
   ],
   "source": [
    "%%timeit\n",
    "np.logical_and(df[\"a\"], df[\"b\"])"
   ]
  },
  {
   "cell_type": "markdown",
   "id": "58889473-d62f-4f1e-91f5-3a1e4735089d",
   "metadata": {},
   "source": [
    "Vectorization with a numpy function and without the pandas overhead"
   ]
  },
  {
   "cell_type": "code",
   "execution_count": null,
   "id": "4db7da63-152b-4a7b-89bb-e15597c5dcbf",
   "metadata": {},
   "outputs": [
    {
     "name": "stdout",
     "output_type": "stream",
     "text": [
      "59.7 µs ± 49.2 ns per loop (mean ± std. dev. of 7 runs, 10,000 loops each)\n"
     ]
    }
   ],
   "source": [
    "%%timeit\n",
    "np.logical_and(df[\"a\"].values, df[\"b\"].values)"
   ]
  },
  {
   "cell_type": "markdown",
   "id": "d125aec2-2d5c-407e-b5c5-d4f2b87dc5dc",
   "metadata": {},
   "source": [
    "<br>\n",
    "\n",
    "### More on vectorization\n",
    "Vectorizing can be hard, here are some more resources that might help you out.<br>\n",
    "[1000x faster data manipulation: vectorizing with Pandas and Numpy](https://www.youtube.com/watch?v=nxWginnBklU&list=PLO4WA4pVxaiVmEU8WYlZj4CbUBGNOvD9G)<br>\n",
    "[ Sofia Heisler No More Sad Pandas Optimizing Pandas Code for Speed and Efficiency PyCon 2017 ](https://www.youtube.com/watch?v=HN5d490_KKk&list=PLO4WA4pVxaiVmEU8WYlZj4CbUBGNOvD9G)\n",
    "[When should I (not) want to use pandas apply() in my code?](https://stackoverflow.com/questions/54432583/when-should-i-not-want-to-use-pandas-apply-in-my-code)\n",
    "[Are for-loops in pandas really bad? When should I care?](https://stackoverflow.com/questions/54028199/are-for-loops-in-pandas-really-bad-when-should-i-care)"
   ]
  },
  {
   "cell_type": "code",
   "execution_count": null,
   "id": "f03bd997-656c-4000-a650-e4893bbc6952",
   "metadata": {},
   "outputs": [],
   "source": []
  }
 ],
 "metadata": {
  "kernelspec": {
   "display_name": "Python 3 (ipykernel)",
   "language": "python",
   "name": "python3"
  },
  "language_info": {
   "codemirror_mode": {
    "name": "ipython",
    "version": 3
   },
   "file_extension": ".py",
   "mimetype": "text/x-python",
   "name": "python",
   "nbconvert_exporter": "python",
   "pygments_lexer": "ipython3",
   "version": "3.10.4"
  }
 },
 "nbformat": 4,
 "nbformat_minor": 5
}
