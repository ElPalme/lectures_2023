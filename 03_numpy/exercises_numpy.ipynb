{
 "cells": [
  {
   "cell_type": "markdown",
   "id": "6589f238-e49a-4d45-a9a9-aeb146948b07",
   "metadata": {},
   "source": [
    "# Optional Exercises <img src=\"images/snake.png\" width=\"200\" style=\"float: right;\"/>"
   ]
  },
  {
   "cell_type": "markdown",
   "id": "1f9faa0a-fd3f-4ac9-9ee0-a8ae9f994e8b",
   "metadata": {},
   "source": [
    "In this notebook you can find some optional exercises to test your knowledge and understanding from this week's lecture.  \n",
    "In the __flipped classroom__ we will go through these exercises and offer you some possible solutions to them."
   ]
  },
  {
   "cell_type": "code",
   "execution_count": null,
   "id": "8f359f9f-a4f4-4cff-9116-dd3a5201731e",
   "metadata": {
    "tags": []
   },
   "outputs": [],
   "source": [
    "import numpy as np"
   ]
  },
  {
   "cell_type": "markdown",
   "id": "15f3d3a9-4094-450e-98a8-bac1005e8a6e",
   "metadata": {},
   "source": [
    "### Exercise 1:"
   ]
  },
  {
   "cell_type": "markdown",
   "id": "5892c262-f908-40f8-ae23-0c0bcf123142",
   "metadata": {},
   "source": [
    "#### a)\n",
    "- create a 3 by 3 array, that consists only of True."
   ]
  },
  {
   "cell_type": "code",
   "execution_count": null,
   "id": "8ce820e6-fcd1-45a0-95a8-57579ef97a93",
   "metadata": {},
   "outputs": [],
   "source": [
    "# create your array"
   ]
  },
  {
   "cell_type": "markdown",
   "id": "d8efd7ea-2874-40e3-9a06-35c81b4fd201",
   "metadata": {},
   "source": [
    "#### b)\n",
    "- replace all even numbers in the array with -1"
   ]
  },
  {
   "cell_type": "code",
   "execution_count": null,
   "id": "2764e1dd-f7ee-45ce-b46a-32270a645dd4",
   "metadata": {},
   "outputs": [],
   "source": [
    "arr = np.array([0, 1, 2, 3, 4, 5, 6, 7, 8, 9])"
   ]
  },
  {
   "cell_type": "code",
   "execution_count": null,
   "id": "e89e917a-1f7f-4dff-bdd8-714d6b963460",
   "metadata": {},
   "outputs": [],
   "source": [
    "# your code"
   ]
  },
  {
   "cell_type": "markdown",
   "id": "a4f8c360-5e4b-44df-9bf7-8da3f8478bbd",
   "metadata": {},
   "source": [
    "#### c)\n",
    "- create a numpy array with 100 entries, that are random samples from a Gaussian (or normal) distribution\n",
    "- filter out all values below 0 and above 1"
   ]
  },
  {
   "cell_type": "code",
   "execution_count": null,
   "id": "d713d66a-5fc4-48e9-a8f0-582c9b81ba3c",
   "metadata": {
    "tags": []
   },
   "outputs": [],
   "source": [
    "# create np array from Gaussian distribution (replace the [] with your code)\n",
    "gaussian_array = []"
   ]
  },
  {
   "cell_type": "code",
   "execution_count": null,
   "id": "c591bc68-3a27-4447-aded-891462d47113",
   "metadata": {},
   "outputs": [],
   "source": [
    "# filter out all values below 0 and above 1"
   ]
  },
  {
   "cell_type": "code",
   "execution_count": null,
   "id": "6525f9d2-de74-45a5-82ec-4c657a043a78",
   "metadata": {},
   "outputs": [],
   "source": [
    "# test if only the right values are in the array\n",
    "if np.any(gaussian_array > 1) or np.any(gaussian_array < 0):\n",
    "    print(\"something went wrong with your filter\")\n",
    "else: \n",
    "    print(\"good job!\")"
   ]
  },
  {
   "cell_type": "markdown",
   "id": "5a1a7a8f-e780-42e0-a916-2c7f1859cd0a",
   "metadata": {},
   "source": [
    "### Exercise 2\n",
    "<img src=\"images/strange_pattern.png\" width=\"200\" style=\"float: center;\"/>  \n",
    "\n",
    "- create a function that creates this pattern for any size \n",
    "- the size is determined by two parameters hight and width"
   ]
  },
  {
   "cell_type": "code",
   "execution_count": null,
   "id": "e3870ad8-6948-47e9-a799-16f6c26307f6",
   "metadata": {},
   "outputs": [],
   "source": [
    "def strange_pattern(hight, width):\n",
    "    # your code, delete pass\n",
    "    pass"
   ]
  },
  {
   "cell_type": "code",
   "execution_count": null,
   "id": "29c9c89a-3e28-45a4-a9a7-05db154ffe47",
   "metadata": {},
   "outputs": [],
   "source": [
    "# test your function:\n",
    "print(strange_pattern(8,8))"
   ]
  },
  {
   "cell_type": "markdown",
   "id": "eb1f2df9-a825-45fb-a8b1-00a81347de2d",
   "metadata": {},
   "source": [
    "### Exercise 3\n",
    "<img src=\"images/broadcasting.png\" width=\"200\" style=\"float: center;\"/>\n",
    "\n",
    "- create an array that looks like the one in the picture\n",
    "- Tip: this can be done easily when you use broadcasting"
   ]
  },
  {
   "cell_type": "code",
   "execution_count": null,
   "id": "8a2af800-8512-455a-addf-5658abf88f24",
   "metadata": {},
   "outputs": [],
   "source": [
    "# create your array\n",
    "array_3 = []"
   ]
  },
  {
   "cell_type": "code",
   "execution_count": null,
   "id": "d600f497-dd1a-45ff-ae9d-94105822a71a",
   "metadata": {},
   "outputs": [],
   "source": [
    "# test it by printing your array\n",
    "print(array_3)"
   ]
  },
  {
   "cell_type": "markdown",
   "id": "d8c8d1e2-2b04-4496-953c-7490f712a788",
   "metadata": {},
   "source": [
    "### Exercise 4\n",
    "- create a 1 dimenensional array that consists of all the even integers in this array:\n"
   ]
  },
  {
   "cell_type": "code",
   "execution_count": 16,
   "id": "37a8fa3f-41d1-4076-966f-f00ba9c1d031",
   "metadata": {
    "tags": []
   },
   "outputs": [],
   "source": [
    "input = np.array([[[[2, 6, 19], [15, 10, 23]], [[0, 9, 7], [12, 7, 16]]], [[[22, 2, 33], [11, 10, 9]], [[8, 8, 4], [7, 5, 8]]],  [[[14, 13, 29], [1, 5, 4]], [[11,13,15], [2, 0, 6]]]])"
   ]
  },
  {
   "cell_type": "code",
   "execution_count": 17,
   "id": "a66b38fa-e4e9-4c86-b649-ace900bfe9c4",
   "metadata": {
    "tags": []
   },
   "outputs": [
    {
     "name": "stdout",
     "output_type": "stream",
     "text": [
      "[[[[ 2  6 19]\n",
      "   [15 10 23]]\n",
      "\n",
      "  [[ 0  9  7]\n",
      "   [12  7 16]]]\n",
      "\n",
      "\n",
      " [[[22  2 33]\n",
      "   [11 10  9]]\n",
      "\n",
      "  [[ 8  8  4]\n",
      "   [ 7  5  8]]]\n",
      "\n",
      "\n",
      " [[[14 13 29]\n",
      "   [ 1  5  4]]\n",
      "\n",
      "  [[11 13 15]\n",
      "   [ 2  0  6]]]]\n"
     ]
    }
   ],
   "source": [
    "print(input)"
   ]
  },
  {
   "cell_type": "markdown",
   "id": "ece4b4a3-b5b6-4d05-ba57-0e6a8fb69843",
   "metadata": {},
   "source": [
    "### Exercise 5 \n",
    "<img src=\"images/indexing.png\" width=\"300\" style=\"float: center;\"/>\n",
    "\n",
    "\n",
    "- create an array out of the numbers in the read boxes using slicing"
   ]
  },
  {
   "cell_type": "code",
   "execution_count": null,
   "id": "507c806c-b6d9-4fa6-9155-929bdd678a1a",
   "metadata": {},
   "outputs": [],
   "source": [
    "# this is the array in the picture\n",
    "advance_indexing = np.arange(121).reshape(11,11)\n",
    "print(advance_indexing)"
   ]
  },
  {
   "cell_type": "code",
   "execution_count": null,
   "id": "0aa02e59-db89-40c8-9f40-6f4dd388221c",
   "metadata": {},
   "outputs": [],
   "source": [
    "# create your own array"
   ]
  }
 ],
 "metadata": {
  "kernelspec": {
   "display_name": "Python 3 (ipykernel)",
   "language": "python",
   "name": "python3"
  },
  "language_info": {
   "codemirror_mode": {
    "name": "ipython",
    "version": 3
   },
   "file_extension": ".py",
   "mimetype": "text/x-python",
   "name": "python",
   "nbconvert_exporter": "python",
   "pygments_lexer": "ipython3",
   "version": "3.11.2"
  }
 },
 "nbformat": 4,
 "nbformat_minor": 5
}
