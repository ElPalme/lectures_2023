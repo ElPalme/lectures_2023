{
 "cells": [
  {
   "cell_type": "markdown",
   "id": "9e602644-5096-4967-a09e-7cadb3865d21",
   "metadata": {},
   "source": [
    "# Numpy Arrays What - can we do with them?\n",
    "\n",
    "[<center><img src=\"images/numpy_logo.png\" width=\"400\"/></center>](https://numpy.org/doc/stable/user/quickstart.html)"
   ]
  },
  {
   "cell_type": "markdown",
   "id": "c971189b-c34a-47a5-9421-8b10d218118e",
   "metadata": {},
   "source": [
    "## Table of Contents\n",
    "\n",
    "* [Accessing Array Elements](#aae)\n",
    "    * [Indexing and Slicing](#Indx_Slic)\n",
    "    * [Masking/Filtering](#Mask_Filt)\n",
    "<br>\n",
    "<br>\n",
    "* [Math with Numpy Arrays](#mwna)\n",
    "    * [Math Operators and Functions - Ufuncs](#Operators)\n",
    "    * [Comparison](#Comparison)\n",
    "    * [Constants](#Constants)\n",
    "<br>\n",
    "<br>\n",
    "* [Changing Shape](#Changing_Shape)\n",
    "    * [The axis argument](#Axis)\n",
    "    * [Reshape](#Reshape)\n",
    "    * [Removing Dimensions](#Removing_Dimensions)\n",
    "        * [Flattening](#Flattening)\n",
    "        * [Squeezing](#Squeezing)\n",
    "    * [Adding Dimensions](#Adding_Dimensions)\n",
    "        * [Extending](#Extending)\n",
    "        * [Combining Arrays](#Combining_Arrays)\n",
    "        * [Repeating Arrays](#Repeating_Arrays)\n",
    "    * [Aggregation](#Aggregation)\n",
    "    * [Broadcasting](#Broadcasting)\n",
    "<br>\n",
    "<br>\n",
    "* [Miscellaneous](#Miscellaneous)\n",
    "    * [Repeat](#Repeat)\n",
    "    * [Random Number Generation](#Random_Number_Generation)\n"
   ]
  },
  {
   "cell_type": "markdown",
   "id": "47bd27bd-8011-479b-a166-a30af4d7faaa",
   "metadata": {},
   "source": [
    "## Imports"
   ]
  },
  {
   "cell_type": "code",
   "execution_count": 328,
   "id": "3b45ce29-a0f5-4ec8-8067-cbe42c1849fb",
   "metadata": {},
   "outputs": [
    {
     "name": "stdout",
     "output_type": "stream",
     "text": [
      "1.24.3\n"
     ]
    }
   ],
   "source": [
    "import numpy as np\n",
    "print(np.__version__)"
   ]
  },
  {
   "cell_type": "markdown",
   "id": "e0adb363-c1f0-40be-869c-fc63980c0831",
   "metadata": {},
   "source": [
    "<br>\n",
    "\n",
    "<a id='Changing_Shape'></a>\n",
    "# Changing Shape"
   ]
  },
  {
   "cell_type": "markdown",
   "id": "73462e10-64aa-4daa-9ff3-54263bf8df75",
   "metadata": {
    "tags": []
   },
   "source": [
    "<a id='Axis'></a>\n",
    "## The `axis` argument\n",
    "\n",
    "Many numpy functions allow you to specify an `axis` argument. In practice they are quite simple, but it can take a while to wrap your head around how they work. We will attempt a short explanation and demonstration here. For a more comprehensive guide check out this helpful tutorial by Joshua Ebner: https://www.sharpsightlabs.com/blog/numpy-axes-explained/ \n",
    "\n",
    "By definition, the axis number of the dimension is the index of that dimension within the array's shape. It is also the position used to access that dimension during indexing.\n",
    "Axes can be interpreted as the axes of a coordinate system, or in the specific case of a 2 dimensional array, the rows and columns of a table.\n",
    "\n",
    "In the 2D example, specifying `axis=0` applies operations \"column-wise\", while axis=1 applies operations \"row-wise\".\n",
    "\n",
    "No matter how many dimensions an array has, you can access it's last dimension with `axis=-1`, its second to last dimension with `axis=-2` and so on.\n",
    "\n",
    "<img src=\"images/npaxes.jpg\" width=\"700\"/>\n",
    "\n",
    "Let's take a look at some 2D examples:"
   ]
  },
  {
   "cell_type": "code",
   "execution_count": 329,
   "id": "b480f1b3-1bb0-4866-9fb7-aa09e2b28a35",
   "metadata": {},
   "outputs": [
    {
     "data": {
      "text/plain": [
       "array([[0, 1, 2],\n",
       "       [3, 4, 5],\n",
       "       [6, 7, 8]])"
      ]
     },
     "execution_count": 329,
     "metadata": {},
     "output_type": "execute_result"
    }
   ],
   "source": [
    "a = np.arange(9).reshape((3,3))\n",
    "a"
   ]
  },
  {
   "cell_type": "markdown",
   "id": "28fddb24-92c5-4d68-a2d1-1fc889f832ce",
   "metadata": {},
   "source": [
    "When specifying `axis=0` the sum will be calculated \"column-wise\", or \"top-down\":"
   ]
  },
  {
   "cell_type": "code",
   "execution_count": 330,
   "id": "a8da4944-2ee4-4f56-963a-f1395028df9a",
   "metadata": {},
   "outputs": [
    {
     "data": {
      "text/plain": [
       "array([ 9, 12, 15])"
      ]
     },
     "execution_count": 330,
     "metadata": {},
     "output_type": "execute_result"
    }
   ],
   "source": [
    "#np.sum calculates the sum of all given values and will be properly introduced later\n",
    "np.sum(a, axis=0)"
   ]
  },
  {
   "cell_type": "markdown",
   "id": "8f58f3e1-2b55-4d10-8afb-cf684f5bc0e2",
   "metadata": {},
   "source": [
    "When specifying `axis=1` the sum will be calculated \"row-wise\", or \"sideways\":"
   ]
  },
  {
   "cell_type": "code",
   "execution_count": 331,
   "id": "b3afffa4-3939-44c6-a1fc-da36ab974e07",
   "metadata": {},
   "outputs": [
    {
     "data": {
      "text/plain": [
       "array([ 3, 12, 21])"
      ]
     },
     "execution_count": 331,
     "metadata": {},
     "output_type": "execute_result"
    }
   ],
   "source": [
    "np.sum(a, axis=1)"
   ]
  },
  {
   "cell_type": "markdown",
   "id": "20df86a5-28cf-4d3d-bb7f-29dace8f6016",
   "metadata": {},
   "source": [
    "Specifying `axis=-1` is the same as specifying the last axis of an array, `axis=1` in this case:"
   ]
  },
  {
   "cell_type": "code",
   "execution_count": 332,
   "id": "4f92d969-7f05-475f-a0bc-6aec28f3eac2",
   "metadata": {},
   "outputs": [
    {
     "data": {
      "text/plain": [
       "array([ 3, 12, 21])"
      ]
     },
     "execution_count": 332,
     "metadata": {},
     "output_type": "execute_result"
    }
   ],
   "source": [
    "np.sum(a, axis=-1)"
   ]
  },
  {
   "cell_type": "markdown",
   "id": "02816823-040b-4096-9954-1971b2469cf3",
   "metadata": {},
   "source": [
    "An example with a three-dimensional array can be found in the [Aggregation](#Aggregation) section."
   ]
  },
  {
   "cell_type": "markdown",
   "id": "98f4397e-3c5f-4a83-8e34-3a38d57b8349",
   "metadata": {
    "tags": []
   },
   "source": [
    "<a id='Reshape'></a>\n",
    "## Reshape\n",
    "\n",
    "With `np.reshape` we can change the shape of an existing array without changing it's contents. The shape in this context is the dimensionality of the array. <br>\n",
    "We can remove or add as many dimensions as we want, as long as the specified shape is consistent with the number of entries!<br>\n",
    "It can be called both as a numpy function or as a method on an array. Both do the exact same thing."
   ]
  },
  {
   "cell_type": "code",
   "execution_count": 333,
   "id": "4a8a77ab-4f54-4c6a-869e-507f6a5a8e15",
   "metadata": {},
   "outputs": [
    {
     "data": {
      "text/plain": [
       "array([0, 1, 2, 3, 4, 5, 6, 7, 8, 9])"
      ]
     },
     "execution_count": 333,
     "metadata": {},
     "output_type": "execute_result"
    }
   ],
   "source": [
    "a = np.arange(10)\n",
    "a"
   ]
  },
  {
   "cell_type": "code",
   "execution_count": 334,
   "id": "829759c3-97a8-4852-97b8-b0108fc3ffb5",
   "metadata": {},
   "outputs": [
    {
     "data": {
      "text/plain": [
       "array([[0, 1],\n",
       "       [2, 3],\n",
       "       [4, 5],\n",
       "       [6, 7],\n",
       "       [8, 9]])"
      ]
     },
     "execution_count": 334,
     "metadata": {},
     "output_type": "execute_result"
    }
   ],
   "source": [
    "# The reshape function, it needs to be given an array and a shape\n",
    "np.reshape(a, (5,2))"
   ]
  },
  {
   "cell_type": "code",
   "execution_count": 335,
   "id": "f6f853a1-32d7-4733-afa5-2041015c7840",
   "metadata": {},
   "outputs": [
    {
     "data": {
      "text/plain": [
       "array([[0, 1],\n",
       "       [2, 3],\n",
       "       [4, 5],\n",
       "       [6, 7],\n",
       "       [8, 9]])"
      ]
     },
     "execution_count": 335,
     "metadata": {},
     "output_type": "execute_result"
    }
   ],
   "source": [
    "# When calling reshape as a method of an array it only needs to be given the shape\n",
    "a.reshape((5,2))"
   ]
  },
  {
   "cell_type": "markdown",
   "id": "698be2c1-fe74-48d3-8df0-3e945b02ec81",
   "metadata": {},
   "source": [
    "We can specify one shape dimension with -1. In this case the value will be automatically inferred from the length of the array and remaining dimensions."
   ]
  },
  {
   "cell_type": "code",
   "execution_count": 336,
   "id": "cb568b57-ce7d-43f3-b2b7-58afab405f59",
   "metadata": {},
   "outputs": [
    {
     "data": {
      "text/plain": [
       "array([[0, 1],\n",
       "       [2, 3],\n",
       "       [4, 5],\n",
       "       [6, 7],\n",
       "       [8, 9]])"
      ]
     },
     "execution_count": 336,
     "metadata": {},
     "output_type": "execute_result"
    }
   ],
   "source": [
    "a.reshape((5,-1))"
   ]
  },
  {
   "cell_type": "markdown",
   "id": "ab13144b-9b50-4fd4-9e4f-a87357579fd1",
   "metadata": {},
   "source": [
    "If we try to reshape a into a 3x3 matrix we will get an error because a has 10 entries, while a 3x3 matrix has only 9."
   ]
  },
  {
   "cell_type": "code",
   "execution_count": 337,
   "id": "dc8b2ac2-728b-4364-807b-0896e6f9095e",
   "metadata": {},
   "outputs": [
    {
     "ename": "ValueError",
     "evalue": "cannot reshape array of size 10 into shape (3,3)",
     "output_type": "error",
     "traceback": [
      "\u001b[1;31m---------------------------------------------------------------------------\u001b[0m",
      "\u001b[1;31mValueError\u001b[0m                                Traceback (most recent call last)",
      "Cell \u001b[1;32mIn[337], line 1\u001b[0m\n\u001b[1;32m----> 1\u001b[0m a\u001b[38;5;241m.\u001b[39mreshape((\u001b[38;5;241m3\u001b[39m,\u001b[38;5;241m3\u001b[39m))\n",
      "\u001b[1;31mValueError\u001b[0m: cannot reshape array of size 10 into shape (3,3)"
     ]
    }
   ],
   "source": [
    "a.reshape((3,3))"
   ]
  },
  {
   "cell_type": "markdown",
   "id": "52e08140-8728-40e6-aab6-674bea293809",
   "metadata": {},
   "source": [
    "If we remove the last element from a before the operation by slicing, the reshape will work just fine, creating a 3x3 matrix missing the last element of a."
   ]
  },
  {
   "cell_type": "code",
   "execution_count": 338,
   "id": "dc79acf5-bb3d-45f5-a919-00026a181a1b",
   "metadata": {},
   "outputs": [
    {
     "data": {
      "text/plain": [
       "array([[0, 1, 2],\n",
       "       [3, 4, 5],\n",
       "       [6, 7, 8]])"
      ]
     },
     "execution_count": 338,
     "metadata": {},
     "output_type": "execute_result"
    }
   ],
   "source": [
    "a[:-1].reshape((3,3))"
   ]
  },
  {
   "cell_type": "markdown",
   "id": "e3255ff6-f0f7-48bc-95fc-3f3f7006d36f",
   "metadata": {},
   "source": [
    "<a id='Removing_Dimensions'></a>\n",
    "## Removing Dimensions"
   ]
  },
  {
   "cell_type": "markdown",
   "id": "226e0bd5-2a80-4937-8e89-b75a21463739",
   "metadata": {},
   "source": [
    "<a id='Flattening'></a>\n",
    "### Flattening"
   ]
  },
  {
   "cell_type": "code",
   "execution_count": 339,
   "id": "0d08a921-4716-4f71-9ed2-6d0d9bdce078",
   "metadata": {},
   "outputs": [
    {
     "data": {
      "text/plain": [
       "array([[[1., 1.],\n",
       "        [1., 1.]],\n",
       "\n",
       "       [[1., 1.],\n",
       "        [1., 1.]]])"
      ]
     },
     "execution_count": 339,
     "metadata": {},
     "output_type": "execute_result"
    }
   ],
   "source": [
    "a = np.ones((2,2,2))\n",
    "a"
   ]
  },
  {
   "cell_type": "code",
   "execution_count": 340,
   "id": "bfddf7a8-2438-45eb-9881-486d41ad47ac",
   "metadata": {},
   "outputs": [
    {
     "data": {
      "text/plain": [
       "array([1., 1., 1., 1., 1., 1., 1., 1.])"
      ]
     },
     "execution_count": 340,
     "metadata": {},
     "output_type": "execute_result"
    }
   ],
   "source": [
    "a.flatten()"
   ]
  },
  {
   "cell_type": "markdown",
   "id": "3b0e961b-a6a5-4bef-a6fe-255c620697ac",
   "metadata": {},
   "source": [
    "<a id='Squeezing'></a>\n",
    "### Squeezing\n",
    "Sometimes we have unnecessary dimensions that we want to get rid of. In such cases we can `squeeze` the array.<br>\n",
    "Squeezing the array while remove dimensions that only have one element."
   ]
  },
  {
   "cell_type": "code",
   "execution_count": 341,
   "id": "5c96fcc6-9e37-4bc5-83f3-44865143e73d",
   "metadata": {},
   "outputs": [
    {
     "data": {
      "text/plain": [
       "array([[[[1, 2],\n",
       "         [3, 4],\n",
       "         [5, 6]]]])"
      ]
     },
     "execution_count": 341,
     "metadata": {},
     "output_type": "execute_result"
    }
   ],
   "source": [
    "a = np.array([[[[1, 2], [3, 4], [5, 6]]]])\n",
    "a"
   ]
  },
  {
   "cell_type": "code",
   "execution_count": 342,
   "id": "a6e244c0-84aa-43e2-9369-c8644e365818",
   "metadata": {},
   "outputs": [
    {
     "data": {
      "text/plain": [
       "(1, 1, 3, 2)"
      ]
     },
     "execution_count": 342,
     "metadata": {},
     "output_type": "execute_result"
    }
   ],
   "source": [
    "a.shape"
   ]
  },
  {
   "cell_type": "code",
   "execution_count": 343,
   "id": "d26207c7-f35a-45b6-8a44-18474394c650",
   "metadata": {},
   "outputs": [
    {
     "data": {
      "text/plain": [
       "array([[1, 2],\n",
       "       [3, 4],\n",
       "       [5, 6]])"
      ]
     },
     "execution_count": 343,
     "metadata": {},
     "output_type": "execute_result"
    }
   ],
   "source": [
    "a = a.squeeze()\n",
    "a"
   ]
  },
  {
   "cell_type": "code",
   "execution_count": 344,
   "id": "f66ed12c-01c0-4fce-92bd-94f06c7d3744",
   "metadata": {},
   "outputs": [
    {
     "data": {
      "text/plain": [
       "(3, 2)"
      ]
     },
     "execution_count": 344,
     "metadata": {},
     "output_type": "execute_result"
    }
   ],
   "source": [
    "a.shape"
   ]
  },
  {
   "cell_type": "markdown",
   "id": "457641d1-1806-4b88-9edb-274f3ad80d99",
   "metadata": {
    "tags": []
   },
   "source": [
    "<a id='Adding_Dimensions'></a>\n",
    "## Adding Dimensions"
   ]
  },
  {
   "cell_type": "markdown",
   "id": "0a2328f5-e4de-4fc5-a0bc-bd105eeea04c",
   "metadata": {
    "tags": []
   },
   "source": [
    "<a id='Extending'></a>\n",
    "### Extending\n",
    "\n",
    "We can add new dimensions to an array with `np.newaxis`"
   ]
  },
  {
   "cell_type": "code",
   "execution_count": 345,
   "id": "b5c7fb09-9d32-45a6-bd9d-61e4a958d9e5",
   "metadata": {},
   "outputs": [
    {
     "data": {
      "text/plain": [
       "(array([0, 1, 2, 3, 4]), (5,))"
      ]
     },
     "execution_count": 345,
     "metadata": {},
     "output_type": "execute_result"
    }
   ],
   "source": [
    "one_dim_arr = np.arange(5)\n",
    "one_dim_arr, one_dim_arr.shape"
   ]
  },
  {
   "cell_type": "code",
   "execution_count": 346,
   "id": "187a7124-c932-47ad-be1d-06c315cefb3a",
   "metadata": {},
   "outputs": [
    {
     "data": {
      "text/plain": [
       "(array([[0, 1, 2, 3, 4]]), (1, 5))"
      ]
     },
     "execution_count": 346,
     "metadata": {},
     "output_type": "execute_result"
    }
   ],
   "source": [
    "two_dim_arr = one_dim_arr[np.newaxis, :]\n",
    "two_dim_arr, two_dim_arr.shape"
   ]
  },
  {
   "cell_type": "code",
   "execution_count": 347,
   "id": "c5438725-27c4-4395-b38a-b75a4e88250f",
   "metadata": {},
   "outputs": [
    {
     "data": {
      "text/plain": [
       "(array([[0],\n",
       "        [1],\n",
       "        [2],\n",
       "        [3],\n",
       "        [4]]),\n",
       " (5, 1))"
      ]
     },
     "execution_count": 347,
     "metadata": {},
     "output_type": "execute_result"
    }
   ],
   "source": [
    "two_dim_arr = one_dim_arr[:, np.newaxis]\n",
    "two_dim_arr, two_dim_arr.shape"
   ]
  },
  {
   "cell_type": "markdown",
   "id": "0be5dd63-b3e2-43e8-b0cf-e66d55e923d9",
   "metadata": {},
   "source": [
    "Instead of `np.newaxis`, `None` can be used. Both are exactly equivalent, except that `np.newaxis` is more explicit."
   ]
  },
  {
   "cell_type": "code",
   "execution_count": 348,
   "id": "0b5ed6a6-8a0d-400c-a62c-3e4382a2f8d0",
   "metadata": {},
   "outputs": [
    {
     "name": "stdout",
     "output_type": "stream",
     "text": [
      "True\n"
     ]
    },
    {
     "data": {
      "text/plain": [
       "(array([[0],\n",
       "        [1],\n",
       "        [2],\n",
       "        [3],\n",
       "        [4]]),\n",
       " (5, 1))"
      ]
     },
     "execution_count": 348,
     "metadata": {},
     "output_type": "execute_result"
    }
   ],
   "source": [
    "print(np.newaxis is None)\n",
    "two_dim_arr = one_dim_arr[:, None]\n",
    "two_dim_arr, two_dim_arr.shape"
   ]
  },
  {
   "cell_type": "markdown",
   "id": "45c22edd-46a4-4623-b90b-469044de372a",
   "metadata": {},
   "source": [
    "Adding new dimensions can be useful for example when Tensorflow is used to batch-inputs, but you want to provide a single datapoint for prediction:"
   ]
  },
  {
   "cell_type": "code",
   "execution_count": 349,
   "id": "2af64a79-39be-415e-8b86-7dd5a7c7ba0d",
   "metadata": {},
   "outputs": [
    {
     "name": "stdout",
     "output_type": "stream",
     "text": [
      "tensorflow_model.fit(datum)\n"
     ]
    }
   ],
   "source": [
    "minibatch = one_dim_arr[None, :]\n",
    "\n",
    "# Tensorflow will internally iterate over all data of the batch, without the new axis there would be an error\n",
    "for datum in minibatch:\n",
    "    print(\"tensorflow_model.fit(datum)\")"
   ]
  },
  {
   "cell_type": "markdown",
   "id": "5ab1ae39-9854-40df-8788-b616c49e6a99",
   "metadata": {},
   "source": [
    "<a id='Combining_Arrays'></a>\n",
    "### Combining Arrays\n",
    "\n",
    "There are many ways to combine existing arrays, like `np.append`, `np.concatenate` and `np.stack`. However, these operations always require the whole array to be copied. Therefore, it often makes more sense to allocate an array of the size you need later upfront and then just fill the respective parts."
   ]
  },
  {
   "cell_type": "markdown",
   "id": "f6c780f1-801e-41ae-b20e-a5091da1f917",
   "metadata": {},
   "source": [
    "`np.concatenate` joins a sequence of arrays along an **existing** axis."
   ]
  },
  {
   "cell_type": "code",
   "execution_count": 350,
   "id": "2e6a3615-2cca-47fc-8541-7c7e09196fee",
   "metadata": {},
   "outputs": [
    {
     "data": {
      "text/plain": [
       "array([ 0,  1,  2,  3,  4,  5,  6,  7,  8,  9, 10,  9,  8,  7,  6,  5,  4,\n",
       "        3,  2,  1,  0])"
      ]
     },
     "execution_count": 350,
     "metadata": {},
     "output_type": "execute_result"
    }
   ],
   "source": [
    "a = np.arange(10)\n",
    "b = np.arange(10)[::-1]\n",
    "c = np.array([10])\n",
    "# Needs a sequence (in this case a tuple) of array-likes\n",
    "np.concatenate((a,c,b))"
   ]
  },
  {
   "cell_type": "markdown",
   "id": "03ec1590-2677-498d-97be-ff874ca472f7",
   "metadata": {},
   "source": [
    "`np.append` uses concatenation internally and is used to append one array to another:"
   ]
  },
  {
   "cell_type": "code",
   "execution_count": 351,
   "id": "3330c1ba-3338-4162-94b5-3507ebc23f02",
   "metadata": {},
   "outputs": [
    {
     "data": {
      "text/plain": [
       "array([ 0,  1,  2,  3,  4,  5,  6,  7,  8,  9, 10,  9,  8,  7,  6,  5,  4,\n",
       "        3,  2,  1,  0])"
      ]
     },
     "execution_count": 351,
     "metadata": {},
     "output_type": "execute_result"
    }
   ],
   "source": [
    "# Needs exactly two array-likes\n",
    "np.append(a, np.append(c, b))"
   ]
  },
  {
   "cell_type": "markdown",
   "id": "eb0c4dda-df2c-46cc-80f9-dc760494e7cb",
   "metadata": {},
   "source": [
    "`np.insert` can be used to insert values along a given axis before the given indices."
   ]
  },
  {
   "cell_type": "code",
   "execution_count": 352,
   "id": "530ee288-16be-453b-a3e5-34a335bd9eee",
   "metadata": {},
   "outputs": [
    {
     "name": "stdout",
     "output_type": "stream",
     "text": [
      "[0 1 2 3 4 5 6 7 8 9 9 8 7 6 5 4 3 2 1 0]\n",
      "[ 0  1  2  3  4  5  6  7  8  9 10  9  8  7  6  5  4  3  2  1  0]\n"
     ]
    }
   ],
   "source": [
    "array = np.concatenate((a,b))\n",
    "print(array)\n",
    "array = np.insert(array,10, c)\n",
    "print(array)"
   ]
  },
  {
   "cell_type": "markdown",
   "id": "5877f64d-5fe5-463e-a3ba-2fb386c0247a",
   "metadata": {},
   "source": [
    "For higher-dimensional arrays, other functions are useful.\n",
    "\n",
    "`np.stack` for example joins a sequence of arrays along a **new** axis."
   ]
  },
  {
   "cell_type": "code",
   "execution_count": 353,
   "id": "2a3e76ab-93b8-455e-99bb-71fb4705a825",
   "metadata": {},
   "outputs": [
    {
     "data": {
      "text/plain": [
       "array([[0, 1, 2, 3, 4, 5, 6, 7, 8, 9],\n",
       "       [9, 8, 7, 6, 5, 4, 3, 2, 1, 0]])"
      ]
     },
     "execution_count": 353,
     "metadata": {},
     "output_type": "execute_result"
    }
   ],
   "source": [
    "np.stack((a, b))"
   ]
  },
  {
   "cell_type": "code",
   "execution_count": 354,
   "id": "5460f88e-4b3b-4f81-8e6b-545ae5cb3bd6",
   "metadata": {},
   "outputs": [
    {
     "data": {
      "text/plain": [
       "array([[0, 9],\n",
       "       [1, 8],\n",
       "       [2, 7],\n",
       "       [3, 6],\n",
       "       [4, 5],\n",
       "       [5, 4],\n",
       "       [6, 3],\n",
       "       [7, 2],\n",
       "       [8, 1],\n",
       "       [9, 0]])"
      ]
     },
     "execution_count": 354,
     "metadata": {},
     "output_type": "execute_result"
    }
   ],
   "source": [
    "np.stack((a, b), axis=1)"
   ]
  },
  {
   "cell_type": "markdown",
   "id": "0d8dcdcf-a7f0-4ba4-9441-af27914729ac",
   "metadata": {},
   "source": [
    "There are also the functions `np.vstack` (vertical/row-wise-stacking) and `np.hstack` (horizontal/column-wise-stacking):\n",
    "\n",
    "- hstack is equivalent to concatenation along the second axis, except for 1-D arrays where it concatenates along the first axis\n",
    "- vstack is equivalent to concatenation along the first axis after 1-D arrays of shape (N,) have been reshaped to (1,N)."
   ]
  },
  {
   "cell_type": "code",
   "execution_count": 355,
   "id": "7bec77ed-b032-498c-b62a-3ae1911c49b9",
   "metadata": {},
   "outputs": [
    {
     "data": {
      "text/plain": [
       "(array([[ 0,  1,  2,  3],\n",
       "        [ 4,  5,  6,  7],\n",
       "        [ 8,  9, 10, 11],\n",
       "        [12, 13, 14, 15]]),\n",
       " array([[16, 17, 18, 19],\n",
       "        [20, 21, 22, 23],\n",
       "        [24, 25, 26, 27],\n",
       "        [28, 29, 30, 31]]))"
      ]
     },
     "execution_count": 355,
     "metadata": {},
     "output_type": "execute_result"
    }
   ],
   "source": [
    "two_dim_arr = np.arange(16).reshape(4, -1)\n",
    "two_dim_arr_2 = np.arange(16).reshape(4, -1) + 16\n",
    "two_dim_arr, two_dim_arr_2"
   ]
  },
  {
   "cell_type": "code",
   "execution_count": 356,
   "id": "c5884a16-aff3-431e-8cdb-d445a6fec44c",
   "metadata": {},
   "outputs": [
    {
     "data": {
      "text/plain": [
       "array([[[ 0,  1,  2,  3],\n",
       "        [16, 17, 18, 19]],\n",
       "\n",
       "       [[ 4,  5,  6,  7],\n",
       "        [20, 21, 22, 23]],\n",
       "\n",
       "       [[ 8,  9, 10, 11],\n",
       "        [24, 25, 26, 27]],\n",
       "\n",
       "       [[12, 13, 14, 15],\n",
       "        [28, 29, 30, 31]]])"
      ]
     },
     "execution_count": 356,
     "metadata": {},
     "output_type": "execute_result"
    }
   ],
   "source": [
    "np.stack((two_dim_arr, two_dim_arr_2), axis=1)"
   ]
  },
  {
   "cell_type": "code",
   "execution_count": 357,
   "id": "3a21d9de-a241-4fbf-b5bb-d381718f2e6b",
   "metadata": {},
   "outputs": [
    {
     "data": {
      "text/plain": [
       "array([[ 0,  1,  2,  3, 16, 17, 18, 19],\n",
       "       [ 4,  5,  6,  7, 20, 21, 22, 23],\n",
       "       [ 8,  9, 10, 11, 24, 25, 26, 27],\n",
       "       [12, 13, 14, 15, 28, 29, 30, 31]])"
      ]
     },
     "execution_count": 357,
     "metadata": {},
     "output_type": "execute_result"
    }
   ],
   "source": [
    "np.hstack((two_dim_arr, two_dim_arr_2))"
   ]
  },
  {
   "cell_type": "code",
   "execution_count": 358,
   "id": "e4aed33c-6a30-4487-9483-dc841ea69960",
   "metadata": {},
   "outputs": [
    {
     "data": {
      "text/plain": [
       "array([[ 0,  1,  2,  3, 16, 17, 18, 19],\n",
       "       [ 4,  5,  6,  7, 20, 21, 22, 23],\n",
       "       [ 8,  9, 10, 11, 24, 25, 26, 27],\n",
       "       [12, 13, 14, 15, 28, 29, 30, 31]])"
      ]
     },
     "execution_count": 358,
     "metadata": {},
     "output_type": "execute_result"
    }
   ],
   "source": [
    "np.concatenate((two_dim_arr, two_dim_arr_2), axis=1)"
   ]
  },
  {
   "cell_type": "code",
   "execution_count": 359,
   "id": "62c51bcf-114b-4786-ac5e-6fe3e214d169",
   "metadata": {},
   "outputs": [
    {
     "data": {
      "text/plain": [
       "array([[ 0,  1,  2,  3],\n",
       "       [ 4,  5,  6,  7],\n",
       "       [ 8,  9, 10, 11],\n",
       "       [12, 13, 14, 15],\n",
       "       [16, 17, 18, 19],\n",
       "       [20, 21, 22, 23],\n",
       "       [24, 25, 26, 27],\n",
       "       [28, 29, 30, 31]])"
      ]
     },
     "execution_count": 359,
     "metadata": {},
     "output_type": "execute_result"
    }
   ],
   "source": [
    "np.vstack((two_dim_arr, two_dim_arr_2))"
   ]
  },
  {
   "cell_type": "code",
   "execution_count": 360,
   "id": "1a765367-2099-4314-99e4-5bc266e787b4",
   "metadata": {},
   "outputs": [
    {
     "data": {
      "text/plain": [
       "array([[ 0,  1,  2,  3],\n",
       "       [ 4,  5,  6,  7],\n",
       "       [ 8,  9, 10, 11],\n",
       "       [12, 13, 14, 15],\n",
       "       [16, 17, 18, 19],\n",
       "       [20, 21, 22, 23],\n",
       "       [24, 25, 26, 27],\n",
       "       [28, 29, 30, 31]])"
      ]
     },
     "execution_count": 360,
     "metadata": {},
     "output_type": "execute_result"
    }
   ],
   "source": [
    "np.concatenate((two_dim_arr, two_dim_arr_2), axis=0)"
   ]
  },
  {
   "cell_type": "markdown",
   "id": "cc8cfb7d-05e0-45cf-a1b5-0f40c4882d35",
   "metadata": {},
   "source": [
    "A quick and easy way to combine scalars and arrays is using `np.r_`, with the desired arrays, lists, or numbers in square brackets:"
   ]
  },
  {
   "cell_type": "code",
   "execution_count": 361,
   "id": "ef636b24-92e2-4fed-bc5d-85cc2d3f00b2",
   "metadata": {},
   "outputs": [
    {
     "data": {
      "text/plain": [
       "array([ 2,  2,  2,  0,  1,  2,  3,  4,  5,  6,  7,  8,  9, 10,  9,  8,  7,\n",
       "        6,  5,  4,  3,  2,  1,  0,  0,  1,  2])"
      ]
     },
     "execution_count": 361,
     "metadata": {},
     "output_type": "execute_result"
    }
   ],
   "source": [
    "np.r_[2, 2, 2, np.arange(10), c, np.arange(10)[::-1], [0, 1, 2]]"
   ]
  },
  {
   "cell_type": "markdown",
   "id": "80f36a32-e3c5-4a3e-aadf-00d1c57c2670",
   "metadata": {},
   "source": [
    "<a id='Repeating_Arrays'></a>\n",
    "### Repeating Arrays"
   ]
  },
  {
   "cell_type": "markdown",
   "id": "3032888b-e580-49cc-aa23-a83614a89125",
   "metadata": {},
   "source": [
    "`np.repeat` repeats elements of an array:"
   ]
  },
  {
   "cell_type": "code",
   "execution_count": 362,
   "id": "cea93a87-9cc7-48c4-9956-ebb22af7b853",
   "metadata": {},
   "outputs": [
    {
     "data": {
      "text/plain": [
       "array([3, 3, 3, 3, 3])"
      ]
     },
     "execution_count": 362,
     "metadata": {},
     "output_type": "execute_result"
    }
   ],
   "source": [
    "np.repeat(3, 5)"
   ]
  },
  {
   "cell_type": "code",
   "execution_count": 363,
   "id": "3c1ca290-ba10-4cb2-afdb-d7e1feb57c1c",
   "metadata": {},
   "outputs": [
    {
     "name": "stdout",
     "output_type": "stream",
     "text": [
      "24.8 µs ± 87.4 ns per loop (mean ± std. dev. of 7 runs, 100,000 loops each)\n"
     ]
    }
   ],
   "source": [
    "%%timeit -n100000\n",
    "np.array([3]*500)"
   ]
  },
  {
   "cell_type": "code",
   "execution_count": 364,
   "id": "2b279fca-40ef-421e-b8e1-76384f84b6f4",
   "metadata": {},
   "outputs": [
    {
     "name": "stdout",
     "output_type": "stream",
     "text": [
      "5 µs ± 28.7 ns per loop (mean ± std. dev. of 7 runs, 100,000 loops each)\n"
     ]
    }
   ],
   "source": [
    "%%timeit\n",
    "np.repeat(3, 500)"
   ]
  },
  {
   "cell_type": "code",
   "execution_count": 365,
   "id": "92f6056b-42b7-48b0-9877-6ee57a26a6f8",
   "metadata": {},
   "outputs": [
    {
     "data": {
      "text/plain": [
       "array([1, 1, 2, 2, 3, 3, 4, 4])"
      ]
     },
     "execution_count": 365,
     "metadata": {},
     "output_type": "execute_result"
    }
   ],
   "source": [
    "np.repeat([[1,2],[3,4]], 2)"
   ]
  },
  {
   "cell_type": "markdown",
   "id": "09f0d4e8-2a06-4b5d-a3d2-b533d182a5c6",
   "metadata": {},
   "source": [
    "`np.tile` is another way of repeating values using NumPy.<br>\n",
    "Instead of repeating each element seperately, the whole array is repeated."
   ]
  },
  {
   "cell_type": "code",
   "execution_count": 366,
   "id": "09c40d7d-d474-482f-8d9b-2741c4cb8a29",
   "metadata": {},
   "outputs": [
    {
     "name": "stdout",
     "output_type": "stream",
     "text": [
      "Repeat: [1 1 1 2 2 2 3 3 3]\n",
      "Tile: [1 2 3 1 2 3 1 2 3]\n"
     ]
    }
   ],
   "source": [
    "print('Repeat:', np.repeat([1, 2, 3], 3))\n",
    "print('Tile:', np.tile([1, 2, 3], 3))"
   ]
  },
  {
   "cell_type": "markdown",
   "id": "78efed3e-8c1b-473d-9f2c-59c404d60bf5",
   "metadata": {},
   "source": [
    "<a id='Aggregation'></a>\n",
    "## Aggregation"
   ]
  },
  {
   "cell_type": "markdown",
   "id": "89f8478d-98ba-466d-85b3-de159d5d6e76",
   "metadata": {},
   "source": [
    "Aggregation functions are functions that reduce the dimensionality of an array. They provide an `axis` argument, to specify which dimension to reduce."
   ]
  },
  {
   "cell_type": "code",
   "execution_count": 367,
   "id": "2d74793d-3473-4cfb-b106-c7f4e1f12c3e",
   "metadata": {},
   "outputs": [
    {
     "data": {
      "text/plain": [
       "array([[ 5, 11, 12,  8],\n",
       "       [ 9, 11,  5, 15],\n",
       "       [ 0, 16,  1, 12]])"
      ]
     },
     "execution_count": 367,
     "metadata": {},
     "output_type": "execute_result"
    }
   ],
   "source": [
    "# np.random will be explained in another section\n",
    "np.random.seed(1)\n",
    "two_dim_arr = np.random.randint(0, high=20, size=(3, 4))\n",
    "two_dim_arr"
   ]
  },
  {
   "cell_type": "markdown",
   "id": "6536bae3-0f84-4be1-b9de-53516f02192e",
   "metadata": {},
   "source": [
    "`np.min` returns the minimum of an array. If just the array is passed, the aggregation operation is performed over the whole array."
   ]
  },
  {
   "cell_type": "code",
   "execution_count": 368,
   "id": "7efadcb7-b76f-4a4f-9562-62a6443c6002",
   "metadata": {},
   "outputs": [
    {
     "data": {
      "text/plain": [
       "0"
      ]
     },
     "execution_count": 368,
     "metadata": {},
     "output_type": "execute_result"
    }
   ],
   "source": [
    "np.min(two_dim_arr)"
   ]
  },
  {
   "cell_type": "markdown",
   "id": "f72f5e56-b9fe-471b-8761-49195f61d4b2",
   "metadata": {},
   "source": [
    "The optional `axis` argument allows us to specify, which dimension should be aggregated. You can think of it as the operation being applied to all entries that are obtained by keeping the indices in all dimensions fixed except for the `axis` dimension. Let's look at the result of the minimum operation with `axis=0`:"
   ]
  },
  {
   "cell_type": "code",
   "execution_count": 369,
   "id": "b5b4f908-7644-459d-86e3-e7c390c2755c",
   "metadata": {},
   "outputs": [
    {
     "data": {
      "text/plain": [
       "array([5, 5, 0])"
      ]
     },
     "execution_count": 369,
     "metadata": {},
     "output_type": "execute_result"
    }
   ],
   "source": [
    "np.min(two_dim_arr, axis=1)"
   ]
  },
  {
   "cell_type": "markdown",
   "id": "057e6439-9b8d-407e-a6cc-65e1549f17b7",
   "metadata": {},
   "source": [
    "The axis concept extends to more than one dimension."
   ]
  },
  {
   "cell_type": "code",
   "execution_count": 370,
   "id": "48772fb1-84f3-4dd0-a8fa-eaa48aecd8b0",
   "metadata": {},
   "outputs": [
    {
     "data": {
      "text/plain": [
       "array([[[ 5, 11, 12,  8],\n",
       "        [ 9, 11,  5, 15],\n",
       "        [ 0, 16,  1, 12]],\n",
       "\n",
       "       [[ 7, 13,  6, 18],\n",
       "        [ 5, 18, 11, 10],\n",
       "        [14, 18,  4,  9]]])"
      ]
     },
     "execution_count": 370,
     "metadata": {},
     "output_type": "execute_result"
    }
   ],
   "source": [
    "np.random.seed(1)\n",
    "three_dim_arr = np.random.randint(0, high=20, size=(2, 3, 4))\n",
    "three_dim_arr"
   ]
  },
  {
   "cell_type": "code",
   "execution_count": 371,
   "id": "d7242caa-6c31-45f8-8693-6f680faafeff",
   "metadata": {},
   "outputs": [
    {
     "data": {
      "text/plain": [
       "array([[ 0, 11,  1,  8],\n",
       "       [ 5, 13,  4,  9]])"
      ]
     },
     "execution_count": 371,
     "metadata": {},
     "output_type": "execute_result"
    }
   ],
   "source": [
    "np.min(three_dim_arr, axis=1)"
   ]
  },
  {
   "cell_type": "markdown",
   "id": "3d67a54c-4de5-4f28-967c-b028dcdfdcb7",
   "metadata": {},
   "source": [
    "In the array found in the cell output above, the entry at index `[0, 0]`, is the minimum of the following values."
   ]
  },
  {
   "cell_type": "code",
   "execution_count": 372,
   "id": "59ade9e5-0e40-4788-843b-bbb57ef57913",
   "metadata": {},
   "outputs": [
    {
     "name": "stdout",
     "output_type": "stream",
     "text": [
      "5\n",
      "9\n",
      "0\n"
     ]
    }
   ],
   "source": [
    "for i in range(3):\n",
    "    print(three_dim_arr[0, i, 0])"
   ]
  },
  {
   "cell_type": "markdown",
   "id": "2b241edc-ee1d-4188-bf35-f69ce2527af3",
   "metadata": {},
   "source": [
    "Let's demonstrate all axes again with another three-dimensional array:"
   ]
  },
  {
   "cell_type": "code",
   "execution_count": 373,
   "id": "89e99950-5617-4d6e-8635-5dc3652b6722",
   "metadata": {},
   "outputs": [
    {
     "data": {
      "text/plain": [
       "(array([[[2, 4],\n",
       "         [6, 9]],\n",
       " \n",
       "        [[3, 1],\n",
       "         [7, 8]],\n",
       " \n",
       "        [[4, 5],\n",
       "         [9, 0]]]),\n",
       " (3, 2, 2))"
      ]
     },
     "execution_count": 373,
     "metadata": {},
     "output_type": "execute_result"
    }
   ],
   "source": [
    "a = np.array([[[2,4],[6,9]],[[3,1],[7,8]],[[4,5],[9, 0]]])\n",
    "a, a.shape"
   ]
  },
  {
   "cell_type": "code",
   "execution_count": 374,
   "id": "77056ae9-8095-4734-b9e8-ec0c80f89e3a",
   "metadata": {},
   "outputs": [
    {
     "data": {
      "text/plain": [
       "0"
      ]
     },
     "execution_count": 374,
     "metadata": {},
     "output_type": "execute_result"
    }
   ],
   "source": [
    "np.min(a)"
   ]
  },
  {
   "cell_type": "code",
   "execution_count": 375,
   "id": "a0b1a7f5-28b1-4d77-a709-0f120ba39bed",
   "metadata": {},
   "outputs": [
    {
     "data": {
      "text/plain": [
       "array([[2, 1],\n",
       "       [6, 0]])"
      ]
     },
     "execution_count": 375,
     "metadata": {},
     "output_type": "execute_result"
    }
   ],
   "source": [
    "np.min(a, axis=0)"
   ]
  },
  {
   "cell_type": "markdown",
   "id": "1cd57b1f-b75b-44a1-a836-b202074bc4ef",
   "metadata": {},
   "source": [
    "Setting the axis-argument is the same as going through all other axes of the respective array in turn, returning the respective aggregate for every combination of these."
   ]
  },
  {
   "cell_type": "code",
   "execution_count": 376,
   "id": "63091aac-8b26-4ba5-b5e6-e77a5cbe0d74",
   "metadata": {},
   "outputs": [
    {
     "name": "stdout",
     "output_type": "stream",
     "text": [
      "[2 3 4]\n",
      "[4 1 5]\n",
      "[6 7 9]\n",
      "[9 8 0]\n"
     ]
    }
   ],
   "source": [
    "for i in range(a.shape[1]):\n",
    "    for j in range(a.shape[2]):\n",
    "        print(a[:, i, j])"
   ]
  },
  {
   "cell_type": "markdown",
   "id": "8a3d513d-a822-472c-963b-86377117be24",
   "metadata": {},
   "source": [
    "For axis=1, we loop through axis 0 and axis 2:"
   ]
  },
  {
   "cell_type": "code",
   "execution_count": 377,
   "id": "8cc25b79-d59e-443b-8956-2354e6e9f085",
   "metadata": {},
   "outputs": [
    {
     "data": {
      "text/plain": [
       "array([[[2, 4],\n",
       "        [6, 9]],\n",
       "\n",
       "       [[3, 1],\n",
       "        [7, 8]],\n",
       "\n",
       "       [[4, 5],\n",
       "        [9, 0]]])"
      ]
     },
     "execution_count": 377,
     "metadata": {},
     "output_type": "execute_result"
    }
   ],
   "source": [
    "a"
   ]
  },
  {
   "cell_type": "code",
   "execution_count": 378,
   "id": "cfa6458f-eeaf-49c8-ba67-33d476e2285e",
   "metadata": {},
   "outputs": [
    {
     "data": {
      "text/plain": [
       "array([[2, 4],\n",
       "       [3, 1],\n",
       "       [4, 0]])"
      ]
     },
     "execution_count": 378,
     "metadata": {},
     "output_type": "execute_result"
    }
   ],
   "source": [
    "np.min(a, axis=1)"
   ]
  },
  {
   "cell_type": "code",
   "execution_count": 379,
   "id": "6f9b2a13-11b7-4157-a789-541dc802d875",
   "metadata": {},
   "outputs": [
    {
     "name": "stdout",
     "output_type": "stream",
     "text": [
      "[2 6]\n",
      "[4 9]\n",
      "[3 7]\n",
      "[1 8]\n",
      "[4 9]\n",
      "[5 0]\n"
     ]
    }
   ],
   "source": [
    "for i in range(a.shape[0]):\n",
    "    for j in range(a.shape[2]):\n",
    "        print(a[i, :, j])"
   ]
  },
  {
   "cell_type": "markdown",
   "id": "00f87068-cf2f-48b9-872c-4c231e981dfe",
   "metadata": {},
   "source": [
    "...and finally, for axis 2 we loop through axis 0 and 1"
   ]
  },
  {
   "cell_type": "code",
   "execution_count": 380,
   "id": "16b2d660-ed01-415c-8f53-bfb871c3617c",
   "metadata": {},
   "outputs": [
    {
     "data": {
      "text/plain": [
       "array([[[2, 4],\n",
       "        [6, 9]],\n",
       "\n",
       "       [[3, 1],\n",
       "        [7, 8]],\n",
       "\n",
       "       [[4, 5],\n",
       "        [9, 0]]])"
      ]
     },
     "execution_count": 380,
     "metadata": {},
     "output_type": "execute_result"
    }
   ],
   "source": [
    "a"
   ]
  },
  {
   "cell_type": "code",
   "execution_count": 381,
   "id": "58970093-c7ab-4660-80ee-7c79966b06d6",
   "metadata": {},
   "outputs": [
    {
     "data": {
      "text/plain": [
       "array([[2, 6],\n",
       "       [1, 7],\n",
       "       [4, 0]])"
      ]
     },
     "execution_count": 381,
     "metadata": {},
     "output_type": "execute_result"
    }
   ],
   "source": [
    "np.min(a, axis=2)"
   ]
  },
  {
   "cell_type": "code",
   "execution_count": 382,
   "id": "26bfc309-8aa4-4bc6-8116-18561cd5fe81",
   "metadata": {},
   "outputs": [
    {
     "name": "stdout",
     "output_type": "stream",
     "text": [
      "[2 4]\n",
      "[6 9]\n",
      "[3 1]\n",
      "[7 8]\n",
      "[4 5]\n",
      "[9 0]\n"
     ]
    }
   ],
   "source": [
    "for i in range(a.shape[0]):\n",
    "    for j in range(a.shape[1]):\n",
    "        print(a[i, j, :])"
   ]
  },
  {
   "cell_type": "markdown",
   "id": "21a6e9f7-3df3-4086-ae19-7124252a7cd9",
   "metadata": {},
   "source": [
    "The shape of the resulting array is simply the shape of the original array, leaving the specified axis out:"
   ]
  },
  {
   "cell_type": "code",
   "execution_count": 383,
   "id": "03601b35-c97f-4ac5-9c70-95797dc6e9d8",
   "metadata": {},
   "outputs": [
    {
     "data": {
      "text/plain": [
       "array([[2, 6],\n",
       "       [1, 7],\n",
       "       [4, 0]])"
      ]
     },
     "execution_count": 383,
     "metadata": {},
     "output_type": "execute_result"
    }
   ],
   "source": [
    "mins = []\n",
    "for i in range(a.shape[0]):\n",
    "    for j in range(a.shape[1]):\n",
    "        mins.append(min(a[i,j,:]))\n",
    "np.array(mins).reshape([a.shape[0], a.shape[1]])"
   ]
  },
  {
   "cell_type": "markdown",
   "id": "38dff00a-4392-4f8c-8d64-94b884ff4c27",
   "metadata": {},
   "source": [
    "...however, of course, using numpy is much faster than looping over the array:"
   ]
  },
  {
   "cell_type": "code",
   "execution_count": 384,
   "id": "7d444ce2-0023-46e5-8ef7-c256df14e475",
   "metadata": {},
   "outputs": [
    {
     "name": "stdout",
     "output_type": "stream",
     "text": [
      "11.1 µs ± 46.9 ns per loop (mean ± std. dev. of 7 runs, 100,000 loops each)\n",
      "5.76 µs ± 7.81 ns per loop (mean ± std. dev. of 7 runs, 100,000 loops each)\n"
     ]
    }
   ],
   "source": [
    "def find_min_manual(arr):\n",
    "    mins = []\n",
    "    for i in range(arr.shape[0]):\n",
    "        for j in range(arr.shape[1]):\n",
    "            mins.append(min(arr[i,j,:]))\n",
    "    np.array(mins).reshape([arr.shape[0], arr.shape[1]])\n",
    "\n",
    "%timeit find_min_manual(a)\n",
    "%timeit np.min(a, axis=2)"
   ]
  },
  {
   "cell_type": "markdown",
   "id": "763381a0-a1d3-4b59-911c-285d431db761",
   "metadata": {},
   "source": [
    "Other useful aggregation functions include:\n",
    "\n",
    "- `np.sum`: Compute sum of elements\n",
    "- `np.prod`: Compute product of elements\n",
    "- `np.mean`: Compute mean of elements\n",
    "- `np.std`: Compute standard deviation\n",
    "- `np.var`: Compute variance\n",
    "- `np.min`: Find minimum value\n",
    "- `np.max`: Find maximum value\n",
    "- `np.argmin`: Find index of minimum value\n",
    "- `np.argmax`: Find index of maximum value\n",
    "- `np.median`: Compute median of elements\n",
    "- `np.percentile`: Compute rank-based statistics of elements\n",
    "- `np.any`: Evaluate whether any elements are true\n",
    "- `np.all`: Evaluate whether all elements are true"
   ]
  },
  {
   "cell_type": "markdown",
   "id": "f9b0ae3f-e5e0-4114-b8dc-cde895a256b8",
   "metadata": {},
   "source": [
    "<a id='Broadcasting'></a>\n",
    "## Broadcasting"
   ]
  },
  {
   "cell_type": "markdown",
   "id": "113e02ae-9942-4104-b5c8-518c81cdd0ab",
   "metadata": {},
   "source": [
    "What happens if you try to add arrays of different shapes? Numpy will try to expand the arrays according to three rules and try to make their shapes match, so the operation can be applied elementwise.\n",
    "\n",
    "1. Rule: If the arrays have different numbers of dimensions, the smaller shape is padded with ones on its left side.<br>\n",
    "Example: (5 x 3) + (3) → (5 x 3) + (**1** x 3)\n",
    "2. Rule: If the number of the dimensions matches, but the size of a dimension does not, dimensions with the size of 1 are expanded.<br>\n",
    "Example: (5 x 3) + (1 x 3) → (5 x 3) + (**5** x 3)\n",
    "3. Rule: If the shapes of the arrays still defer after applying the Rule 1 and 2, a broadcasting error is raised.<br>\n",
    "\n",
    "The figure below gives an illustration (source https://jakevdp.github.io/PythonDataScienceHandbook/02.05-computation-on-arrays-broadcasting.html)\n",
    "\n",
    "<img src=\"images/broadcasting.png\" width=\"500\"/>"
   ]
  },
  {
   "cell_type": "markdown",
   "id": "84b5f773-1bdc-419c-9c46-d1c76c066f9f",
   "metadata": {},
   "source": [
    "The Numpy documentation gives further insights https://numpy.org/doc/stable/user/basics.broadcasting.html"
   ]
  },
  {
   "cell_type": "markdown",
   "id": "1d162483-b4e6-4390-9f04-b199b1a733ea",
   "metadata": {},
   "source": [
    "Here you can see a demonstration similar to the 2nd case in the above image:"
   ]
  },
  {
   "cell_type": "code",
   "execution_count": 385,
   "id": "695a0c61-7f25-4390-86e2-402fd46d675e",
   "metadata": {},
   "outputs": [
    {
     "data": {
      "text/plain": [
       "array([[ 0,  1,  2],\n",
       "       [ 3,  4,  5],\n",
       "       [ 6,  7,  8],\n",
       "       [ 9, 10, 11],\n",
       "       [12, 13, 14]])"
      ]
     },
     "execution_count": 385,
     "metadata": {},
     "output_type": "execute_result"
    }
   ],
   "source": [
    "a = np.arange(15).reshape(5, 3)\n",
    "a"
   ]
  },
  {
   "cell_type": "code",
   "execution_count": 386,
   "id": "5a0a23a5-1ce2-4297-be3c-99f95b49e7b6",
   "metadata": {},
   "outputs": [
    {
     "data": {
      "text/plain": [
       "array([0, 1, 2])"
      ]
     },
     "execution_count": 386,
     "metadata": {},
     "output_type": "execute_result"
    }
   ],
   "source": [
    "b = np.arange(3)\n",
    "b"
   ]
  },
  {
   "cell_type": "code",
   "execution_count": 387,
   "id": "d0e36b5f-76fb-42a6-8779-589e16bcccf9",
   "metadata": {},
   "outputs": [
    {
     "name": "stdout",
     "output_type": "stream",
     "text": [
      "(5, 3)\n",
      "(3,)\n"
     ]
    },
    {
     "data": {
      "text/plain": [
       "array([[ 0,  2,  4],\n",
       "       [ 3,  5,  7],\n",
       "       [ 6,  8, 10],\n",
       "       [ 9, 11, 13],\n",
       "       [12, 14, 16]])"
      ]
     },
     "execution_count": 387,
     "metadata": {},
     "output_type": "execute_result"
    }
   ],
   "source": [
    "print(a.shape)\n",
    "print(b.shape)\n",
    "\n",
    "a + b"
   ]
  },
  {
   "cell_type": "markdown",
   "id": "e6520e79-939c-4f14-a458-5c06e272650d",
   "metadata": {},
   "source": [
    "And that is what numpy does with the shapes:"
   ]
  },
  {
   "cell_type": "code",
   "execution_count": 388,
   "id": "269e7a9e-bf1a-49c1-a53d-27e79ed1ab04",
   "metadata": {},
   "outputs": [
    {
     "name": "stdout",
     "output_type": "stream",
     "text": [
      "(3,)\n",
      "(1, 3)\n",
      "(5, 3)\n"
     ]
    },
    {
     "data": {
      "text/plain": [
       "array([[ 0,  2,  4],\n",
       "       [ 3,  5,  7],\n",
       "       [ 6,  8, 10],\n",
       "       [ 9, 11, 13],\n",
       "       [12, 14, 16]])"
      ]
     },
     "execution_count": 388,
     "metadata": {},
     "output_type": "execute_result"
    }
   ],
   "source": [
    "b = np.arange(3)\n",
    "print(b.shape)\n",
    "b = b[np.newaxis,:] #Rule1\n",
    "print(b.shape)\n",
    "b = np.repeat(b,5,axis=0) #ERule2\n",
    "print(b.shape)\n",
    "a + b"
   ]
  },
  {
   "cell_type": "markdown",
   "id": "5eb3649e-6524-466d-9c62-0c8a35e847c9",
   "metadata": {},
   "source": [
    "Here is a case in which broadcasting fails because the arrays differ in both number of dimensions **and** size (Rule 3):"
   ]
  },
  {
   "cell_type": "code",
   "execution_count": 389,
   "id": "68b34bb8-5748-45f9-ade0-e42be71da4c4",
   "metadata": {},
   "outputs": [
    {
     "name": "stdout",
     "output_type": "stream",
     "text": [
      "[[ 0  1  2]\n",
      " [ 3  4  5]\n",
      " [ 6  7  8]\n",
      " [ 9 10 11]\n",
      " [12 13 14]]\n",
      "[0 1 2 3]\n"
     ]
    },
    {
     "ename": "ValueError",
     "evalue": "operands could not be broadcast together with shapes (5,3) (4,) ",
     "output_type": "error",
     "traceback": [
      "\u001b[1;31m---------------------------------------------------------------------------\u001b[0m",
      "\u001b[1;31mValueError\u001b[0m                                Traceback (most recent call last)",
      "Cell \u001b[1;32mIn[389], line 4\u001b[0m\n\u001b[0;32m      2\u001b[0m \u001b[38;5;28mprint\u001b[39m(a)\n\u001b[0;32m      3\u001b[0m \u001b[38;5;28mprint\u001b[39m(c)\n\u001b[1;32m----> 4\u001b[0m a \u001b[38;5;241m+\u001b[39m c\n",
      "\u001b[1;31mValueError\u001b[0m: operands could not be broadcast together with shapes (5,3) (4,) "
     ]
    }
   ],
   "source": [
    "c = np.arange(4)\n",
    "print(a)\n",
    "print(c)\n",
    "a + c"
   ]
  },
  {
   "cell_type": "markdown",
   "id": "8cd7279d-c34f-453d-9806-192680916298",
   "metadata": {},
   "source": [
    "<br>\n",
    "\n",
    "<a id='Miscellaneous'></a>\n",
    "# Miscellaneous"
   ]
  },
  {
   "cell_type": "markdown",
   "id": "efacee85-370e-42ef-96ec-18059bb45b31",
   "metadata": {},
   "source": [
    "<a id='Random Number Generation'></a>\n",
    "## Random Number Generation"
   ]
  },
  {
   "cell_type": "markdown",
   "id": "ad4a8cf0-d0a4-4b94-9764-2087f57c26aa",
   "metadata": {},
   "source": [
    "NumPy has module `numpy.random` which provides us with options for generating pseudo-random numbers. For instance, there are various distributions to sample from. It has options for creating distributions as well.\n",
    "\n",
    "Below we show some of them with examples.\n",
    "\n",
    "For more information, please refer to the documentations. https://numpy.org/doc/stable/reference/random/index.html#random-sampling-numpy-random"
   ]
  },
  {
   "cell_type": "markdown",
   "id": "4db2069c-843d-4bf0-a073-ab6e3ae96809",
   "metadata": {},
   "source": [
    "Generates a **random sample** from a given** 1-D **array:\n",
    "\n",
    "- `random.choice(a, size=None, replace=True, p=None)`"
   ]
  },
  {
   "cell_type": "code",
   "execution_count": 390,
   "id": "c4249dba-7f4b-45c7-8f65-ca2c8e9d8618",
   "metadata": {},
   "outputs": [
    {
     "data": {
      "text/plain": [
       "array(['salad', 'pizza', 'shakes'], dtype='<U6')"
      ]
     },
     "execution_count": 390,
     "metadata": {},
     "output_type": "execute_result"
    }
   ],
   "source": [
    "import numpy as np\n",
    "\n",
    "select = [\"pizza\", \"burger\", \"shakes\", \"fries\", \"salad\"]\n",
    "np.random.choice(select, 3, replace=False)"
   ]
  },
  {
   "cell_type": "markdown",
   "id": "41bf9385-c051-4387-b30f-f4cecf851532",
   "metadata": {},
   "source": [
    "Return **random integers** from low (inclusive) to high (exclusive).\n",
    "\n",
    "- `np.random.randint(low, high=None, size=None, dtype=int)`"
   ]
  },
  {
   "cell_type": "code",
   "execution_count": 391,
   "id": "d41c9f86-7bb0-4650-898d-5ebdeb136355",
   "metadata": {},
   "outputs": [
    {
     "data": {
      "text/plain": [
       "array([6, 9, 9])"
      ]
     },
     "execution_count": 391,
     "metadata": {},
     "output_type": "execute_result"
    }
   ],
   "source": [
    "np.random.randint(0,10,3)"
   ]
  },
  {
   "cell_type": "markdown",
   "id": "06e4f624-ae01-4f9e-a014-0e5a22f15b85",
   "metadata": {},
   "source": [
    "Draw samples from a **uniform distribution**.\n",
    "\n",
    "- `random.uniform(low=0.0, high=1.0, size=None)`"
   ]
  },
  {
   "cell_type": "code",
   "execution_count": 392,
   "id": "302ac426-2675-4f87-9e05-0628622dad87",
   "metadata": {},
   "outputs": [
    {
     "data": {
      "text/plain": [
       "array([4.01378752, 0.46400404, 2.59076274, 4.32510126, 4.14573454,\n",
       "       4.1480168 , 1.36524987, 0.29621601, 3.3526402 , 2.96532759])"
      ]
     },
     "execution_count": 392,
     "metadata": {},
     "output_type": "execute_result"
    }
   ],
   "source": [
    "np.random.uniform(0, 5, size=10)  "
   ]
  },
  {
   "cell_type": "markdown",
   "id": "77e9e1a2-1ae8-48c7-8be6-a73deea5fdef",
   "metadata": {},
   "source": [
    "Draw **random samples** from a normal (Gaussian) distribution.\n",
    "\n",
    "- `random.normal(loc=0.0, scale=1.0, size=None)`"
   ]
  },
  {
   "cell_type": "code",
   "execution_count": 393,
   "id": "4a1a13dc-5c3e-455a-b843-254d9b5f99af",
   "metadata": {},
   "outputs": [
    {
     "data": {
      "text/plain": [
       "array([-0.89191376,  1.73559653, -0.63110833, -0.90734336,  0.37475197,\n",
       "       -0.47338275, -0.45452082, -0.08533806,  1.50318838,  1.16064112])"
      ]
     },
     "execution_count": 393,
     "metadata": {},
     "output_type": "execute_result"
    }
   ],
   "source": [
    "np.random.normal(0, 1, size=10)"
   ]
  },
  {
   "cell_type": "markdown",
   "id": "a50c1e66-9fba-41b4-ba5b-4b8843bba115",
   "metadata": {},
   "source": [
    "If we need a number of **random values that sum up to 1** we can draw samples from a Dirichlet distribution.\n",
    "- `random.dirichlet(alpha, size=None)`"
   ]
  },
  {
   "cell_type": "code",
   "execution_count": 394,
   "id": "55059e91-4f12-4079-b216-21c7c5ab96c7",
   "metadata": {},
   "outputs": [
    {
     "data": {
      "text/plain": [
       "array([[0.37501826, 0.62498174],\n",
       "       [0.76726182, 0.23273818],\n",
       "       [0.86234396, 0.13765604],\n",
       "       [0.94835706, 0.05164294],\n",
       "       [0.89495653, 0.10504347],\n",
       "       [0.50758189, 0.49241811],\n",
       "       [0.28799958, 0.71200042],\n",
       "       [0.46718013, 0.53281987],\n",
       "       [0.9120397 , 0.0879603 ],\n",
       "       [0.25625963, 0.74374037]])"
      ]
     },
     "execution_count": 394,
     "metadata": {},
     "output_type": "execute_result"
    }
   ],
   "source": [
    "# Each of the 10 rows will sum up to exactly 1, while the average of each column should be 0.5 (over infinite samples)\n",
    "np.random.dirichlet((1, 1), 10)"
   ]
  },
  {
   "cell_type": "markdown",
   "id": "b55e9a74-aa1a-4e58-98d6-12ae955d1f4d",
   "metadata": {},
   "source": [
    "In some cases, you may want the generated random numbers to be the same every time you run your program. In that case, you can set a seed like this before generating."
   ]
  },
  {
   "cell_type": "code",
   "execution_count": 395,
   "id": "e6d359e3-e3e4-46f2-8ba9-2fba6672531b",
   "metadata": {},
   "outputs": [
    {
     "data": {
      "text/plain": [
       "array([0.65358959, 0.11500694, 0.95028286, 0.4821914 , 0.87247454,\n",
       "       0.21233268, 0.04070962, 0.39719446, 0.2331322 , 0.84174072])"
      ]
     },
     "execution_count": 395,
     "metadata": {},
     "output_type": "execute_result"
    }
   ],
   "source": [
    "# If using seed(any number) before producing random numbers, \n",
    "# it will produce the same number all the time. \n",
    "np.random.seed(1000)\n",
    "np.random.uniform(0, 1, size=10)"
   ]
  },
  {
   "cell_type": "markdown",
   "id": "279b0f3e-ff31-45f8-89e0-b7c63609d6d0",
   "metadata": {},
   "source": [
    "It is also possible to shuffle an array in place, with numpy.random.shuffle.\n",
    "\n",
    "If we want to return a copy of the array shuffled, numpy.random.permutation gets the job done!"
   ]
  },
  {
   "cell_type": "code",
   "execution_count": 396,
   "id": "017c8077-6589-4ac0-baa9-2875bf674fbc",
   "metadata": {},
   "outputs": [
    {
     "name": "stdout",
     "output_type": "stream",
     "text": [
      "the original array:\n",
      "[10  9  4 18  9 18 13 18 10 14]\n",
      "the original array after shuffling:\n",
      "[18 13 14  9  4 10 10 18  9 18]\n"
     ]
    }
   ],
   "source": [
    "array1 = np.random.randint(0,20,10)\n",
    "print(\"the original array:\")\n",
    "print(array1)\n",
    "\n",
    "np.random.shuffle(array1)\n",
    "print(\"the original array after shuffling:\")\n",
    "print(array1)"
   ]
  },
  {
   "cell_type": "code",
   "execution_count": 397,
   "id": "7a3c6ab7-0cd9-46d5-932f-422aeb016919",
   "metadata": {},
   "outputs": [
    {
     "name": "stdout",
     "output_type": "stream",
     "text": [
      "the original array:\n",
      "[ 7 16 11 17  0 13 18  1 11 14]\n",
      "the original array after permutation:\n",
      "[ 7 16 11 17  0 13 18  1 11 14]\n",
      "the shuffled array:\n",
      "[ 0 11 11  7 17 14 18 13 16  1]\n"
     ]
    }
   ],
   "source": [
    "array1 = np.random.randint(0,20,10)\n",
    "print(\"the original array:\")\n",
    "print(array1)\n",
    "\n",
    "array_2 = np.random.permutation(array1)\n",
    "print(\"the original array after permutation:\")\n",
    "print(array1)\n",
    "\n",
    "print(\"the shuffled array:\")\n",
    "print(array_2)"
   ]
  }
 ],
 "metadata": {
  "kernelspec": {
   "display_name": "Python 3 (ipykernel)",
   "language": "python",
   "name": "python3"
  },
  "language_info": {
   "codemirror_mode": {
    "name": "ipython",
    "version": 3
   },
   "file_extension": ".py",
   "mimetype": "text/x-python",
   "name": "python",
   "nbconvert_exporter": "python",
   "pygments_lexer": "ipython3",
   "version": "3.11.3"
  }
 },
 "nbformat": 4,
 "nbformat_minor": 5
}
